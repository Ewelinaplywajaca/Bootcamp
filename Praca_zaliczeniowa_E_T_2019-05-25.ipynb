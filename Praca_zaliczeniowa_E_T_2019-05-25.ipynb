{
 "cells": [
  {
   "cell_type": "markdown",
   "metadata": {
    "collapsed": false
   },
   "source": [
    "# Temat nr 2 (Happy Customer Bank)\n"
   ]
  },
  {
   "cell_type": "code",
   "execution_count": 395,
   "metadata": {
    "collapsed": true
   },
   "outputs": [],
   "source": [
    "import pandas as pd\n",
    "import numpy as np\n",
    "\n",
    "import matplotlib.pyplot as plt\n",
    "%matplotlib inline\n",
    "\n",
    "from warnings import filterwarnings\n",
    "filterwarnings(\"ignore\")\n",
    "\n",
    "from sklearn.preprocessing import LabelEncoder\n",
    "from sklearn.preprocessing import OneHotEncoder\n",
    "from sklearn.tree import DecisionTreeClassifier\n",
    "\n",
    "from sklearn.model_selection import train_test_split\n",
    "\n",
    "#Wczytanie danych (z zapisanego na dysku pliku)\n",
    "\n",
    "dateparse = lambda x: pd.datetime.strptime(x, '%d-%b-%y')\n",
    "dane = pd.read_csv(\"Train.csv\", sep=',', decimal='.', parse_dates = [\"Lead_Creation_Date\",\"DOB\"], \n",
    "                   date_parser=dateparse)  \n",
    "\n",
    "#Usuwamy niepotrzebne zmienne\n",
    "\n",
    "dane.drop([\"ID\"],axis=1, inplace=True) # Identyfikator nieniosący żadnej informacji\n",
    "dane.drop([\"LoggedIn\"],axis=1, inplace=True)# Zmienna do usunięcia zgodnie z treścią zadania"
   ]
  },
  {
   "cell_type": "code",
   "execution_count": 396,
   "metadata": {
    "collapsed": false,
    "scrolled": true
   },
   "outputs": [
    {
     "data": {
      "text/html": [
       "<div>\n",
       "<style scoped>\n",
       "    .dataframe tbody tr th:only-of-type {\n",
       "        vertical-align: middle;\n",
       "    }\n",
       "\n",
       "    .dataframe tbody tr th {\n",
       "        vertical-align: top;\n",
       "    }\n",
       "\n",
       "    .dataframe thead th {\n",
       "        text-align: right;\n",
       "    }\n",
       "</style>\n",
       "<table border=\"1\" class=\"dataframe\">\n",
       "  <thead>\n",
       "    <tr style=\"text-align: right;\">\n",
       "      <th></th>\n",
       "      <th>Gender</th>\n",
       "      <th>City</th>\n",
       "      <th>Monthly_Income</th>\n",
       "      <th>DOB</th>\n",
       "      <th>Lead_Creation_Date</th>\n",
       "      <th>Loan_Amount_Applied</th>\n",
       "      <th>Loan_Tenure_Applied</th>\n",
       "      <th>Existing_EMI</th>\n",
       "      <th>Employer_Name</th>\n",
       "      <th>Salary_Account</th>\n",
       "      <th>...</th>\n",
       "      <th>Loan_Tenure_Submitted</th>\n",
       "      <th>Interest_Rate</th>\n",
       "      <th>Processing_Fee</th>\n",
       "      <th>EMI_Loan_Submitted</th>\n",
       "      <th>Filled_Form</th>\n",
       "      <th>Device_Type</th>\n",
       "      <th>Var2</th>\n",
       "      <th>Source</th>\n",
       "      <th>Var4</th>\n",
       "      <th>Disbursed</th>\n",
       "    </tr>\n",
       "  </thead>\n",
       "  <tbody>\n",
       "    <tr>\n",
       "      <th>0</th>\n",
       "      <td>Female</td>\n",
       "      <td>Delhi</td>\n",
       "      <td>20000</td>\n",
       "      <td>1978-05-23</td>\n",
       "      <td>2015-05-15</td>\n",
       "      <td>300000.0</td>\n",
       "      <td>5.0</td>\n",
       "      <td>0.0</td>\n",
       "      <td>CYBOSOL</td>\n",
       "      <td>HDFC Bank</td>\n",
       "      <td>...</td>\n",
       "      <td>NaN</td>\n",
       "      <td>NaN</td>\n",
       "      <td>NaN</td>\n",
       "      <td>NaN</td>\n",
       "      <td>N</td>\n",
       "      <td>Web-browser</td>\n",
       "      <td>G</td>\n",
       "      <td>S122</td>\n",
       "      <td>1</td>\n",
       "      <td>0</td>\n",
       "    </tr>\n",
       "    <tr>\n",
       "      <th>1</th>\n",
       "      <td>Male</td>\n",
       "      <td>Mumbai</td>\n",
       "      <td>35000</td>\n",
       "      <td>1985-10-07</td>\n",
       "      <td>2015-05-04</td>\n",
       "      <td>200000.0</td>\n",
       "      <td>2.0</td>\n",
       "      <td>0.0</td>\n",
       "      <td>TATA CONSULTANCY SERVICES LTD (TCS)</td>\n",
       "      <td>ICICI Bank</td>\n",
       "      <td>...</td>\n",
       "      <td>2.0</td>\n",
       "      <td>13.25</td>\n",
       "      <td>NaN</td>\n",
       "      <td>6762.9</td>\n",
       "      <td>N</td>\n",
       "      <td>Web-browser</td>\n",
       "      <td>G</td>\n",
       "      <td>S122</td>\n",
       "      <td>3</td>\n",
       "      <td>0</td>\n",
       "    </tr>\n",
       "    <tr>\n",
       "      <th>2</th>\n",
       "      <td>Male</td>\n",
       "      <td>Panchkula</td>\n",
       "      <td>22500</td>\n",
       "      <td>1981-10-10</td>\n",
       "      <td>2015-05-19</td>\n",
       "      <td>600000.0</td>\n",
       "      <td>4.0</td>\n",
       "      <td>0.0</td>\n",
       "      <td>ALCHEMIST HOSPITALS LTD</td>\n",
       "      <td>State Bank of India</td>\n",
       "      <td>...</td>\n",
       "      <td>4.0</td>\n",
       "      <td>NaN</td>\n",
       "      <td>NaN</td>\n",
       "      <td>NaN</td>\n",
       "      <td>N</td>\n",
       "      <td>Web-browser</td>\n",
       "      <td>B</td>\n",
       "      <td>S143</td>\n",
       "      <td>1</td>\n",
       "      <td>0</td>\n",
       "    </tr>\n",
       "    <tr>\n",
       "      <th>3</th>\n",
       "      <td>Male</td>\n",
       "      <td>Saharsa</td>\n",
       "      <td>35000</td>\n",
       "      <td>1987-11-30</td>\n",
       "      <td>2015-05-09</td>\n",
       "      <td>1000000.0</td>\n",
       "      <td>5.0</td>\n",
       "      <td>0.0</td>\n",
       "      <td>BIHAR GOVERNMENT</td>\n",
       "      <td>State Bank of India</td>\n",
       "      <td>...</td>\n",
       "      <td>5.0</td>\n",
       "      <td>NaN</td>\n",
       "      <td>NaN</td>\n",
       "      <td>NaN</td>\n",
       "      <td>N</td>\n",
       "      <td>Web-browser</td>\n",
       "      <td>B</td>\n",
       "      <td>S143</td>\n",
       "      <td>3</td>\n",
       "      <td>0</td>\n",
       "    </tr>\n",
       "    <tr>\n",
       "      <th>4</th>\n",
       "      <td>Male</td>\n",
       "      <td>Bengaluru</td>\n",
       "      <td>100000</td>\n",
       "      <td>1984-02-17</td>\n",
       "      <td>2015-05-20</td>\n",
       "      <td>500000.0</td>\n",
       "      <td>2.0</td>\n",
       "      <td>25000.0</td>\n",
       "      <td>GLOBAL EDGE SOFTWARE</td>\n",
       "      <td>HDFC Bank</td>\n",
       "      <td>...</td>\n",
       "      <td>2.0</td>\n",
       "      <td>NaN</td>\n",
       "      <td>NaN</td>\n",
       "      <td>NaN</td>\n",
       "      <td>N</td>\n",
       "      <td>Web-browser</td>\n",
       "      <td>B</td>\n",
       "      <td>S134</td>\n",
       "      <td>3</td>\n",
       "      <td>0</td>\n",
       "    </tr>\n",
       "  </tbody>\n",
       "</table>\n",
       "<p>5 rows × 24 columns</p>\n",
       "</div>"
      ],
      "text/plain": [
       "   Gender       City  Monthly_Income        DOB Lead_Creation_Date  \\\n",
       "0  Female      Delhi           20000 1978-05-23         2015-05-15   \n",
       "1    Male     Mumbai           35000 1985-10-07         2015-05-04   \n",
       "2    Male  Panchkula           22500 1981-10-10         2015-05-19   \n",
       "3    Male    Saharsa           35000 1987-11-30         2015-05-09   \n",
       "4    Male  Bengaluru          100000 1984-02-17         2015-05-20   \n",
       "\n",
       "   Loan_Amount_Applied  Loan_Tenure_Applied  Existing_EMI  \\\n",
       "0             300000.0                  5.0           0.0   \n",
       "1             200000.0                  2.0           0.0   \n",
       "2             600000.0                  4.0           0.0   \n",
       "3            1000000.0                  5.0           0.0   \n",
       "4             500000.0                  2.0       25000.0   \n",
       "\n",
       "                         Employer_Name       Salary_Account  ...  \\\n",
       "0                              CYBOSOL            HDFC Bank  ...   \n",
       "1  TATA CONSULTANCY SERVICES LTD (TCS)           ICICI Bank  ...   \n",
       "2              ALCHEMIST HOSPITALS LTD  State Bank of India  ...   \n",
       "3                     BIHAR GOVERNMENT  State Bank of India  ...   \n",
       "4                 GLOBAL EDGE SOFTWARE            HDFC Bank  ...   \n",
       "\n",
       "  Loan_Tenure_Submitted  Interest_Rate Processing_Fee  EMI_Loan_Submitted  \\\n",
       "0                   NaN            NaN            NaN                 NaN   \n",
       "1                   2.0          13.25            NaN              6762.9   \n",
       "2                   4.0            NaN            NaN                 NaN   \n",
       "3                   5.0            NaN            NaN                 NaN   \n",
       "4                   2.0            NaN            NaN                 NaN   \n",
       "\n",
       "   Filled_Form  Device_Type  Var2  Source Var4 Disbursed  \n",
       "0            N  Web-browser     G    S122    1         0  \n",
       "1            N  Web-browser     G    S122    3         0  \n",
       "2            N  Web-browser     B    S143    1         0  \n",
       "3            N  Web-browser     B    S143    3         0  \n",
       "4            N  Web-browser     B    S134    3         0  \n",
       "\n",
       "[5 rows x 24 columns]"
      ]
     },
     "execution_count": 396,
     "metadata": {},
     "output_type": "execute_result"
    }
   ],
   "source": [
    "dane.head() #Puste wartości z pliku zostały wczytane jako np.NaN - OK"
   ]
  },
  {
   "cell_type": "markdown",
   "metadata": {},
   "source": [
    "## 1. Poglądowa analiza struktury pliku"
   ]
  },
  {
   "cell_type": "code",
   "execution_count": 397,
   "metadata": {
    "collapsed": false,
    "scrolled": false
   },
   "outputs": [
    {
     "name": "stdout",
     "output_type": "stream",
     "text": [
      "Nazwy zmiennych:\n",
      " Index(['Gender', 'City', 'Monthly_Income', 'DOB', 'Lead_Creation_Date',\n",
      "       'Loan_Amount_Applied', 'Loan_Tenure_Applied', 'Existing_EMI',\n",
      "       'Employer_Name', 'Salary_Account', 'Mobile_Verified', 'Var5', 'Var1',\n",
      "       'Loan_Amount_Submitted', 'Loan_Tenure_Submitted', 'Interest_Rate',\n",
      "       'Processing_Fee', 'EMI_Loan_Submitted', 'Filled_Form', 'Device_Type',\n",
      "       'Var2', 'Source', 'Var4', 'Disbursed'],\n",
      "      dtype='object')\n",
      "\n",
      "Liczba zmiennych objaśniająch: 23\n"
     ]
    }
   ],
   "source": [
    "print(\"Nazwy zmiennych:\\n\",dane.columns)\n",
    "print(\"\\nLiczba zmiennych objaśniająch:\",dane.columns.shape[0]-1)# Wyłączam zmienną objaśnianą Disbursed"
   ]
  },
  {
   "cell_type": "code",
   "execution_count": 398,
   "metadata": {
    "collapsed": true
   },
   "outputs": [],
   "source": [
    "# 1. Gender- Sex\n",
    "# 2. City - Current City\n",
    "# 3. Monthly_Income - Monthly Income in rupees\n",
    "# 4. DOB - Date of Birth\n",
    "# 5. Lead_Creation_Date - Lead Created on date\n",
    "# 6. Loan_Amount_Applied - Loan Amount Requested (INR)\n",
    "# 7. Loan_Tenure_Applied - Loan Tenure Requested (in years)\n",
    "# 8. Existing_EMI - EMI of Existing Loans (INR)\n",
    "# 9. Employer_Name - Employer Name\n",
    "# 10. Salary_Account- Salary account with Bank\n",
    "# 11. Mobile_Verified - Mobile Verified (Y/N)\n",
    "# 12. Var5- Continuous classified variable\n",
    "# 13. Var1- Categorical variable with multiple levels\n",
    "# 14. Loan_Amount_Submitted- Loan Amount Revised and Selected after seeing Eligibility\n",
    "# 15. Loan_Tenure_Submitted- Loan Tenure Revised and Selected after seeing Eligibility (Years)\n",
    "# 16. Interest_Rate- Interest Rate of Submitted Loan Amount\n",
    "# 17. Processing_Fee- Processing Fee of Submitted Loan Amount (INR)\n",
    "# 18. EMI_Loan_Submitted- EMI of Submitted Loan Amount (INR)\n",
    "# 19. Filled_Form- Filled Application form post quote\n",
    "# 20. Device_Type- Device from which application was made (Browser/ Mobile)\n",
    "# 21. Var2- Categorical Variable with multiple Levels\n",
    "# 22. Source- Categorical Variable with multiple Levels\n",
    "# 23 Var4- Categorical Variable with multiple Levels"
   ]
  },
  {
   "cell_type": "code",
   "execution_count": 399,
   "metadata": {
    "collapsed": false,
    "scrolled": true
   },
   "outputs": [
    {
     "name": "stdout",
     "output_type": "stream",
     "text": [
      "Wymiar danych: (87020, 24) \n",
      "\n",
      "<class 'pandas.core.frame.DataFrame'>\n",
      "RangeIndex: 87020 entries, 0 to 87019\n",
      "Data columns (total 24 columns):\n",
      "Gender                   87020 non-null object\n",
      "City                     86017 non-null object\n",
      "Monthly_Income           87020 non-null int64\n",
      "DOB                      87020 non-null datetime64[ns]\n",
      "Lead_Creation_Date       87020 non-null datetime64[ns]\n",
      "Loan_Amount_Applied      86949 non-null float64\n",
      "Loan_Tenure_Applied      86949 non-null float64\n",
      "Existing_EMI             86949 non-null float64\n",
      "Employer_Name            86949 non-null object\n",
      "Salary_Account           75256 non-null object\n",
      "Mobile_Verified          87020 non-null object\n",
      "Var5                     87020 non-null int64\n",
      "Var1                     87020 non-null object\n",
      "Loan_Amount_Submitted    52407 non-null float64\n",
      "Loan_Tenure_Submitted    52407 non-null float64\n",
      "Interest_Rate            27726 non-null float64\n",
      "Processing_Fee           27420 non-null float64\n",
      "EMI_Loan_Submitted       27726 non-null float64\n",
      "Filled_Form              87020 non-null object\n",
      "Device_Type              87020 non-null object\n",
      "Var2                     87020 non-null object\n",
      "Source                   87020 non-null object\n",
      "Var4                     87020 non-null int64\n",
      "Disbursed                87020 non-null int64\n",
      "dtypes: datetime64[ns](2), float64(8), int64(4), object(10)\n",
      "memory usage: 15.9+ MB\n",
      "None\n"
     ]
    }
   ],
   "source": [
    "print(\"Wymiar danych:\",dane.shape,\"\\n\")\n",
    "print(dane.info())"
   ]
  },
  {
   "cell_type": "code",
   "execution_count": 400,
   "metadata": {
    "collapsed": false,
    "scrolled": true
   },
   "outputs": [
    {
     "name": "stdout",
     "output_type": "stream",
     "text": [
      "Struktura zmiennej objaśnianej Disbursed:\n",
      "\n",
      "0    85747\n",
      "1     1273\n",
      "Name: Disbursed, dtype: int64\n",
      "\n",
      "Średnia: 0.01462882096069869\n"
     ]
    }
   ],
   "source": [
    "print(\"Struktura zmiennej objaśnianej Disbursed:\\n\")\n",
    "print(dane.Disbursed.value_counts())\n",
    "print(\"\\nŚrednia:\",dane.Disbursed.mean())"
   ]
  },
  {
   "cell_type": "markdown",
   "metadata": {},
   "source": [
    "## 2. Przekształcenia zmiennych na całym zbiorze"
   ]
  },
  {
   "cell_type": "code",
   "execution_count": 401,
   "metadata": {
    "collapsed": false
   },
   "outputs": [],
   "source": [
    "# Aby nie powielać tych samych kodów (na próbce treningowej oraz testowej), tam gdzie jest to możliwe\n",
    "# z merytorycznego punktu widzenia, pewne przekształcenia zmiennych dokonuję na całym zbiorze"
   ]
  },
  {
   "cell_type": "markdown",
   "metadata": {},
   "source": [
    "### DOB"
   ]
  },
  {
   "cell_type": "code",
   "execution_count": 402,
   "metadata": {
    "collapsed": false
   },
   "outputs": [
    {
     "name": "stdout",
     "output_type": "stream",
     "text": [
      "Zakres DOB przed modyfikacją: 1969-01-01 00:00:00 2068-12-29 00:00:00\n",
      "Zakres DOB w latach po modyfikacji: 1932.0 1997.0\n",
      "Zakres AGE w latach: 18.0 83.0\n",
      "Liczba NULLi w zmiennej AGE: 18\n"
     ]
    }
   ],
   "source": [
    "# Zmienną DOB (brak NULLi) zamieniam na zmienną AGE (w latach) przy użyciu zmiennej Lead_Creation_Date\n",
    "# Zmienna DOB posiada natomiast błędne wartości (w pliku csv pojawiają się daty urodzenia z 2015 roku\n",
    "# oraz roku 2029). Podejrzane dane zamieniam na np.NaN\n",
    "# Dodatkowo po wczytaniu zmiennej DOB do ramki pandas cześć dat 19XY wczytuje się błędnie w konwencji 20XY, \n",
    "# stąd wymagane poniżej przekształcenia:\n",
    "\n",
    "print(\"Zakres DOB przed modyfikacją:\",min(dane[\"DOB\"]),max(dane[\"DOB\"]))\n",
    "\n",
    "dane[\"DOB\"] = [x.year for x in dane[\"DOB\"]]\n",
    "dane[\"DOB\"] = np.where(dane.DOB <2000, dane[\"DOB\"], dane[\"DOB\"]-100)\n",
    "dane['DOB'] = np.where(dane.DOB >1930, dane['DOB'], np.NaN)\n",
    "dane[\"AGE\"]= 2015 - dane[\"DOB\"] # dla wszystkich rekordów rok(Lead_Creation_Date) = 2015\n",
    "\n",
    "print(\"Zakres DOB w latach po modyfikacji:\",min(dane[\"DOB\"]),max(dane[\"DOB\"]))\n",
    "print(\"Zakres AGE w latach:\",min(dane[\"AGE\"]),max(dane[\"AGE\"])) # wygląda OK\n",
    "print (\"Liczba NULLi w zmiennej AGE:\", dane.AGE.isnull().sum())"
   ]
  },
  {
   "cell_type": "code",
   "execution_count": 403,
   "metadata": {
    "collapsed": true
   },
   "outputs": [],
   "source": [
    "# Usuwam niepotrzebne, oryginalne zmienne\n",
    "dane.drop([\"Lead_Creation_Date\"],axis=1, inplace=True)\n",
    "dane.drop([\"DOB\"],axis=1, inplace=True)"
   ]
  },
  {
   "cell_type": "markdown",
   "metadata": {},
   "source": [
    "### Gender"
   ]
  },
  {
   "cell_type": "code",
   "execution_count": 404,
   "metadata": {
    "collapsed": true
   },
   "outputs": [],
   "source": [
    "# Zmienna nie posiada NULLi. \n",
    "dane['Gender'] = dane.Gender.replace({'Male':0, 'Female':1})"
   ]
  },
  {
   "cell_type": "markdown",
   "metadata": {
    "collapsed": false
   },
   "source": [
    "## 3. Podział danych na próbkę uczącą i treningową\n"
   ]
  },
  {
   "cell_type": "code",
   "execution_count": 405,
   "metadata": {
    "collapsed": true
   },
   "outputs": [],
   "source": [
    "y = dane['Disbursed']\n",
    "X = dane\n",
    "X.drop([\"Disbursed\"],axis=1, inplace=True)\n",
    "X_train, X_test, y_train, y_test = train_test_split(X,y,test_size=0.2, random_state=123)"
   ]
  },
  {
   "cell_type": "code",
   "execution_count": 406,
   "metadata": {
    "collapsed": false,
    "scrolled": false
   },
   "outputs": [
    {
     "name": "stdout",
     "output_type": "stream",
     "text": [
      "ZBIÓR TRENINGOWY:\n",
      "\n",
      "Struktura zmiennej objaśnianej Disbursed:\n",
      "\n",
      "0    68611\n",
      "1     1005\n",
      "Name: Disbursed, dtype: int64\n",
      "\n",
      "Średnia: 0.014436336474373708\n",
      "ZBIÓR TESTOWY:\n",
      "\n",
      "Struktura zmiennej objaśnianej Disbursed:\n",
      "\n",
      "0    17136\n",
      "1      268\n",
      "Name: Disbursed, dtype: int64\n",
      "\n",
      "Średnia: 0.015398758905998622\n"
     ]
    }
   ],
   "source": [
    "\n",
    "print (\"ZBIÓR TRENINGOWY:\\n\")\n",
    "print(\"Struktura zmiennej objaśnianej Disbursed:\\n\")\n",
    "print(y_train.value_counts())\n",
    "print(\"\\nŚrednia:\",y_train.mean())\n",
    "\n",
    "print (\"ZBIÓR TESTOWY:\\n\")\n",
    "print(\"Struktura zmiennej objaśnianej Disbursed:\\n\")\n",
    "print(y_test.value_counts())\n",
    "print(\"\\nŚrednia:\",y_test.mean())\n",
    "\n",
    "# WNIOSKI:\n",
    "# Analiza ilości 1-dynek w zbiorze treningowym i testowym: OK, zachowane proporcje z całego zbioru\n",
    "# Warto rozważyć na etapie modelowania zastosowanie techniki dla niezbilansowanych klas"
   ]
  },
  {
   "cell_type": "code",
   "execution_count": 407,
   "metadata": {
    "collapsed": false,
    "scrolled": true
   },
   "outputs": [
    {
     "data": {
      "text/plain": [
       "(69616, 22)"
      ]
     },
     "execution_count": 407,
     "metadata": {},
     "output_type": "execute_result"
    }
   ],
   "source": [
    "X_train.shape"
   ]
  },
  {
   "cell_type": "code",
   "execution_count": 408,
   "metadata": {
    "collapsed": false
   },
   "outputs": [
    {
     "data": {
      "text/plain": [
       "(17404, 22)"
      ]
     },
     "execution_count": 408,
     "metadata": {},
     "output_type": "execute_result"
    }
   ],
   "source": [
    "X_test.shape"
   ]
  },
  {
   "cell_type": "markdown",
   "metadata": {},
   "source": [
    "## 4. Analiza zmiennych typu Object na danych treningowych"
   ]
  },
  {
   "cell_type": "markdown",
   "metadata": {},
   "source": [
    "### City"
   ]
  },
  {
   "cell_type": "code",
   "execution_count": 409,
   "metadata": {
    "collapsed": false,
    "scrolled": true
   },
   "outputs": [
    {
     "data": {
      "text/plain": [
       "Delhi                  10068\n",
       "Bengaluru               8719\n",
       "Mumbai                  8664\n",
       "Hyderabad               5843\n",
       "Chennai                 5516\n",
       "Pune                    4137\n",
       "Kolkata                 2346\n",
       "Ahmedabad               1411\n",
       "Jaipur                  1048\n",
       "Gurgaon                  954\n",
       "Coimbatore               923\n",
       "Thane                    709\n",
       "Chandigarh               694\n",
       "Surat                    622\n",
       "Visakhapatnam            604\n",
       "Indore                   574\n",
       "Vadodara                 490\n",
       "Lucknow                  474\n",
       "Nagpur                   471\n",
       "Ghaziabad                449\n",
       "Bhopal                   416\n",
       "Kochi                    397\n",
       "Faridabad                362\n",
       "Patna                    359\n",
       "Madurai                  310\n",
       "Noida                    296\n",
       "Gautam Buddha Nagar      267\n",
       "Dehradun                 246\n",
       "Raipur                   224\n",
       "Bhubaneswar              223\n",
       "                       ...  \n",
       "Sheopur                    1\n",
       "Golaghat                   1\n",
       "Poonch                     1\n",
       "Madhepura                  1\n",
       "Lalitpur                   1\n",
       "North Cachar Hills         1\n",
       "Sawai Madhopur             1\n",
       "Chitradurga                1\n",
       "VIRPUR                     1\n",
       "Nabha                      1\n",
       "Hazaribagh                 1\n",
       "KAMREJ                     1\n",
       "Giridih                    1\n",
       "Kupwara                    1\n",
       "Mainpuri                   1\n",
       "Kabri Anglong              1\n",
       "BHACHAU                    1\n",
       "Siruguppa                  1\n",
       "Narsinghpur                1\n",
       "Bomdila                    1\n",
       "Modasa                     1\n",
       "Dhalai                     1\n",
       "Champawat                  1\n",
       "Tonk                       1\n",
       "Upper Subansiri            1\n",
       "Dantewada                  1\n",
       "Kokrajhar                  1\n",
       "NALIYA                     1\n",
       "Kannauj                    1\n",
       "Mandla                     1\n",
       "Name: City, Length: 684, dtype: int64"
      ]
     },
     "execution_count": 409,
     "metadata": {},
     "output_type": "execute_result"
    }
   ],
   "source": [
    "X_train.City.value_counts()"
   ]
  },
  {
   "cell_type": "code",
   "execution_count": 410,
   "metadata": {
    "collapsed": false
   },
   "outputs": [
    {
     "name": "stdout",
     "output_type": "stream",
     "text": [
      "Liczba NULLi przed uzupełnieniem braków: 804\n",
      "Liczba NULLi po uzupełnieniu braków: 0\n"
     ]
    }
   ],
   "source": [
    "print(\"Liczba NULLi przed uzupełnieniem braków:\", X_train.City.isnull().sum()) \n",
    "X_train[\"City\"] = X_train.City.fillna(\"MISSING\") # uzupełniamy NULLe wartością \"MISSING\"\n",
    "print(\"Liczba NULLi po uzupełnieniu braków:\", X_train.City.isnull().sum()) #OK"
   ]
  },
  {
   "cell_type": "code",
   "execution_count": 411,
   "metadata": {
    "collapsed": false,
    "scrolled": true
   },
   "outputs": [
    {
     "data": {
      "text/plain": [
       "Delhi                  10068\n",
       "Bengaluru               8719\n",
       "Mumbai                  8664\n",
       "Hyderabad               5843\n",
       "Chennai                 5516\n",
       "Pune                    4137\n",
       "Kolkata                 2346\n",
       "Ahmedabad               1411\n",
       "Jaipur                  1048\n",
       "Gurgaon                  954\n",
       "Coimbatore               923\n",
       "MISSING                  804\n",
       "Thane                    709\n",
       "Chandigarh               694\n",
       "Surat                    622\n",
       "Visakhapatnam            604\n",
       "Indore                   574\n",
       "Vadodara                 490\n",
       "Lucknow                  474\n",
       "Nagpur                   471\n",
       "Ghaziabad                449\n",
       "Bhopal                   416\n",
       "Kochi                    397\n",
       "Faridabad                362\n",
       "Patna                    359\n",
       "Madurai                  310\n",
       "Noida                    296\n",
       "Gautam Buddha Nagar      267\n",
       "Dehradun                 246\n",
       "Raipur                   224\n",
       "                       ...  \n",
       "SAYAN                      1\n",
       "Sheopur                    1\n",
       "Golaghat                   1\n",
       "Madhepura                  1\n",
       "Lalitpur                   1\n",
       "North Cachar Hills         1\n",
       "BHACHAU                    1\n",
       "Chitradurga                1\n",
       "VIRPUR                     1\n",
       "Nabha                      1\n",
       "Hazaribagh                 1\n",
       "Giridih                    1\n",
       "Kupwara                    1\n",
       "Mainpuri                   1\n",
       "Sawai Madhopur             1\n",
       "Kabri Anglong              1\n",
       "KAMREJ                     1\n",
       "Modasa                     1\n",
       "Narsinghpur                1\n",
       "Bomdila                    1\n",
       "Siruguppa                  1\n",
       "Dhalai                     1\n",
       "Champawat                  1\n",
       "Tonk                       1\n",
       "Kokrajhar                  1\n",
       "Upper Subansiri            1\n",
       "Dantewada                  1\n",
       "NALIYA                     1\n",
       "Kannauj                    1\n",
       "Mandla                     1\n",
       "Name: City, Length: 685, dtype: int64"
      ]
     },
     "execution_count": 411,
     "metadata": {},
     "output_type": "execute_result"
    }
   ],
   "source": [
    "# Po uzupełnieniu braków danych\n",
    "X_train.City.value_counts()"
   ]
  },
  {
   "cell_type": "code",
   "execution_count": 412,
   "metadata": {
    "collapsed": false,
    "scrolled": false
   },
   "outputs": [
    {
     "data": {
      "text/html": [
       "<div>\n",
       "<style scoped>\n",
       "    .dataframe tbody tr th:only-of-type {\n",
       "        vertical-align: middle;\n",
       "    }\n",
       "\n",
       "    .dataframe tbody tr th {\n",
       "        vertical-align: top;\n",
       "    }\n",
       "\n",
       "    .dataframe thead th {\n",
       "        text-align: right;\n",
       "    }\n",
       "</style>\n",
       "<table border=\"1\" class=\"dataframe\">\n",
       "  <thead>\n",
       "    <tr style=\"text-align: right;\">\n",
       "      <th>City-group</th>\n",
       "      <th>10</th>\n",
       "      <th>11</th>\n",
       "      <th>12</th>\n",
       "      <th>13</th>\n",
       "      <th>14</th>\n",
       "      <th>15</th>\n",
       "      <th>16</th>\n",
       "      <th>17</th>\n",
       "      <th>18</th>\n",
       "      <th>9</th>\n",
       "    </tr>\n",
       "    <tr>\n",
       "      <th>City</th>\n",
       "      <th></th>\n",
       "      <th></th>\n",
       "      <th></th>\n",
       "      <th></th>\n",
       "      <th></th>\n",
       "      <th></th>\n",
       "      <th></th>\n",
       "      <th></th>\n",
       "      <th></th>\n",
       "      <th></th>\n",
       "    </tr>\n",
       "  </thead>\n",
       "  <tbody>\n",
       "    <tr>\n",
       "      <th>ADIPUR</th>\n",
       "      <td>0</td>\n",
       "      <td>0</td>\n",
       "      <td>0</td>\n",
       "      <td>0</td>\n",
       "      <td>0</td>\n",
       "      <td>0</td>\n",
       "      <td>0</td>\n",
       "      <td>0</td>\n",
       "      <td>0</td>\n",
       "      <td>7</td>\n",
       "    </tr>\n",
       "    <tr>\n",
       "      <th>AHMEDB</th>\n",
       "      <td>0</td>\n",
       "      <td>0</td>\n",
       "      <td>0</td>\n",
       "      <td>0</td>\n",
       "      <td>0</td>\n",
       "      <td>0</td>\n",
       "      <td>0</td>\n",
       "      <td>0</td>\n",
       "      <td>0</td>\n",
       "      <td>5</td>\n",
       "    </tr>\n",
       "    <tr>\n",
       "      <th>AMALSAD</th>\n",
       "      <td>0</td>\n",
       "      <td>0</td>\n",
       "      <td>0</td>\n",
       "      <td>0</td>\n",
       "      <td>0</td>\n",
       "      <td>0</td>\n",
       "      <td>0</td>\n",
       "      <td>0</td>\n",
       "      <td>0</td>\n",
       "      <td>1</td>\n",
       "    </tr>\n",
       "    <tr>\n",
       "      <th>ANJAR</th>\n",
       "      <td>0</td>\n",
       "      <td>0</td>\n",
       "      <td>0</td>\n",
       "      <td>0</td>\n",
       "      <td>0</td>\n",
       "      <td>0</td>\n",
       "      <td>0</td>\n",
       "      <td>0</td>\n",
       "      <td>0</td>\n",
       "      <td>6</td>\n",
       "    </tr>\n",
       "    <tr>\n",
       "      <th>Abohar</th>\n",
       "      <td>0</td>\n",
       "      <td>0</td>\n",
       "      <td>0</td>\n",
       "      <td>0</td>\n",
       "      <td>0</td>\n",
       "      <td>0</td>\n",
       "      <td>0</td>\n",
       "      <td>0</td>\n",
       "      <td>0</td>\n",
       "      <td>4</td>\n",
       "    </tr>\n",
       "    <tr>\n",
       "      <th>Adilabad</th>\n",
       "      <td>0</td>\n",
       "      <td>0</td>\n",
       "      <td>0</td>\n",
       "      <td>0</td>\n",
       "      <td>0</td>\n",
       "      <td>0</td>\n",
       "      <td>0</td>\n",
       "      <td>0</td>\n",
       "      <td>0</td>\n",
       "      <td>23</td>\n",
       "    </tr>\n",
       "    <tr>\n",
       "      <th>Agartala</th>\n",
       "      <td>0</td>\n",
       "      <td>0</td>\n",
       "      <td>0</td>\n",
       "      <td>0</td>\n",
       "      <td>0</td>\n",
       "      <td>0</td>\n",
       "      <td>0</td>\n",
       "      <td>0</td>\n",
       "      <td>0</td>\n",
       "      <td>34</td>\n",
       "    </tr>\n",
       "    <tr>\n",
       "      <th>Agra</th>\n",
       "      <td>0</td>\n",
       "      <td>0</td>\n",
       "      <td>0</td>\n",
       "      <td>0</td>\n",
       "      <td>0</td>\n",
       "      <td>0</td>\n",
       "      <td>0</td>\n",
       "      <td>0</td>\n",
       "      <td>0</td>\n",
       "      <td>169</td>\n",
       "    </tr>\n",
       "    <tr>\n",
       "      <th>Ahmedabad</th>\n",
       "      <td>0</td>\n",
       "      <td>1411</td>\n",
       "      <td>0</td>\n",
       "      <td>0</td>\n",
       "      <td>0</td>\n",
       "      <td>0</td>\n",
       "      <td>0</td>\n",
       "      <td>0</td>\n",
       "      <td>0</td>\n",
       "      <td>0</td>\n",
       "    </tr>\n",
       "    <tr>\n",
       "      <th>Ahmednagar</th>\n",
       "      <td>0</td>\n",
       "      <td>0</td>\n",
       "      <td>0</td>\n",
       "      <td>0</td>\n",
       "      <td>0</td>\n",
       "      <td>0</td>\n",
       "      <td>0</td>\n",
       "      <td>0</td>\n",
       "      <td>0</td>\n",
       "      <td>42</td>\n",
       "    </tr>\n",
       "    <tr>\n",
       "      <th>Aizawl</th>\n",
       "      <td>0</td>\n",
       "      <td>0</td>\n",
       "      <td>0</td>\n",
       "      <td>0</td>\n",
       "      <td>0</td>\n",
       "      <td>0</td>\n",
       "      <td>0</td>\n",
       "      <td>0</td>\n",
       "      <td>0</td>\n",
       "      <td>2</td>\n",
       "    </tr>\n",
       "    <tr>\n",
       "      <th>Ajmer</th>\n",
       "      <td>0</td>\n",
       "      <td>0</td>\n",
       "      <td>0</td>\n",
       "      <td>0</td>\n",
       "      <td>0</td>\n",
       "      <td>0</td>\n",
       "      <td>0</td>\n",
       "      <td>0</td>\n",
       "      <td>0</td>\n",
       "      <td>33</td>\n",
       "    </tr>\n",
       "    <tr>\n",
       "      <th>Akola</th>\n",
       "      <td>0</td>\n",
       "      <td>0</td>\n",
       "      <td>0</td>\n",
       "      <td>0</td>\n",
       "      <td>0</td>\n",
       "      <td>0</td>\n",
       "      <td>0</td>\n",
       "      <td>0</td>\n",
       "      <td>0</td>\n",
       "      <td>13</td>\n",
       "    </tr>\n",
       "    <tr>\n",
       "      <th>Alappuzha</th>\n",
       "      <td>0</td>\n",
       "      <td>0</td>\n",
       "      <td>0</td>\n",
       "      <td>0</td>\n",
       "      <td>0</td>\n",
       "      <td>0</td>\n",
       "      <td>0</td>\n",
       "      <td>0</td>\n",
       "      <td>0</td>\n",
       "      <td>28</td>\n",
       "    </tr>\n",
       "    <tr>\n",
       "      <th>Aligarh</th>\n",
       "      <td>0</td>\n",
       "      <td>0</td>\n",
       "      <td>0</td>\n",
       "      <td>0</td>\n",
       "      <td>0</td>\n",
       "      <td>0</td>\n",
       "      <td>0</td>\n",
       "      <td>0</td>\n",
       "      <td>0</td>\n",
       "      <td>18</td>\n",
       "    </tr>\n",
       "    <tr>\n",
       "      <th>Allahabad</th>\n",
       "      <td>0</td>\n",
       "      <td>0</td>\n",
       "      <td>0</td>\n",
       "      <td>0</td>\n",
       "      <td>0</td>\n",
       "      <td>0</td>\n",
       "      <td>0</td>\n",
       "      <td>0</td>\n",
       "      <td>0</td>\n",
       "      <td>106</td>\n",
       "    </tr>\n",
       "    <tr>\n",
       "      <th>Alleppey</th>\n",
       "      <td>0</td>\n",
       "      <td>0</td>\n",
       "      <td>0</td>\n",
       "      <td>0</td>\n",
       "      <td>0</td>\n",
       "      <td>0</td>\n",
       "      <td>0</td>\n",
       "      <td>0</td>\n",
       "      <td>0</td>\n",
       "      <td>8</td>\n",
       "    </tr>\n",
       "    <tr>\n",
       "      <th>Almora</th>\n",
       "      <td>0</td>\n",
       "      <td>0</td>\n",
       "      <td>0</td>\n",
       "      <td>0</td>\n",
       "      <td>0</td>\n",
       "      <td>0</td>\n",
       "      <td>0</td>\n",
       "      <td>0</td>\n",
       "      <td>0</td>\n",
       "      <td>5</td>\n",
       "    </tr>\n",
       "    <tr>\n",
       "      <th>Aluva</th>\n",
       "      <td>0</td>\n",
       "      <td>0</td>\n",
       "      <td>0</td>\n",
       "      <td>0</td>\n",
       "      <td>0</td>\n",
       "      <td>0</td>\n",
       "      <td>0</td>\n",
       "      <td>0</td>\n",
       "      <td>0</td>\n",
       "      <td>17</td>\n",
       "    </tr>\n",
       "    <tr>\n",
       "      <th>Alwar</th>\n",
       "      <td>0</td>\n",
       "      <td>0</td>\n",
       "      <td>0</td>\n",
       "      <td>0</td>\n",
       "      <td>0</td>\n",
       "      <td>0</td>\n",
       "      <td>0</td>\n",
       "      <td>0</td>\n",
       "      <td>0</td>\n",
       "      <td>70</td>\n",
       "    </tr>\n",
       "    <tr>\n",
       "      <th>Amareli</th>\n",
       "      <td>0</td>\n",
       "      <td>0</td>\n",
       "      <td>0</td>\n",
       "      <td>0</td>\n",
       "      <td>0</td>\n",
       "      <td>0</td>\n",
       "      <td>0</td>\n",
       "      <td>0</td>\n",
       "      <td>0</td>\n",
       "      <td>7</td>\n",
       "    </tr>\n",
       "    <tr>\n",
       "      <th>Ambala</th>\n",
       "      <td>0</td>\n",
       "      <td>0</td>\n",
       "      <td>0</td>\n",
       "      <td>0</td>\n",
       "      <td>0</td>\n",
       "      <td>0</td>\n",
       "      <td>0</td>\n",
       "      <td>0</td>\n",
       "      <td>0</td>\n",
       "      <td>46</td>\n",
       "    </tr>\n",
       "    <tr>\n",
       "      <th>Ambedkar Nagar</th>\n",
       "      <td>0</td>\n",
       "      <td>0</td>\n",
       "      <td>0</td>\n",
       "      <td>0</td>\n",
       "      <td>0</td>\n",
       "      <td>0</td>\n",
       "      <td>0</td>\n",
       "      <td>0</td>\n",
       "      <td>0</td>\n",
       "      <td>4</td>\n",
       "    </tr>\n",
       "    <tr>\n",
       "      <th>Ambikapur</th>\n",
       "      <td>0</td>\n",
       "      <td>0</td>\n",
       "      <td>0</td>\n",
       "      <td>0</td>\n",
       "      <td>0</td>\n",
       "      <td>0</td>\n",
       "      <td>0</td>\n",
       "      <td>0</td>\n",
       "      <td>0</td>\n",
       "      <td>2</td>\n",
       "    </tr>\n",
       "    <tr>\n",
       "      <th>Ambur</th>\n",
       "      <td>0</td>\n",
       "      <td>0</td>\n",
       "      <td>0</td>\n",
       "      <td>0</td>\n",
       "      <td>0</td>\n",
       "      <td>0</td>\n",
       "      <td>0</td>\n",
       "      <td>0</td>\n",
       "      <td>0</td>\n",
       "      <td>6</td>\n",
       "    </tr>\n",
       "    <tr>\n",
       "      <th>Amravati</th>\n",
       "      <td>0</td>\n",
       "      <td>0</td>\n",
       "      <td>0</td>\n",
       "      <td>0</td>\n",
       "      <td>0</td>\n",
       "      <td>0</td>\n",
       "      <td>0</td>\n",
       "      <td>0</td>\n",
       "      <td>0</td>\n",
       "      <td>28</td>\n",
       "    </tr>\n",
       "    <tr>\n",
       "      <th>Amreli</th>\n",
       "      <td>0</td>\n",
       "      <td>0</td>\n",
       "      <td>0</td>\n",
       "      <td>0</td>\n",
       "      <td>0</td>\n",
       "      <td>0</td>\n",
       "      <td>0</td>\n",
       "      <td>0</td>\n",
       "      <td>0</td>\n",
       "      <td>7</td>\n",
       "    </tr>\n",
       "    <tr>\n",
       "      <th>Amritsar</th>\n",
       "      <td>0</td>\n",
       "      <td>0</td>\n",
       "      <td>0</td>\n",
       "      <td>0</td>\n",
       "      <td>0</td>\n",
       "      <td>0</td>\n",
       "      <td>0</td>\n",
       "      <td>0</td>\n",
       "      <td>0</td>\n",
       "      <td>47</td>\n",
       "    </tr>\n",
       "    <tr>\n",
       "      <th>Anand</th>\n",
       "      <td>0</td>\n",
       "      <td>0</td>\n",
       "      <td>0</td>\n",
       "      <td>0</td>\n",
       "      <td>0</td>\n",
       "      <td>0</td>\n",
       "      <td>0</td>\n",
       "      <td>0</td>\n",
       "      <td>0</td>\n",
       "      <td>32</td>\n",
       "    </tr>\n",
       "    <tr>\n",
       "      <th>Anantapur</th>\n",
       "      <td>0</td>\n",
       "      <td>0</td>\n",
       "      <td>0</td>\n",
       "      <td>0</td>\n",
       "      <td>0</td>\n",
       "      <td>0</td>\n",
       "      <td>0</td>\n",
       "      <td>0</td>\n",
       "      <td>0</td>\n",
       "      <td>29</td>\n",
       "    </tr>\n",
       "    <tr>\n",
       "      <th>...</th>\n",
       "      <td>...</td>\n",
       "      <td>...</td>\n",
       "      <td>...</td>\n",
       "      <td>...</td>\n",
       "      <td>...</td>\n",
       "      <td>...</td>\n",
       "      <td>...</td>\n",
       "      <td>...</td>\n",
       "      <td>...</td>\n",
       "      <td>...</td>\n",
       "    </tr>\n",
       "    <tr>\n",
       "      <th>Upper Subansiri</th>\n",
       "      <td>0</td>\n",
       "      <td>0</td>\n",
       "      <td>0</td>\n",
       "      <td>0</td>\n",
       "      <td>0</td>\n",
       "      <td>0</td>\n",
       "      <td>0</td>\n",
       "      <td>0</td>\n",
       "      <td>0</td>\n",
       "      <td>1</td>\n",
       "    </tr>\n",
       "    <tr>\n",
       "      <th>Uttar Dinajpur</th>\n",
       "      <td>0</td>\n",
       "      <td>0</td>\n",
       "      <td>0</td>\n",
       "      <td>0</td>\n",
       "      <td>0</td>\n",
       "      <td>0</td>\n",
       "      <td>0</td>\n",
       "      <td>0</td>\n",
       "      <td>0</td>\n",
       "      <td>6</td>\n",
       "    </tr>\n",
       "    <tr>\n",
       "      <th>VALLABH VIDYANAGAR</th>\n",
       "      <td>0</td>\n",
       "      <td>0</td>\n",
       "      <td>0</td>\n",
       "      <td>0</td>\n",
       "      <td>0</td>\n",
       "      <td>0</td>\n",
       "      <td>0</td>\n",
       "      <td>0</td>\n",
       "      <td>0</td>\n",
       "      <td>2</td>\n",
       "    </tr>\n",
       "    <tr>\n",
       "      <th>VIJAPUR</th>\n",
       "      <td>0</td>\n",
       "      <td>0</td>\n",
       "      <td>0</td>\n",
       "      <td>0</td>\n",
       "      <td>0</td>\n",
       "      <td>0</td>\n",
       "      <td>0</td>\n",
       "      <td>0</td>\n",
       "      <td>0</td>\n",
       "      <td>2</td>\n",
       "    </tr>\n",
       "    <tr>\n",
       "      <th>VIRPUR</th>\n",
       "      <td>0</td>\n",
       "      <td>0</td>\n",
       "      <td>0</td>\n",
       "      <td>0</td>\n",
       "      <td>0</td>\n",
       "      <td>0</td>\n",
       "      <td>0</td>\n",
       "      <td>0</td>\n",
       "      <td>0</td>\n",
       "      <td>1</td>\n",
       "    </tr>\n",
       "    <tr>\n",
       "      <th>VISNAGAR</th>\n",
       "      <td>0</td>\n",
       "      <td>0</td>\n",
       "      <td>0</td>\n",
       "      <td>0</td>\n",
       "      <td>0</td>\n",
       "      <td>0</td>\n",
       "      <td>0</td>\n",
       "      <td>0</td>\n",
       "      <td>0</td>\n",
       "      <td>5</td>\n",
       "    </tr>\n",
       "    <tr>\n",
       "      <th>Vadodara</th>\n",
       "      <td>0</td>\n",
       "      <td>0</td>\n",
       "      <td>0</td>\n",
       "      <td>0</td>\n",
       "      <td>0</td>\n",
       "      <td>0</td>\n",
       "      <td>0</td>\n",
       "      <td>0</td>\n",
       "      <td>0</td>\n",
       "      <td>490</td>\n",
       "    </tr>\n",
       "    <tr>\n",
       "      <th>Valsad</th>\n",
       "      <td>0</td>\n",
       "      <td>0</td>\n",
       "      <td>0</td>\n",
       "      <td>0</td>\n",
       "      <td>0</td>\n",
       "      <td>0</td>\n",
       "      <td>0</td>\n",
       "      <td>0</td>\n",
       "      <td>0</td>\n",
       "      <td>22</td>\n",
       "    </tr>\n",
       "    <tr>\n",
       "      <th>Vapi</th>\n",
       "      <td>0</td>\n",
       "      <td>0</td>\n",
       "      <td>0</td>\n",
       "      <td>0</td>\n",
       "      <td>0</td>\n",
       "      <td>0</td>\n",
       "      <td>0</td>\n",
       "      <td>0</td>\n",
       "      <td>0</td>\n",
       "      <td>56</td>\n",
       "    </tr>\n",
       "    <tr>\n",
       "      <th>Varanasi</th>\n",
       "      <td>0</td>\n",
       "      <td>0</td>\n",
       "      <td>0</td>\n",
       "      <td>0</td>\n",
       "      <td>0</td>\n",
       "      <td>0</td>\n",
       "      <td>0</td>\n",
       "      <td>0</td>\n",
       "      <td>0</td>\n",
       "      <td>118</td>\n",
       "    </tr>\n",
       "    <tr>\n",
       "      <th>Vellore</th>\n",
       "      <td>0</td>\n",
       "      <td>0</td>\n",
       "      <td>0</td>\n",
       "      <td>0</td>\n",
       "      <td>0</td>\n",
       "      <td>0</td>\n",
       "      <td>0</td>\n",
       "      <td>0</td>\n",
       "      <td>0</td>\n",
       "      <td>58</td>\n",
       "    </tr>\n",
       "    <tr>\n",
       "      <th>Veraval</th>\n",
       "      <td>0</td>\n",
       "      <td>0</td>\n",
       "      <td>0</td>\n",
       "      <td>0</td>\n",
       "      <td>0</td>\n",
       "      <td>0</td>\n",
       "      <td>0</td>\n",
       "      <td>0</td>\n",
       "      <td>0</td>\n",
       "      <td>2</td>\n",
       "    </tr>\n",
       "    <tr>\n",
       "      <th>Vidisha</th>\n",
       "      <td>0</td>\n",
       "      <td>0</td>\n",
       "      <td>0</td>\n",
       "      <td>0</td>\n",
       "      <td>0</td>\n",
       "      <td>0</td>\n",
       "      <td>0</td>\n",
       "      <td>0</td>\n",
       "      <td>0</td>\n",
       "      <td>3</td>\n",
       "    </tr>\n",
       "    <tr>\n",
       "      <th>Vijayawada</th>\n",
       "      <td>0</td>\n",
       "      <td>0</td>\n",
       "      <td>0</td>\n",
       "      <td>0</td>\n",
       "      <td>0</td>\n",
       "      <td>0</td>\n",
       "      <td>0</td>\n",
       "      <td>0</td>\n",
       "      <td>0</td>\n",
       "      <td>205</td>\n",
       "    </tr>\n",
       "    <tr>\n",
       "      <th>Viluppuram</th>\n",
       "      <td>0</td>\n",
       "      <td>0</td>\n",
       "      <td>0</td>\n",
       "      <td>0</td>\n",
       "      <td>0</td>\n",
       "      <td>0</td>\n",
       "      <td>0</td>\n",
       "      <td>0</td>\n",
       "      <td>0</td>\n",
       "      <td>27</td>\n",
       "    </tr>\n",
       "    <tr>\n",
       "      <th>Virudhunagar</th>\n",
       "      <td>0</td>\n",
       "      <td>0</td>\n",
       "      <td>0</td>\n",
       "      <td>0</td>\n",
       "      <td>0</td>\n",
       "      <td>0</td>\n",
       "      <td>0</td>\n",
       "      <td>0</td>\n",
       "      <td>0</td>\n",
       "      <td>17</td>\n",
       "    </tr>\n",
       "    <tr>\n",
       "      <th>Visakhapatnam</th>\n",
       "      <td>0</td>\n",
       "      <td>0</td>\n",
       "      <td>0</td>\n",
       "      <td>0</td>\n",
       "      <td>0</td>\n",
       "      <td>0</td>\n",
       "      <td>0</td>\n",
       "      <td>0</td>\n",
       "      <td>0</td>\n",
       "      <td>604</td>\n",
       "    </tr>\n",
       "    <tr>\n",
       "      <th>Vizianagaram</th>\n",
       "      <td>0</td>\n",
       "      <td>0</td>\n",
       "      <td>0</td>\n",
       "      <td>0</td>\n",
       "      <td>0</td>\n",
       "      <td>0</td>\n",
       "      <td>0</td>\n",
       "      <td>0</td>\n",
       "      <td>0</td>\n",
       "      <td>24</td>\n",
       "    </tr>\n",
       "    <tr>\n",
       "      <th>Vyara</th>\n",
       "      <td>0</td>\n",
       "      <td>0</td>\n",
       "      <td>0</td>\n",
       "      <td>0</td>\n",
       "      <td>0</td>\n",
       "      <td>0</td>\n",
       "      <td>0</td>\n",
       "      <td>0</td>\n",
       "      <td>0</td>\n",
       "      <td>11</td>\n",
       "    </tr>\n",
       "    <tr>\n",
       "      <th>Warangal</th>\n",
       "      <td>0</td>\n",
       "      <td>0</td>\n",
       "      <td>0</td>\n",
       "      <td>0</td>\n",
       "      <td>0</td>\n",
       "      <td>0</td>\n",
       "      <td>0</td>\n",
       "      <td>0</td>\n",
       "      <td>0</td>\n",
       "      <td>42</td>\n",
       "    </tr>\n",
       "    <tr>\n",
       "      <th>Wardha</th>\n",
       "      <td>0</td>\n",
       "      <td>0</td>\n",
       "      <td>0</td>\n",
       "      <td>0</td>\n",
       "      <td>0</td>\n",
       "      <td>0</td>\n",
       "      <td>0</td>\n",
       "      <td>0</td>\n",
       "      <td>0</td>\n",
       "      <td>26</td>\n",
       "    </tr>\n",
       "    <tr>\n",
       "      <th>Washim</th>\n",
       "      <td>0</td>\n",
       "      <td>0</td>\n",
       "      <td>0</td>\n",
       "      <td>0</td>\n",
       "      <td>0</td>\n",
       "      <td>0</td>\n",
       "      <td>0</td>\n",
       "      <td>0</td>\n",
       "      <td>0</td>\n",
       "      <td>3</td>\n",
       "    </tr>\n",
       "    <tr>\n",
       "      <th>Wayanad</th>\n",
       "      <td>0</td>\n",
       "      <td>0</td>\n",
       "      <td>0</td>\n",
       "      <td>0</td>\n",
       "      <td>0</td>\n",
       "      <td>0</td>\n",
       "      <td>0</td>\n",
       "      <td>0</td>\n",
       "      <td>0</td>\n",
       "      <td>7</td>\n",
       "    </tr>\n",
       "    <tr>\n",
       "      <th>West Garo Hills</th>\n",
       "      <td>0</td>\n",
       "      <td>0</td>\n",
       "      <td>0</td>\n",
       "      <td>0</td>\n",
       "      <td>0</td>\n",
       "      <td>0</td>\n",
       "      <td>0</td>\n",
       "      <td>0</td>\n",
       "      <td>0</td>\n",
       "      <td>4</td>\n",
       "    </tr>\n",
       "    <tr>\n",
       "      <th>West Godavari</th>\n",
       "      <td>0</td>\n",
       "      <td>0</td>\n",
       "      <td>0</td>\n",
       "      <td>0</td>\n",
       "      <td>0</td>\n",
       "      <td>0</td>\n",
       "      <td>0</td>\n",
       "      <td>0</td>\n",
       "      <td>0</td>\n",
       "      <td>36</td>\n",
       "    </tr>\n",
       "    <tr>\n",
       "      <th>West Singhbhum</th>\n",
       "      <td>0</td>\n",
       "      <td>0</td>\n",
       "      <td>0</td>\n",
       "      <td>0</td>\n",
       "      <td>0</td>\n",
       "      <td>0</td>\n",
       "      <td>0</td>\n",
       "      <td>0</td>\n",
       "      <td>0</td>\n",
       "      <td>11</td>\n",
       "    </tr>\n",
       "    <tr>\n",
       "      <th>Yadgir</th>\n",
       "      <td>0</td>\n",
       "      <td>0</td>\n",
       "      <td>0</td>\n",
       "      <td>0</td>\n",
       "      <td>0</td>\n",
       "      <td>0</td>\n",
       "      <td>0</td>\n",
       "      <td>0</td>\n",
       "      <td>0</td>\n",
       "      <td>4</td>\n",
       "    </tr>\n",
       "    <tr>\n",
       "      <th>Yamuna Nagar</th>\n",
       "      <td>0</td>\n",
       "      <td>0</td>\n",
       "      <td>0</td>\n",
       "      <td>0</td>\n",
       "      <td>0</td>\n",
       "      <td>0</td>\n",
       "      <td>0</td>\n",
       "      <td>0</td>\n",
       "      <td>0</td>\n",
       "      <td>22</td>\n",
       "    </tr>\n",
       "    <tr>\n",
       "      <th>Yavatmal</th>\n",
       "      <td>0</td>\n",
       "      <td>0</td>\n",
       "      <td>0</td>\n",
       "      <td>0</td>\n",
       "      <td>0</td>\n",
       "      <td>0</td>\n",
       "      <td>0</td>\n",
       "      <td>0</td>\n",
       "      <td>0</td>\n",
       "      <td>12</td>\n",
       "    </tr>\n",
       "    <tr>\n",
       "      <th>sri ganganagar</th>\n",
       "      <td>0</td>\n",
       "      <td>0</td>\n",
       "      <td>0</td>\n",
       "      <td>0</td>\n",
       "      <td>0</td>\n",
       "      <td>0</td>\n",
       "      <td>0</td>\n",
       "      <td>0</td>\n",
       "      <td>0</td>\n",
       "      <td>7</td>\n",
       "    </tr>\n",
       "  </tbody>\n",
       "</table>\n",
       "<p>685 rows × 10 columns</p>\n",
       "</div>"
      ],
      "text/plain": [
       "City-group          10    11  12  13  14  15  16  17  18    9\n",
       "City                                                         \n",
       "ADIPUR               0     0   0   0   0   0   0   0   0    7\n",
       "AHMEDB               0     0   0   0   0   0   0   0   0    5\n",
       "AMALSAD              0     0   0   0   0   0   0   0   0    1\n",
       "ANJAR                0     0   0   0   0   0   0   0   0    6\n",
       "Abohar               0     0   0   0   0   0   0   0   0    4\n",
       "Adilabad             0     0   0   0   0   0   0   0   0   23\n",
       "Agartala             0     0   0   0   0   0   0   0   0   34\n",
       "Agra                 0     0   0   0   0   0   0   0   0  169\n",
       "Ahmedabad            0  1411   0   0   0   0   0   0   0    0\n",
       "Ahmednagar           0     0   0   0   0   0   0   0   0   42\n",
       "Aizawl               0     0   0   0   0   0   0   0   0    2\n",
       "Ajmer                0     0   0   0   0   0   0   0   0   33\n",
       "Akola                0     0   0   0   0   0   0   0   0   13\n",
       "Alappuzha            0     0   0   0   0   0   0   0   0   28\n",
       "Aligarh              0     0   0   0   0   0   0   0   0   18\n",
       "Allahabad            0     0   0   0   0   0   0   0   0  106\n",
       "Alleppey             0     0   0   0   0   0   0   0   0    8\n",
       "Almora               0     0   0   0   0   0   0   0   0    5\n",
       "Aluva                0     0   0   0   0   0   0   0   0   17\n",
       "Alwar                0     0   0   0   0   0   0   0   0   70\n",
       "Amareli              0     0   0   0   0   0   0   0   0    7\n",
       "Ambala               0     0   0   0   0   0   0   0   0   46\n",
       "Ambedkar Nagar       0     0   0   0   0   0   0   0   0    4\n",
       "Ambikapur            0     0   0   0   0   0   0   0   0    2\n",
       "Ambur                0     0   0   0   0   0   0   0   0    6\n",
       "Amravati             0     0   0   0   0   0   0   0   0   28\n",
       "Amreli               0     0   0   0   0   0   0   0   0    7\n",
       "Amritsar             0     0   0   0   0   0   0   0   0   47\n",
       "Anand                0     0   0   0   0   0   0   0   0   32\n",
       "Anantapur            0     0   0   0   0   0   0   0   0   29\n",
       "...                 ..   ...  ..  ..  ..  ..  ..  ..  ..  ...\n",
       "Upper Subansiri      0     0   0   0   0   0   0   0   0    1\n",
       "Uttar Dinajpur       0     0   0   0   0   0   0   0   0    6\n",
       "VALLABH VIDYANAGAR   0     0   0   0   0   0   0   0   0    2\n",
       "VIJAPUR              0     0   0   0   0   0   0   0   0    2\n",
       "VIRPUR               0     0   0   0   0   0   0   0   0    1\n",
       "VISNAGAR             0     0   0   0   0   0   0   0   0    5\n",
       "Vadodara             0     0   0   0   0   0   0   0   0  490\n",
       "Valsad               0     0   0   0   0   0   0   0   0   22\n",
       "Vapi                 0     0   0   0   0   0   0   0   0   56\n",
       "Varanasi             0     0   0   0   0   0   0   0   0  118\n",
       "Vellore              0     0   0   0   0   0   0   0   0   58\n",
       "Veraval              0     0   0   0   0   0   0   0   0    2\n",
       "Vidisha              0     0   0   0   0   0   0   0   0    3\n",
       "Vijayawada           0     0   0   0   0   0   0   0   0  205\n",
       "Viluppuram           0     0   0   0   0   0   0   0   0   27\n",
       "Virudhunagar         0     0   0   0   0   0   0   0   0   17\n",
       "Visakhapatnam        0     0   0   0   0   0   0   0   0  604\n",
       "Vizianagaram         0     0   0   0   0   0   0   0   0   24\n",
       "Vyara                0     0   0   0   0   0   0   0   0   11\n",
       "Warangal             0     0   0   0   0   0   0   0   0   42\n",
       "Wardha               0     0   0   0   0   0   0   0   0   26\n",
       "Washim               0     0   0   0   0   0   0   0   0    3\n",
       "Wayanad              0     0   0   0   0   0   0   0   0    7\n",
       "West Garo Hills      0     0   0   0   0   0   0   0   0    4\n",
       "West Godavari        0     0   0   0   0   0   0   0   0   36\n",
       "West Singhbhum       0     0   0   0   0   0   0   0   0   11\n",
       "Yadgir               0     0   0   0   0   0   0   0   0    4\n",
       "Yamuna Nagar         0     0   0   0   0   0   0   0   0   22\n",
       "Yavatmal             0     0   0   0   0   0   0   0   0   12\n",
       "sri ganganagar       0     0   0   0   0   0   0   0   0    7\n",
       "\n",
       "[685 rows x 10 columns]"
      ]
     },
     "execution_count": 412,
     "metadata": {},
     "output_type": "execute_result"
    }
   ],
   "source": [
    "# Zmienna ma za dużo kategorii, grupuję ją przy użyciu Drzewa decyzyjnego\n",
    "onehot = pd.get_dummies(X_train[[\"City\"]])\n",
    "levels_grouper = DecisionTreeClassifier(min_samples_leaf=1000) # dobieram 1000 na bazie liczności miast\n",
    "levels_grouper.fit(onehot, y_train) \n",
    "X_train[\"City-group\"] = levels_grouper.apply(onehot).astype(str)\n",
    "\n",
    "x = pd.crosstab(X_train[\"City\"],X_train[\"City-group\"])\n",
    "x\n",
    "# Pojawia się 10 nowych kategorii (od 9 do 18)"
   ]
  },
  {
   "cell_type": "code",
   "execution_count": 413,
   "metadata": {
    "collapsed": false,
    "scrolled": true
   },
   "outputs": [
    {
     "data": {
      "text/html": [
       "<div>\n",
       "<style scoped>\n",
       "    .dataframe tbody tr th:only-of-type {\n",
       "        vertical-align: middle;\n",
       "    }\n",
       "\n",
       "    .dataframe tbody tr th {\n",
       "        vertical-align: top;\n",
       "    }\n",
       "\n",
       "    .dataframe thead th {\n",
       "        text-align: right;\n",
       "    }\n",
       "</style>\n",
       "<table border=\"1\" class=\"dataframe\">\n",
       "  <thead>\n",
       "    <tr style=\"text-align: right;\">\n",
       "      <th>City-group</th>\n",
       "      <th>10</th>\n",
       "      <th>11</th>\n",
       "      <th>12</th>\n",
       "      <th>13</th>\n",
       "      <th>14</th>\n",
       "      <th>15</th>\n",
       "      <th>16</th>\n",
       "      <th>17</th>\n",
       "      <th>18</th>\n",
       "      <th>9</th>\n",
       "    </tr>\n",
       "    <tr>\n",
       "      <th>City</th>\n",
       "      <th></th>\n",
       "      <th></th>\n",
       "      <th></th>\n",
       "      <th></th>\n",
       "      <th></th>\n",
       "      <th></th>\n",
       "      <th></th>\n",
       "      <th></th>\n",
       "      <th></th>\n",
       "      <th></th>\n",
       "    </tr>\n",
       "  </thead>\n",
       "  <tbody>\n",
       "    <tr>\n",
       "      <th>MISSING</th>\n",
       "      <td>0</td>\n",
       "      <td>0</td>\n",
       "      <td>0</td>\n",
       "      <td>0</td>\n",
       "      <td>0</td>\n",
       "      <td>0</td>\n",
       "      <td>0</td>\n",
       "      <td>0</td>\n",
       "      <td>0</td>\n",
       "      <td>804</td>\n",
       "    </tr>\n",
       "  </tbody>\n",
       "</table>\n",
       "</div>"
      ],
      "text/plain": [
       "City-group  10  11  12  13  14  15  16  17  18    9\n",
       "City                                               \n",
       "MISSING      0   0   0   0   0   0   0   0   0  804"
      ]
     },
     "execution_count": 413,
     "metadata": {},
     "output_type": "execute_result"
    }
   ],
   "source": [
    "x.loc[[\"MISSING\"]] # Wartość MISSING trafiła do grupy 9 (razem z innymi mniej licznymi miastami)"
   ]
  },
  {
   "cell_type": "code",
   "execution_count": 414,
   "metadata": {
    "collapsed": false,
    "scrolled": false
   },
   "outputs": [
    {
     "data": {
      "text/plain": [
       "9     21864\n",
       "18    10068\n",
       "16     8719\n",
       "15     8664\n",
       "10     5843\n",
       "12     5516\n",
       "17     4137\n",
       "14     2346\n",
       "11     1411\n",
       "13     1048\n",
       "Name: City-group, dtype: int64"
      ]
     },
     "execution_count": 414,
     "metadata": {},
     "output_type": "execute_result"
    }
   ],
   "source": [
    "X_train[\"City-group\"].value_counts() "
   ]
  },
  {
   "cell_type": "code",
   "execution_count": 415,
   "metadata": {
    "collapsed": false,
    "scrolled": true
   },
   "outputs": [
    {
     "data": {
      "image/png": "[encoded data removed]",
      "text/plain": [
       "<Figure size 432x288 with 1 Axes>"
      ]
     },
     "metadata": {},
     "output_type": "display_data"
    }
   ],
   "source": [
    "x = pd.crosstab(X_train[\"City-group\"],y_train, normalize= \"index\") #Normalizuję po wierszach\n",
    "x.iloc[:,1].plot(kind=\"bar\") #Na wykresie pokazuję tylko procentową liczność dla Disbursed =1 (pomijam = 0)\n",
    "plt.show()"
   ]
  },
  {
   "cell_type": "code",
   "execution_count": 416,
   "metadata": {
    "collapsed": false,
    "scrolled": true
   },
   "outputs": [],
   "source": [
    "#Usuwam zmienną City, a w jej miejsce pozostawiam zmienną City-Group\n",
    "X_train.drop([\"City\"],axis=1, inplace=True)"
   ]
  },
  {
   "cell_type": "markdown",
   "metadata": {},
   "source": [
    "### Employer_Name"
   ]
  },
  {
   "cell_type": "code",
   "execution_count": 417,
   "metadata": {
    "collapsed": false,
    "scrolled": false
   },
   "outputs": [
    {
     "data": {
      "text/plain": [
       "0                                               3974\n",
       "TATA CONSULTANCY SERVICES LTD (TCS)              431\n",
       "COGNIZANT TECHNOLOGY SOLUTIONS INDIA PVT LTD     319\n",
       "ACCENTURE SERVICES PVT LTD                       261\n",
       "GOOGLE                                           235\n",
       "HCL TECHNOLOGIES LTD                             204\n",
       "ICICI BANK LTD                                   192\n",
       "INDIAN AIR FORCE                                 155\n",
       "INFOSYS TECHNOLOGIES                             151\n",
       "GENPACT                                          147\n",
       "INDIAN ARMY                                      135\n",
       "TYPE SLOWLY FOR AUTO FILL                        133\n",
       "WIPRO TECHNOLOGIES                               130\n",
       "IBM CORPORATION                                  130\n",
       "IKYA HUMAN CAPITAL SOLUTIONS LTD                 117\n",
       "HDFC BANK LTD                                    117\n",
       "INDIAN RAILWAY                                   107\n",
       "STATE GOVERNMENT                                 106\n",
       "INDIAN NAVY                                      102\n",
       "ARMY                                              99\n",
       "OTHERS                                            95\n",
       "WIPRO BPO                                         93\n",
       "CONVERGYS INDIA SERVICES PVT LTD                  88\n",
       "TECH MAHINDRA LTD                                 87\n",
       "IBM GLOBAL SERVICES INDIA LTD                     85\n",
       "SERCO BPO PVT LTD                                 84\n",
       "RANDSTAD INDIA LTD                                80\n",
       "ADECCO INDIA PVT LTD                              76\n",
       "CAPGEMINI INDIA PVT LTD                           74\n",
       "WNS GLOBAL SERVICES PVT LTD                       72\n",
       "                                                ... \n",
       "GOPIRAJA.S                                         1\n",
       "ASHWIN TRADING COMPANY                             1\n",
       "AGARWAL INFRATECH LIMITED                          1\n",
       "ARBITRON TECHNOLOGY SERVICES INDIA PVT LTD         1\n",
       "WINDALS AUTO PVT LTD                               1\n",
       "SUMIT PANDAY                                       1\n",
       "ABUTHAHIR                                          1\n",
       "TELECOM DEPARTMENTB                                1\n",
       "EMPIRE COLOUR SCIENCE CORPORATION                  1\n",
       "TAMILNADU GOVT.                                    1\n",
       "LITE ON MOBILE INDIA PVT LTD                       1\n",
       "HAVEUS SOLUTIONS PVT LTD                           1\n",
       "NANDA JAGANNATH PARAB                              1\n",
       "REAL LINK ENGINEERING INDIA PVT  LTD               1\n",
       "CLUB M HOLIDAYS PVT LTD                            1\n",
       "ALERT-INDIA                                        1\n",
       "SECURE VALUE INDIA PRIVATE LIMITED                 1\n",
       "ESSL                                               1\n",
       "SIDDHI VINAYAK LOGISTIC LTD                        1\n",
       "BHANDARI MOTOR PVT .LTD.                           1\n",
       "VIPUL INFRASTRUCTURE DEV. LTD                      1\n",
       "SMARAK AUNRAKSHAN SURAKSHA SAMILTI LUCKNOW         1\n",
       "JS INFRA PROJECTS PVT. LTD                         1\n",
       "E. SIVAKUMAR                                       1\n",
       "SURENDER SONI                                      1\n",
       "SANDHAR AUTOMOTIVES P LTD                          1\n",
       "JAYESSAR EQUIPMENT PRIVATE LIMITED                 1\n",
       "AVSTECH BUILDING SOLUTIONS                         1\n",
       "GANESH BANKAR                                      1\n",
       "SILCOM SOLUTION PVT. LTD.                          1\n",
       "Name: Employer_Name, Length: 36615, dtype: int64"
      ]
     },
     "execution_count": 417,
     "metadata": {},
     "output_type": "execute_result"
    }
   ],
   "source": [
    "X_train.Employer_Name.value_counts()"
   ]
  },
  {
   "cell_type": "code",
   "execution_count": 418,
   "metadata": {
    "collapsed": false,
    "scrolled": true
   },
   "outputs": [
    {
     "name": "stdout",
     "output_type": "stream",
     "text": [
      "Liczba NULLi przed uzupełnieniem braków: 58\n"
     ]
    }
   ],
   "source": [
    "print(\"Liczba NULLi przed uzupełnieniem braków:\",X_train.Employer_Name.isnull().sum())"
   ]
  },
  {
   "cell_type": "code",
   "execution_count": 419,
   "metadata": {
    "collapsed": false,
    "scrolled": true
   },
   "outputs": [],
   "source": [
    "# Przyjmujemy założenie, że wartość '0' oraz np. NaN zmiennej oznacza samozatrudnienie,\n",
    "# (czyli firma 1-osobowa) \n",
    "# # Przekształcamy tą zmienną do zmiennej numerycznej \"Number_Of_Employees\", która będzie zawierała informację\n",
    "# o liczbie pracowników firmy,w której pracuje dany klient. Oczywiście bazujemy tylko na tych pracownikach,\n",
    "# którzy są klientami banku, niemniej jednak nowa zmienna rozróżnia większe firmy od mniejszych\n",
    "Employer_Name_slownik = X_train.Employer_Name.value_counts()\n",
    "Employer_Name_slownik['0']=1\n",
    "X_train['Number_Of_Employees'] = X_train.Employer_Name.map(Employer_Name_slownik).fillna(1).astype(int)\n",
    "\n",
    "X_train.drop([\"Employer_Name\"],axis=1, inplace=True) # Usuwam starą zmienną"
   ]
  },
  {
   "cell_type": "code",
   "execution_count": 420,
   "metadata": {
    "collapsed": false
   },
   "outputs": [
    {
     "data": {
      "text/plain": [
       "1      32585\n",
       "2       8714\n",
       "3       4317\n",
       "4       2688\n",
       "5       1860\n",
       "6       1470\n",
       "7       1232\n",
       "8       1032\n",
       "9        738\n",
       "12       732\n",
       "10       680\n",
       "11       649\n",
       "13       572\n",
       "15       510\n",
       "18       486\n",
       "17       442\n",
       "431      431\n",
       "22       396\n",
       "24       384\n",
       "14       378\n",
       "19       342\n",
       "319      319\n",
       "16       288\n",
       "23       276\n",
       "33       264\n",
       "261      261\n",
       "130      260\n",
       "37       259\n",
       "235      235\n",
       "117      234\n",
       "       ...  \n",
       "106      106\n",
       "35       105\n",
       "34       102\n",
       "102      102\n",
       "99        99\n",
       "95        95\n",
       "47        94\n",
       "93        93\n",
       "88        88\n",
       "87        87\n",
       "43        86\n",
       "85        85\n",
       "84        84\n",
       "40        80\n",
       "80        80\n",
       "39        78\n",
       "76        76\n",
       "74        74\n",
       "72        72\n",
       "68        68\n",
       "66        66\n",
       "30        60\n",
       "58        58\n",
       "29        58\n",
       "57        57\n",
       "56        56\n",
       "54        54\n",
       "49        49\n",
       "48        48\n",
       "45        45\n",
       "Name: Number_Of_Employees, Length: 86, dtype: int64"
      ]
     },
     "execution_count": 420,
     "metadata": {},
     "output_type": "execute_result"
    }
   ],
   "source": [
    "X_train['Number_Of_Employees'].value_counts()"
   ]
  },
  {
   "cell_type": "code",
   "execution_count": 421,
   "metadata": {
    "collapsed": false,
    "scrolled": true
   },
   "outputs": [
    {
     "data": {
      "image/png": "[encoded data removed]",
      "text/plain": [
       "<Figure size 432x288 with 1 Axes>"
      ]
     },
     "metadata": {},
     "output_type": "display_data"
    }
   ],
   "source": [
    "# Poglądowy histogram nowo-utworzonej zmiennej\n",
    "X_train[\"Number_Of_Employees\"].hist(bins=50)\n",
    "plt.show()"
   ]
  },
  {
   "cell_type": "code",
   "execution_count": 422,
   "metadata": {
    "collapsed": false,
    "scrolled": true
   },
   "outputs": [
    {
     "name": "stdout",
     "output_type": "stream",
     "text": [
      "Liczba NULLi w zmiennej Number_Of_Employees: 0\n"
     ]
    }
   ],
   "source": [
    "print(\"Liczba NULLi w zmiennej Number_Of_Employees:\",X_train.Number_Of_Employees.isnull().sum()) # OK"
   ]
  },
  {
   "cell_type": "code",
   "execution_count": 423,
   "metadata": {
    "collapsed": true
   },
   "outputs": [],
   "source": [
    "# Z uwagi na skośność histogramu, przekształcenie log\n",
    "X_train[\"Number_Of_Employees\"]=np.log(X_train[\"Number_Of_Employees\"])"
   ]
  },
  {
   "cell_type": "code",
   "execution_count": 424,
   "metadata": {
    "collapsed": false,
    "scrolled": true
   },
   "outputs": [
    {
     "data": {
      "image/png": "[encoded data removed]",
      "text/plain": [
       "<Figure size 432x288 with 1 Axes>"
      ]
     },
     "metadata": {},
     "output_type": "display_data"
    }
   ],
   "source": [
    "X_train[\"Number_Of_Employees\"].hist(bins=50)\n",
    "plt.title(\"Number_Of_Employees po trasformacji\")\n",
    "plt.show()"
   ]
  },
  {
   "cell_type": "markdown",
   "metadata": {
    "collapsed": false,
    "scrolled": true
   },
   "source": [
    "### Salary_Account"
   ]
  },
  {
   "cell_type": "code",
   "execution_count": 425,
   "metadata": {
    "collapsed": false
   },
   "outputs": [
    {
     "data": {
      "text/plain": [
       "HDFC Bank                                          14136\n",
       "ICICI Bank                                         10945\n",
       "State Bank of India                                 9488\n",
       "Axis Bank                                           7019\n",
       "Citibank                                            1900\n",
       "Kotak Bank                                          1681\n",
       "IDBI Bank                                           1242\n",
       "Bank of India                                        952\n",
       "Punjab National Bank                                 946\n",
       "Bank of Baroda                                       899\n",
       "Canara Bank                                          779\n",
       "Standard Chartered Bank                              775\n",
       "Union Bank of India                                  750\n",
       "Yes Bank                                             641\n",
       "ING Vysya                                            542\n",
       "Corporation bank                                     536\n",
       "Indian Overseas Bank                                 496\n",
       "State Bank of Hyderabad                              466\n",
       "Indian Bank                                          428\n",
       "Oriental Bank of Commerce                            410\n",
       "IndusInd Bank                                        408\n",
       "Andhra Bank                                          389\n",
       "Syndicate Bank                                       340\n",
       "Central Bank of India                                335\n",
       "Bank of Maharasthra                                  319\n",
       "State Bank of Bikaner & Jaipur                       271\n",
       "HSBC                                                 264\n",
       "Karur Vysya Bank                                     251\n",
       "State Bank of Mysore                                 204\n",
       "Federal Bank                                         202\n",
       "Vijaya Bank                                          196\n",
       "UCO Bank                                             193\n",
       "State Bank of Travancore                             185\n",
       "Allahabad Bank                                       179\n",
       "Karnataka Bank                                       156\n",
       "Saraswat Bank                                        152\n",
       "United Bank of India                                 151\n",
       "State Bank of Patiala                                138\n",
       "Dena Bank                                            135\n",
       "South Indian Bank                                    132\n",
       "Deutsche Bank                                         98\n",
       "Abhyuday Co-op Bank Ltd                               87\n",
       "The Ratnakar Bank Ltd                                 66\n",
       "Tamil Nadu Mercantile Bank                            56\n",
       "J&K Bank                                              52\n",
       "Punjab & Sind bank                                    50\n",
       "Lakshmi Vilas bank                                    38\n",
       "Dhanalakshmi Bank Ltd                                 34\n",
       "State Bank of Indore                                  11\n",
       "Catholic Syrian Bank                                  10\n",
       "India Bulls                                            8\n",
       "GIC Housing Finance Ltd                                6\n",
       "Firstrand Bank Limited                                 5\n",
       "B N P Paribas                                          4\n",
       "Kerala Gramin Bank                                     4\n",
       "Bank of Rajasthan                                      3\n",
       "Industrial And Commercial Bank Of China Limited        2\n",
       "Name: Salary_Account, dtype: int64"
      ]
     },
     "execution_count": 425,
     "metadata": {},
     "output_type": "execute_result"
    }
   ],
   "source": [
    "X_train.Salary_Account.value_counts()"
   ]
  },
  {
   "cell_type": "code",
   "execution_count": 426,
   "metadata": {
    "collapsed": false,
    "scrolled": false
   },
   "outputs": [
    {
     "name": "stdout",
     "output_type": "stream",
     "text": [
      "Liczba NULLi przed uzupełnieniem braków: 9451\n"
     ]
    }
   ],
   "source": [
    "print(\"Liczba NULLi przed uzupełnieniem braków:\", X_train.Salary_Account.isnull().sum()) "
   ]
  },
  {
   "cell_type": "code",
   "execution_count": 427,
   "metadata": {
    "collapsed": false
   },
   "outputs": [
    {
     "name": "stdout",
     "output_type": "stream",
     "text": [
      "Liczba NULLi po uzupełnieniu braków: 0\n"
     ]
    }
   ],
   "source": [
    "X_train[\"Salary_Account\"] = X_train.Salary_Account.fillna(\"OTHER\") # uzupełniamy NULLe wartością \"OTHER\"\n",
    "print(\"Liczba NULLi po uzupełnieniu braków:\", X_train.Salary_Account.isnull().sum()) #OK"
   ]
  },
  {
   "cell_type": "code",
   "execution_count": 428,
   "metadata": {
    "collapsed": false
   },
   "outputs": [],
   "source": [
    "# Grupuję zmienną Salary_Account przy użyciu drzewa decyzyjnego (logika jak przy zmiennej City)\n",
    "onehot = pd.get_dummies(X_train[[\"Salary_Account\"]])\n",
    "levels_grouper = DecisionTreeClassifier(min_samples_leaf=1000) # dobieram 1000 na bazie liczności miast\n",
    "levels_grouper.fit(onehot, y_train) \n",
    "X_train[\"Salary_Account-group\"] = levels_grouper.apply(onehot).astype(str)"
   ]
  },
  {
   "cell_type": "code",
   "execution_count": 429,
   "metadata": {
    "collapsed": false,
    "scrolled": false
   },
   "outputs": [
    {
     "data": {
      "text/html": [
       "<div>\n",
       "<style scoped>\n",
       "    .dataframe tbody tr th:only-of-type {\n",
       "        vertical-align: middle;\n",
       "    }\n",
       "\n",
       "    .dataframe tbody tr th {\n",
       "        vertical-align: top;\n",
       "    }\n",
       "\n",
       "    .dataframe thead th {\n",
       "        text-align: right;\n",
       "    }\n",
       "</style>\n",
       "<table border=\"1\" class=\"dataframe\">\n",
       "  <thead>\n",
       "    <tr style=\"text-align: right;\">\n",
       "      <th>Salary_Account-group</th>\n",
       "      <th>10</th>\n",
       "      <th>11</th>\n",
       "      <th>12</th>\n",
       "      <th>13</th>\n",
       "      <th>14</th>\n",
       "      <th>15</th>\n",
       "      <th>16</th>\n",
       "      <th>8</th>\n",
       "      <th>9</th>\n",
       "    </tr>\n",
       "    <tr>\n",
       "      <th>Salary_Account</th>\n",
       "      <th></th>\n",
       "      <th></th>\n",
       "      <th></th>\n",
       "      <th></th>\n",
       "      <th></th>\n",
       "      <th></th>\n",
       "      <th></th>\n",
       "      <th></th>\n",
       "      <th></th>\n",
       "    </tr>\n",
       "  </thead>\n",
       "  <tbody>\n",
       "    <tr>\n",
       "      <th>OTHER</th>\n",
       "      <td>0</td>\n",
       "      <td>0</td>\n",
       "      <td>0</td>\n",
       "      <td>0</td>\n",
       "      <td>0</td>\n",
       "      <td>0</td>\n",
       "      <td>9451</td>\n",
       "      <td>0</td>\n",
       "      <td>0</td>\n",
       "    </tr>\n",
       "  </tbody>\n",
       "</table>\n",
       "</div>"
      ],
      "text/plain": [
       "Salary_Account-group  10  11  12  13  14  15    16  8  9\n",
       "Salary_Account                                          \n",
       "OTHER                  0   0   0   0   0   0  9451  0  0"
      ]
     },
     "execution_count": 429,
     "metadata": {},
     "output_type": "execute_result"
    }
   ],
   "source": [
    "x = pd.crosstab(X_train[\"Salary_Account\"],X_train[\"Salary_Account-group\"])\n",
    "x.loc[[\"OTHER\"]] "
   ]
  },
  {
   "cell_type": "code",
   "execution_count": 430,
   "metadata": {
    "collapsed": false,
    "scrolled": true
   },
   "outputs": [
    {
     "data": {
      "text/plain": [
       "13    14136\n",
       "8     13754\n",
       "14    10945\n",
       "15     9488\n",
       "16     9451\n",
       "11     7019\n",
       "12     1900\n",
       "10     1681\n",
       "9      1242\n",
       "Name: Salary_Account-group, dtype: int64"
      ]
     },
     "execution_count": 430,
     "metadata": {},
     "output_type": "execute_result"
    }
   ],
   "source": [
    "X_train[\"Salary_Account-group\"].value_counts() # Wartość OTHER trafiła do grupy 16 jako oddzielna grupa"
   ]
  },
  {
   "cell_type": "code",
   "execution_count": 431,
   "metadata": {
    "collapsed": false,
    "scrolled": true
   },
   "outputs": [
    {
     "data": {
      "image/png": "[encoded data removed]",
      "text/plain": [
       "<Figure size 432x288 with 1 Axes>"
      ]
     },
     "metadata": {},
     "output_type": "display_data"
    }
   ],
   "source": [
    "x = pd.crosstab(X_train[\"Salary_Account-group\"],y_train, normalize= \"index\") #Normalizuję po wierszach\n",
    "x.iloc[:,1].plot(kind=\"bar\") #Na wykresie pokazuję tylko procentową liczność dla Disbursed =1 (pomijam = 0)\n",
    "plt.show() # Widać, że kategoria 16 (czyli OTHER) cechuje się wyraźnie niższym odsetkiem udzielonych kredytów"
   ]
  },
  {
   "cell_type": "code",
   "execution_count": 432,
   "metadata": {
    "collapsed": false,
    "scrolled": true
   },
   "outputs": [],
   "source": [
    "X_train.drop([\"Salary_Account\"],axis=1, inplace=True) #Usuwam \"starą\" zmienną i pozostawiam zgrupowaną"
   ]
  },
  {
   "cell_type": "markdown",
   "metadata": {},
   "source": [
    "### Mobile_Verified"
   ]
  },
  {
   "cell_type": "code",
   "execution_count": 433,
   "metadata": {
    "collapsed": false,
    "scrolled": false
   },
   "outputs": [
    {
     "name": "stdout",
     "output_type": "stream",
     "text": [
      "Y    45151\n",
      "N    24465\n",
      "Name: Mobile_Verified, dtype: int64\n"
     ]
    },
    {
     "data": {
      "image/png": "[encoded data removed]",
      "text/plain": [
       "<Figure size 432x288 with 1 Axes>"
      ]
     },
     "metadata": {},
     "output_type": "display_data"
    }
   ],
   "source": [
    "# Zmienna nie posiada NULLi. Intuicyjnie wydaje się, że zmienna nie powinna mieć wpływu na wartość objaśnianą,\n",
    "# ale pozostawiam ją na razie z uwagi na fakt, że różnicuje kredyty udzielone od nieudzielonych\n",
    "print(X_train.Mobile_Verified.value_counts())\n",
    "x = pd.crosstab(X_train[\"Mobile_Verified\"],y_train, normalize= \"index\") #Normalizuję po wierszach\n",
    "x.iloc[:,1].plot(kind=\"bar\") #Na wykresie pokazuję tylko procentową liczność dla Disbursed =1 (pomijam = 0)\n",
    "plt.show()"
   ]
  },
  {
   "cell_type": "markdown",
   "metadata": {
    "collapsed": false
   },
   "source": [
    "### Var1"
   ]
  },
  {
   "cell_type": "code",
   "execution_count": 434,
   "metadata": {
    "collapsed": false
   },
   "outputs": [
    {
     "data": {
      "text/plain": [
       "HBXX    47504\n",
       "HBXC     7249\n",
       "HBXB     3564\n",
       "HAXA     2320\n",
       "HBXA     1687\n",
       "HAXB     1574\n",
       "HBXD     1543\n",
       "HAXC     1231\n",
       "HBXH      787\n",
       "HCXF      583\n",
       "HAYT      403\n",
       "HAVC      301\n",
       "HAXM      212\n",
       "HCYS      180\n",
       "HCXD      170\n",
       "HVYS      143\n",
       "HAZD       90\n",
       "HCXG       62\n",
       "HAXF       13\n",
       "Name: Var1, dtype: int64"
      ]
     },
     "execution_count": 434,
     "metadata": {},
     "output_type": "execute_result"
    }
   ],
   "source": [
    "# Zmienna nie posiada NULLi, oryginalnie posiada dużo kategorii (w konsekwencji dużo zmiennych one hotowych)\n",
    "X_train.Var1.value_counts()"
   ]
  },
  {
   "cell_type": "code",
   "execution_count": 435,
   "metadata": {
    "collapsed": false,
    "scrolled": true
   },
   "outputs": [
    {
     "data": {
      "image/png": "[encoded data removed]",
      "text/plain": [
       "<Figure size 432x288 with 1 Axes>"
      ]
     },
     "metadata": {},
     "output_type": "display_data"
    }
   ],
   "source": [
    "x = pd.crosstab(X_train[\"Var1\"],y_train, normalize= \"index\") #Normalizuję po wierszach\n",
    "x.iloc[:,1].plot(kind=\"bar\") #Na wykresie pokazuję tylko procentową liczność dla Disbursed =1 (pomijam = 0)\n",
    "plt.show()"
   ]
  },
  {
   "cell_type": "code",
   "execution_count": 436,
   "metadata": {
    "collapsed": false,
    "scrolled": false
   },
   "outputs": [],
   "source": [
    "# Grupuję ekspercko zmienną Var1 w 7 podgrup na bazie zaobserwowanego odsetku kredytów udzielonych \n",
    "# w poszczególnych grupach\n",
    "X_train['Var1_group'] = X_train.Var1.map({'HVYS': 'a','HCXG':'a', 'HAXF':'a', 'HBXB':'a', #Disbursed_mean ~ 0\n",
    "                               'HCXD':'b','HCYS':'b','HBXC':'b',\n",
    "                               'HBXH':'b','HAYT':'b','HBXX':'b',\n",
    "                               'HAZD':'c','HAVC':'c','HAXA':'c',\n",
    "                               'HCXF':'d','HBXD':'d',\n",
    "                               'HAXM':'e',\n",
    "                               'HBXA':'f',\n",
    "                               'HAXB':'g','HAXC':'g'})"
   ]
  },
  {
   "cell_type": "code",
   "execution_count": 437,
   "metadata": {
    "collapsed": false
   },
   "outputs": [
    {
     "data": {
      "image/png": "[encoded data removed]",
      "text/plain": [
       "<Figure size 432x288 with 1 Axes>"
      ]
     },
     "metadata": {},
     "output_type": "display_data"
    }
   ],
   "source": [
    "# Patrzę na odsetek kredytów udzielonych w zmiennej Var1_group, wygląda dobrze (grupy są zróżnicowane)\n",
    "x = pd.crosstab(X_train[\"Var1_group\"],y_train, normalize= \"index\") \n",
    "x.iloc[:,1].plot(kind=\"bar\") \n",
    "plt.show()"
   ]
  },
  {
   "cell_type": "code",
   "execution_count": 438,
   "metadata": {
    "collapsed": false,
    "scrolled": true
   },
   "outputs": [],
   "source": [
    "X_train.drop([\"Var1\"],axis=1, inplace=True) #Usuwać oryginalną zmienną"
   ]
  },
  {
   "cell_type": "markdown",
   "metadata": {},
   "source": [
    "### Filled_Form"
   ]
  },
  {
   "cell_type": "code",
   "execution_count": 439,
   "metadata": {
    "collapsed": false,
    "scrolled": true
   },
   "outputs": [
    {
     "name": "stdout",
     "output_type": "stream",
     "text": [
      "N    54049\n",
      "Y    15567\n",
      "Name: Filled_Form, dtype: int64\n"
     ]
    },
    {
     "data": {
      "image/png": "[encoded data removed]",
      "text/plain": [
       "<Figure size 432x288 with 1 Axes>"
      ]
     },
     "metadata": {},
     "output_type": "display_data"
    }
   ],
   "source": [
    "# Zmienna nie posiada NULLi. Odsetek kredytów udzielonych jest różny dla wartości Yes oraz No\n",
    "print(X_train.Filled_Form.value_counts())\n",
    "x = pd.crosstab(X_train[\"Filled_Form\"],y_train, normalize= \"index\") \n",
    "x.iloc[:,1].plot(kind=\"bar\") \n",
    "plt.show()\n"
   ]
  },
  {
   "cell_type": "markdown",
   "metadata": {
    "collapsed": false,
    "scrolled": true
   },
   "source": [
    "### Device Type"
   ]
  },
  {
   "cell_type": "code",
   "execution_count": 440,
   "metadata": {
    "collapsed": false,
    "scrolled": true
   },
   "outputs": [
    {
     "name": "stdout",
     "output_type": "stream",
     "text": [
      "Web-browser    51482\n",
      "Mobile         18134\n",
      "Name: Device_Type, dtype: int64\n"
     ]
    },
    {
     "data": {
      "image/png": "[encoded data removed]",
      "text/plain": [
       "<Figure size 432x288 with 1 Axes>"
      ]
     },
     "metadata": {},
     "output_type": "display_data"
    }
   ],
   "source": [
    "# Zmienna nie posiada NULLi. Nie różnicuje istotnie kredytów, ale na razie ją pozostawiam\n",
    "print(X_train.Device_Type.value_counts())\n",
    "x = pd.crosstab(X_train[\"Device_Type\"],y_train, normalize= \"index\") \n",
    "x.iloc[:,1].plot(kind=\"bar\") \n",
    "plt.show()"
   ]
  },
  {
   "cell_type": "markdown",
   "metadata": {
    "collapsed": false,
    "scrolled": true
   },
   "source": [
    "### Var2"
   ]
  },
  {
   "cell_type": "code",
   "execution_count": 441,
   "metadata": {
    "collapsed": false,
    "scrolled": true
   },
   "outputs": [
    {
     "name": "stdout",
     "output_type": "stream",
     "text": [
      "B    29869\n",
      "G    26452\n",
      "C    11313\n",
      "E     1038\n",
      "D      509\n",
      "F      432\n",
      "A        3\n",
      "Name: Var2, dtype: int64\n"
     ]
    },
    {
     "data": {
      "image/png": "[encoded data removed]",
      "text/plain": [
       "<Figure size 432x288 with 1 Axes>"
      ]
     },
     "metadata": {},
     "output_type": "display_data"
    }
   ],
   "source": [
    "# Zmienna nie posiada NULLi\n",
    "print(X_train.Var2.value_counts())\n",
    "x = pd.crosstab(X_train[\"Var2\"],y_train, normalize= \"index\") \n",
    "x.iloc[:,1].plot(kind=\"bar\") \n",
    "plt.show()"
   ]
  },
  {
   "cell_type": "code",
   "execution_count": 442,
   "metadata": {
    "collapsed": false
   },
   "outputs": [
    {
     "data": {
      "image/png": "[encoded data removed]",
      "text/plain": [
       "<Figure size 432x288 with 1 Axes>"
      ]
     },
     "metadata": {},
     "output_type": "display_data"
    }
   ],
   "source": [
    "# Widać, że zarówno dla grupy A jak D odsetek kredytów udzielonych wynosi 0, dlatego łączę je w jedną \"A\":\n",
    "X_train['Var2'] = np.where(X_train['Var2']=='D', 'A', X_train['Var2'])\n",
    "# Sprawdzenie po pogrupowaniu: OK\n",
    "x = pd.crosstab(X_train[\"Var2\"],y_train, normalize= \"index\") \n",
    "x.iloc[:,1].plot(kind=\"bar\") \n",
    "plt.show()"
   ]
  },
  {
   "cell_type": "markdown",
   "metadata": {
    "collapsed": false,
    "scrolled": true
   },
   "source": [
    "### Source"
   ]
  },
  {
   "cell_type": "code",
   "execution_count": 443,
   "metadata": {
    "collapsed": false,
    "scrolled": true
   },
   "outputs": [
    {
     "data": {
      "text/plain": [
       "S122    30912\n",
       "S133    23801\n",
       "S159     4481\n",
       "S143     3480\n",
       "S127     1566\n",
       "S137     1381\n",
       "S134     1031\n",
       "S161      611\n",
       "S151      574\n",
       "S157      522\n",
       "S153      408\n",
       "S156      245\n",
       "S144      242\n",
       "S158      170\n",
       "S123       64\n",
       "S141       47\n",
       "S162       26\n",
       "S124       20\n",
       "S150        9\n",
       "S160        8\n",
       "S136        3\n",
       "S129        3\n",
       "S139        3\n",
       "S135        2\n",
       "S155        2\n",
       "S140        1\n",
       "S138        1\n",
       "S125        1\n",
       "S154        1\n",
       "S130        1\n",
       "Name: Source, dtype: int64"
      ]
     },
     "execution_count": 443,
     "metadata": {},
     "output_type": "execute_result"
    }
   ],
   "source": [
    "# Zmienna nie posiada NULLi, ale kategorii jest bardzo dużo.\n",
    "X_train.Source.value_counts()"
   ]
  },
  {
   "cell_type": "code",
   "execution_count": 444,
   "metadata": {
    "collapsed": false,
    "scrolled": false
   },
   "outputs": [],
   "source": [
    "# Grupuję zmienną przy użyciu drzewa decyzyjnego (analogicznie jak dla zmiennej City)\n",
    "onehot = pd.get_dummies(X_train[[\"Source\"]])\n",
    "levels_grouper = DecisionTreeClassifier(min_samples_leaf=1200) # dobieram 1200 na bazie liczności zmiennej\n",
    "levels_grouper.fit(onehot, y_train) \n",
    "X_train[\"Source-group\"] = levels_grouper.apply(onehot).astype(str)"
   ]
  },
  {
   "cell_type": "code",
   "execution_count": 445,
   "metadata": {
    "collapsed": false,
    "scrolled": false
   },
   "outputs": [
    {
     "name": "stdout",
     "output_type": "stream",
     "text": [
      "7     30912\n",
      "8     23801\n",
      "12     4481\n",
      "6      3995\n",
      "9      3480\n",
      "10     1566\n",
      "11     1381\n",
      "Name: Source-group, dtype: int64\n"
     ]
    },
    {
     "data": {
      "image/png": "[encoded data removed]",
      "text/plain": [
       "<Figure size 432x288 with 1 Axes>"
      ]
     },
     "metadata": {},
     "output_type": "display_data"
    }
   ],
   "source": [
    "print(X_train[\"Source-group\"].value_counts()) #Powstało 7 grup\n",
    "x = pd.crosstab(X_train[\"Source-group\"],y_train, normalize= \"index\") \n",
    "x.iloc[:,1].plot(kind=\"bar\") \n",
    "plt.show()"
   ]
  },
  {
   "cell_type": "code",
   "execution_count": 446,
   "metadata": {
    "collapsed": false
   },
   "outputs": [
    {
     "data": {
      "text/html": [
       "<div>\n",
       "<style scoped>\n",
       "    .dataframe tbody tr th:only-of-type {\n",
       "        vertical-align: middle;\n",
       "    }\n",
       "\n",
       "    .dataframe tbody tr th {\n",
       "        vertical-align: top;\n",
       "    }\n",
       "\n",
       "    .dataframe thead th {\n",
       "        text-align: right;\n",
       "    }\n",
       "</style>\n",
       "<table border=\"1\" class=\"dataframe\">\n",
       "  <thead>\n",
       "    <tr style=\"text-align: right;\">\n",
       "      <th>Source-group</th>\n",
       "      <th>10</th>\n",
       "      <th>11</th>\n",
       "      <th>12</th>\n",
       "      <th>6</th>\n",
       "      <th>7</th>\n",
       "      <th>8</th>\n",
       "      <th>9</th>\n",
       "    </tr>\n",
       "    <tr>\n",
       "      <th>Source</th>\n",
       "      <th></th>\n",
       "      <th></th>\n",
       "      <th></th>\n",
       "      <th></th>\n",
       "      <th></th>\n",
       "      <th></th>\n",
       "      <th></th>\n",
       "    </tr>\n",
       "  </thead>\n",
       "  <tbody>\n",
       "    <tr>\n",
       "      <th>S122</th>\n",
       "      <td>0</td>\n",
       "      <td>0</td>\n",
       "      <td>0</td>\n",
       "      <td>0</td>\n",
       "      <td>30912</td>\n",
       "      <td>0</td>\n",
       "      <td>0</td>\n",
       "    </tr>\n",
       "    <tr>\n",
       "      <th>S123</th>\n",
       "      <td>0</td>\n",
       "      <td>0</td>\n",
       "      <td>0</td>\n",
       "      <td>64</td>\n",
       "      <td>0</td>\n",
       "      <td>0</td>\n",
       "      <td>0</td>\n",
       "    </tr>\n",
       "    <tr>\n",
       "      <th>S124</th>\n",
       "      <td>0</td>\n",
       "      <td>0</td>\n",
       "      <td>0</td>\n",
       "      <td>20</td>\n",
       "      <td>0</td>\n",
       "      <td>0</td>\n",
       "      <td>0</td>\n",
       "    </tr>\n",
       "    <tr>\n",
       "      <th>S125</th>\n",
       "      <td>0</td>\n",
       "      <td>0</td>\n",
       "      <td>0</td>\n",
       "      <td>1</td>\n",
       "      <td>0</td>\n",
       "      <td>0</td>\n",
       "      <td>0</td>\n",
       "    </tr>\n",
       "    <tr>\n",
       "      <th>S127</th>\n",
       "      <td>1566</td>\n",
       "      <td>0</td>\n",
       "      <td>0</td>\n",
       "      <td>0</td>\n",
       "      <td>0</td>\n",
       "      <td>0</td>\n",
       "      <td>0</td>\n",
       "    </tr>\n",
       "    <tr>\n",
       "      <th>S129</th>\n",
       "      <td>0</td>\n",
       "      <td>0</td>\n",
       "      <td>0</td>\n",
       "      <td>3</td>\n",
       "      <td>0</td>\n",
       "      <td>0</td>\n",
       "      <td>0</td>\n",
       "    </tr>\n",
       "    <tr>\n",
       "      <th>S130</th>\n",
       "      <td>0</td>\n",
       "      <td>0</td>\n",
       "      <td>0</td>\n",
       "      <td>1</td>\n",
       "      <td>0</td>\n",
       "      <td>0</td>\n",
       "      <td>0</td>\n",
       "    </tr>\n",
       "    <tr>\n",
       "      <th>S133</th>\n",
       "      <td>0</td>\n",
       "      <td>0</td>\n",
       "      <td>0</td>\n",
       "      <td>0</td>\n",
       "      <td>0</td>\n",
       "      <td>23801</td>\n",
       "      <td>0</td>\n",
       "    </tr>\n",
       "    <tr>\n",
       "      <th>S134</th>\n",
       "      <td>0</td>\n",
       "      <td>0</td>\n",
       "      <td>0</td>\n",
       "      <td>1031</td>\n",
       "      <td>0</td>\n",
       "      <td>0</td>\n",
       "      <td>0</td>\n",
       "    </tr>\n",
       "    <tr>\n",
       "      <th>S135</th>\n",
       "      <td>0</td>\n",
       "      <td>0</td>\n",
       "      <td>0</td>\n",
       "      <td>2</td>\n",
       "      <td>0</td>\n",
       "      <td>0</td>\n",
       "      <td>0</td>\n",
       "    </tr>\n",
       "    <tr>\n",
       "      <th>S136</th>\n",
       "      <td>0</td>\n",
       "      <td>0</td>\n",
       "      <td>0</td>\n",
       "      <td>3</td>\n",
       "      <td>0</td>\n",
       "      <td>0</td>\n",
       "      <td>0</td>\n",
       "    </tr>\n",
       "    <tr>\n",
       "      <th>S137</th>\n",
       "      <td>0</td>\n",
       "      <td>1381</td>\n",
       "      <td>0</td>\n",
       "      <td>0</td>\n",
       "      <td>0</td>\n",
       "      <td>0</td>\n",
       "      <td>0</td>\n",
       "    </tr>\n",
       "    <tr>\n",
       "      <th>S138</th>\n",
       "      <td>0</td>\n",
       "      <td>0</td>\n",
       "      <td>0</td>\n",
       "      <td>1</td>\n",
       "      <td>0</td>\n",
       "      <td>0</td>\n",
       "      <td>0</td>\n",
       "    </tr>\n",
       "    <tr>\n",
       "      <th>S139</th>\n",
       "      <td>0</td>\n",
       "      <td>0</td>\n",
       "      <td>0</td>\n",
       "      <td>3</td>\n",
       "      <td>0</td>\n",
       "      <td>0</td>\n",
       "      <td>0</td>\n",
       "    </tr>\n",
       "    <tr>\n",
       "      <th>S140</th>\n",
       "      <td>0</td>\n",
       "      <td>0</td>\n",
       "      <td>0</td>\n",
       "      <td>1</td>\n",
       "      <td>0</td>\n",
       "      <td>0</td>\n",
       "      <td>0</td>\n",
       "    </tr>\n",
       "    <tr>\n",
       "      <th>S141</th>\n",
       "      <td>0</td>\n",
       "      <td>0</td>\n",
       "      <td>0</td>\n",
       "      <td>47</td>\n",
       "      <td>0</td>\n",
       "      <td>0</td>\n",
       "      <td>0</td>\n",
       "    </tr>\n",
       "    <tr>\n",
       "      <th>S143</th>\n",
       "      <td>0</td>\n",
       "      <td>0</td>\n",
       "      <td>0</td>\n",
       "      <td>0</td>\n",
       "      <td>0</td>\n",
       "      <td>0</td>\n",
       "      <td>3480</td>\n",
       "    </tr>\n",
       "    <tr>\n",
       "      <th>S144</th>\n",
       "      <td>0</td>\n",
       "      <td>0</td>\n",
       "      <td>0</td>\n",
       "      <td>242</td>\n",
       "      <td>0</td>\n",
       "      <td>0</td>\n",
       "      <td>0</td>\n",
       "    </tr>\n",
       "    <tr>\n",
       "      <th>S150</th>\n",
       "      <td>0</td>\n",
       "      <td>0</td>\n",
       "      <td>0</td>\n",
       "      <td>9</td>\n",
       "      <td>0</td>\n",
       "      <td>0</td>\n",
       "      <td>0</td>\n",
       "    </tr>\n",
       "    <tr>\n",
       "      <th>S151</th>\n",
       "      <td>0</td>\n",
       "      <td>0</td>\n",
       "      <td>0</td>\n",
       "      <td>574</td>\n",
       "      <td>0</td>\n",
       "      <td>0</td>\n",
       "      <td>0</td>\n",
       "    </tr>\n",
       "    <tr>\n",
       "      <th>S153</th>\n",
       "      <td>0</td>\n",
       "      <td>0</td>\n",
       "      <td>0</td>\n",
       "      <td>408</td>\n",
       "      <td>0</td>\n",
       "      <td>0</td>\n",
       "      <td>0</td>\n",
       "    </tr>\n",
       "    <tr>\n",
       "      <th>S154</th>\n",
       "      <td>0</td>\n",
       "      <td>0</td>\n",
       "      <td>0</td>\n",
       "      <td>1</td>\n",
       "      <td>0</td>\n",
       "      <td>0</td>\n",
       "      <td>0</td>\n",
       "    </tr>\n",
       "    <tr>\n",
       "      <th>S155</th>\n",
       "      <td>0</td>\n",
       "      <td>0</td>\n",
       "      <td>0</td>\n",
       "      <td>2</td>\n",
       "      <td>0</td>\n",
       "      <td>0</td>\n",
       "      <td>0</td>\n",
       "    </tr>\n",
       "    <tr>\n",
       "      <th>S156</th>\n",
       "      <td>0</td>\n",
       "      <td>0</td>\n",
       "      <td>0</td>\n",
       "      <td>245</td>\n",
       "      <td>0</td>\n",
       "      <td>0</td>\n",
       "      <td>0</td>\n",
       "    </tr>\n",
       "    <tr>\n",
       "      <th>S157</th>\n",
       "      <td>0</td>\n",
       "      <td>0</td>\n",
       "      <td>0</td>\n",
       "      <td>522</td>\n",
       "      <td>0</td>\n",
       "      <td>0</td>\n",
       "      <td>0</td>\n",
       "    </tr>\n",
       "    <tr>\n",
       "      <th>S158</th>\n",
       "      <td>0</td>\n",
       "      <td>0</td>\n",
       "      <td>0</td>\n",
       "      <td>170</td>\n",
       "      <td>0</td>\n",
       "      <td>0</td>\n",
       "      <td>0</td>\n",
       "    </tr>\n",
       "    <tr>\n",
       "      <th>S159</th>\n",
       "      <td>0</td>\n",
       "      <td>0</td>\n",
       "      <td>4481</td>\n",
       "      <td>0</td>\n",
       "      <td>0</td>\n",
       "      <td>0</td>\n",
       "      <td>0</td>\n",
       "    </tr>\n",
       "    <tr>\n",
       "      <th>S160</th>\n",
       "      <td>0</td>\n",
       "      <td>0</td>\n",
       "      <td>0</td>\n",
       "      <td>8</td>\n",
       "      <td>0</td>\n",
       "      <td>0</td>\n",
       "      <td>0</td>\n",
       "    </tr>\n",
       "    <tr>\n",
       "      <th>S161</th>\n",
       "      <td>0</td>\n",
       "      <td>0</td>\n",
       "      <td>0</td>\n",
       "      <td>611</td>\n",
       "      <td>0</td>\n",
       "      <td>0</td>\n",
       "      <td>0</td>\n",
       "    </tr>\n",
       "    <tr>\n",
       "      <th>S162</th>\n",
       "      <td>0</td>\n",
       "      <td>0</td>\n",
       "      <td>0</td>\n",
       "      <td>26</td>\n",
       "      <td>0</td>\n",
       "      <td>0</td>\n",
       "      <td>0</td>\n",
       "    </tr>\n",
       "  </tbody>\n",
       "</table>\n",
       "</div>"
      ],
      "text/plain": [
       "Source-group    10    11    12     6      7      8     9\n",
       "Source                                                  \n",
       "S122             0     0     0     0  30912      0     0\n",
       "S123             0     0     0    64      0      0     0\n",
       "S124             0     0     0    20      0      0     0\n",
       "S125             0     0     0     1      0      0     0\n",
       "S127          1566     0     0     0      0      0     0\n",
       "S129             0     0     0     3      0      0     0\n",
       "S130             0     0     0     1      0      0     0\n",
       "S133             0     0     0     0      0  23801     0\n",
       "S134             0     0     0  1031      0      0     0\n",
       "S135             0     0     0     2      0      0     0\n",
       "S136             0     0     0     3      0      0     0\n",
       "S137             0  1381     0     0      0      0     0\n",
       "S138             0     0     0     1      0      0     0\n",
       "S139             0     0     0     3      0      0     0\n",
       "S140             0     0     0     1      0      0     0\n",
       "S141             0     0     0    47      0      0     0\n",
       "S143             0     0     0     0      0      0  3480\n",
       "S144             0     0     0   242      0      0     0\n",
       "S150             0     0     0     9      0      0     0\n",
       "S151             0     0     0   574      0      0     0\n",
       "S153             0     0     0   408      0      0     0\n",
       "S154             0     0     0     1      0      0     0\n",
       "S155             0     0     0     2      0      0     0\n",
       "S156             0     0     0   245      0      0     0\n",
       "S157             0     0     0   522      0      0     0\n",
       "S158             0     0     0   170      0      0     0\n",
       "S159             0     0  4481     0      0      0     0\n",
       "S160             0     0     0     8      0      0     0\n",
       "S161             0     0     0   611      0      0     0\n",
       "S162             0     0     0    26      0      0     0"
      ]
     },
     "execution_count": 446,
     "metadata": {},
     "output_type": "execute_result"
    }
   ],
   "source": [
    "y = pd.crosstab(X_train[\"Source\"],X_train[\"Source-group\"])\n",
    "y"
   ]
  },
  {
   "cell_type": "code",
   "execution_count": 447,
   "metadata": {
    "collapsed": false
   },
   "outputs": [],
   "source": [
    "X_train.drop([\"Source\"],axis=1, inplace=True) # Usuwam oryginalną zmienną"
   ]
  },
  {
   "cell_type": "markdown",
   "metadata": {
    "collapsed": false,
    "scrolled": true
   },
   "source": [
    "### Var4"
   ]
  },
  {
   "cell_type": "code",
   "execution_count": 448,
   "metadata": {
    "collapsed": false,
    "scrolled": false
   },
   "outputs": [
    {
     "data": {
      "image/png": "[encoded data removed]",
      "text/plain": [
       "<Figure size 432x288 with 1 Axes>"
      ]
     },
     "metadata": {},
     "output_type": "display_data"
    }
   ],
   "source": [
    "# Z opisu Var4- Categorical Variable with multiple Levels ale zmienna wczytuje się jako int!\n",
    "# Datego zamieniam ją na string. Kategorii jest 8, pozostawiam zmienną bez dodatkowego grupowania\n",
    "X_train['Var4'] = X_train.Var4.astype('str')\n",
    "x = pd.crosstab(X_train[\"Var4\"],y_train, normalize= \"index\") \n",
    "x.iloc[:,1].plot(kind=\"bar\") \n",
    "plt.show()"
   ]
  },
  {
   "cell_type": "code",
   "execution_count": 449,
   "metadata": {
    "collapsed": false
   },
   "outputs": [
    {
     "data": {
      "text/plain": [
       "3    20241\n",
       "1    19143\n",
       "5    16201\n",
       "4     5234\n",
       "2     4710\n",
       "0     2046\n",
       "7     1852\n",
       "6      189\n",
       "Name: Var4, dtype: int64"
      ]
     },
     "execution_count": 449,
     "metadata": {},
     "output_type": "execute_result"
    }
   ],
   "source": [
    "X_train['Var4'].value_counts()"
   ]
  },
  {
   "cell_type": "markdown",
   "metadata": {
    "collapsed": false,
    "scrolled": true
   },
   "source": [
    "## 5. Analiza zmiennych numerycznych na danych treningowych"
   ]
  },
  {
   "cell_type": "code",
   "execution_count": 450,
   "metadata": {
    "collapsed": false,
    "scrolled": true
   },
   "outputs": [
    {
     "data": {
      "text/html": [
       "<div>\n",
       "<style scoped>\n",
       "    .dataframe tbody tr th:only-of-type {\n",
       "        vertical-align: middle;\n",
       "    }\n",
       "\n",
       "    .dataframe tbody tr th {\n",
       "        vertical-align: top;\n",
       "    }\n",
       "\n",
       "    .dataframe thead th {\n",
       "        text-align: right;\n",
       "    }\n",
       "</style>\n",
       "<table border=\"1\" class=\"dataframe\">\n",
       "  <thead>\n",
       "    <tr style=\"text-align: right;\">\n",
       "      <th></th>\n",
       "      <th>Gender</th>\n",
       "      <th>Monthly_Income</th>\n",
       "      <th>Loan_Amount_Applied</th>\n",
       "      <th>Loan_Tenure_Applied</th>\n",
       "      <th>Existing_EMI</th>\n",
       "      <th>Var5</th>\n",
       "      <th>Loan_Amount_Submitted</th>\n",
       "      <th>Loan_Tenure_Submitted</th>\n",
       "      <th>Interest_Rate</th>\n",
       "      <th>Processing_Fee</th>\n",
       "      <th>EMI_Loan_Submitted</th>\n",
       "      <th>AGE</th>\n",
       "      <th>Number_Of_Employees</th>\n",
       "    </tr>\n",
       "  </thead>\n",
       "  <tbody>\n",
       "    <tr>\n",
       "      <th>count</th>\n",
       "      <td>69616.000000</td>\n",
       "      <td>6.961600e+04</td>\n",
       "      <td>6.955800e+04</td>\n",
       "      <td>69558.000000</td>\n",
       "      <td>6.955800e+04</td>\n",
       "      <td>69616.000000</td>\n",
       "      <td>4.185700e+04</td>\n",
       "      <td>41857.000000</td>\n",
       "      <td>22112.000000</td>\n",
       "      <td>21861.000000</td>\n",
       "      <td>22112.000000</td>\n",
       "      <td>69600.000000</td>\n",
       "      <td>69616.000000</td>\n",
       "    </tr>\n",
       "    <tr>\n",
       "      <th>mean</th>\n",
       "      <td>0.427402</td>\n",
       "      <td>5.521687e+04</td>\n",
       "      <td>2.313030e+05</td>\n",
       "      <td>2.135283</td>\n",
       "      <td>3.742334e+03</td>\n",
       "      <td>4.958386</td>\n",
       "      <td>3.947356e+05</td>\n",
       "      <td>3.890747</td>\n",
       "      <td>19.203373</td>\n",
       "      <td>5116.949499</td>\n",
       "      <td>10971.971223</td>\n",
       "      <td>30.883333</td>\n",
       "      <td>1.162928</td>\n",
       "    </tr>\n",
       "    <tr>\n",
       "      <th>std</th>\n",
       "      <td>0.494705</td>\n",
       "      <td>1.704543e+06</td>\n",
       "      <td>3.575029e+05</td>\n",
       "      <td>2.014950</td>\n",
       "      <td>4.420452e+04</td>\n",
       "      <td>5.670133</td>\n",
       "      <td>3.082988e+05</td>\n",
       "      <td>1.164953</td>\n",
       "      <td>5.833158</td>\n",
       "      <td>4695.040303</td>\n",
       "      <td>7465.508516</td>\n",
       "      <td>7.082282</td>\n",
       "      <td>1.507421</td>\n",
       "    </tr>\n",
       "    <tr>\n",
       "      <th>min</th>\n",
       "      <td>0.000000</td>\n",
       "      <td>0.000000e+00</td>\n",
       "      <td>0.000000e+00</td>\n",
       "      <td>0.000000</td>\n",
       "      <td>0.000000e+00</td>\n",
       "      <td>0.000000</td>\n",
       "      <td>5.000000e+04</td>\n",
       "      <td>1.000000</td>\n",
       "      <td>11.990000</td>\n",
       "      <td>200.000000</td>\n",
       "      <td>1185.560000</td>\n",
       "      <td>18.000000</td>\n",
       "      <td>0.000000</td>\n",
       "    </tr>\n",
       "    <tr>\n",
       "      <th>25%</th>\n",
       "      <td>0.000000</td>\n",
       "      <td>1.650000e+04</td>\n",
       "      <td>0.000000e+00</td>\n",
       "      <td>0.000000</td>\n",
       "      <td>0.000000e+00</td>\n",
       "      <td>0.000000</td>\n",
       "      <td>2.000000e+05</td>\n",
       "      <td>3.000000</td>\n",
       "      <td>15.250000</td>\n",
       "      <td>2000.000000</td>\n",
       "      <td>6513.610000</td>\n",
       "      <td>26.000000</td>\n",
       "      <td>0.000000</td>\n",
       "    </tr>\n",
       "    <tr>\n",
       "      <th>50%</th>\n",
       "      <td>0.000000</td>\n",
       "      <td>2.500000e+04</td>\n",
       "      <td>1.000000e+05</td>\n",
       "      <td>2.000000</td>\n",
       "      <td>0.000000e+00</td>\n",
       "      <td>2.000000</td>\n",
       "      <td>3.000000e+05</td>\n",
       "      <td>4.000000</td>\n",
       "      <td>18.000000</td>\n",
       "      <td>3900.000000</td>\n",
       "      <td>9392.970000</td>\n",
       "      <td>29.000000</td>\n",
       "      <td>0.693147</td>\n",
       "    </tr>\n",
       "    <tr>\n",
       "      <th>75%</th>\n",
       "      <td>1.000000</td>\n",
       "      <td>4.000000e+04</td>\n",
       "      <td>3.000000e+05</td>\n",
       "      <td>4.000000</td>\n",
       "      <td>3.500000e+03</td>\n",
       "      <td>11.000000</td>\n",
       "      <td>5.000000e+05</td>\n",
       "      <td>5.000000</td>\n",
       "      <td>20.000000</td>\n",
       "      <td>6250.000000</td>\n",
       "      <td>12862.545000</td>\n",
       "      <td>34.000000</td>\n",
       "      <td>1.945910</td>\n",
       "    </tr>\n",
       "    <tr>\n",
       "      <th>max</th>\n",
       "      <td>1.000000</td>\n",
       "      <td>3.838384e+08</td>\n",
       "      <td>1.000000e+07</td>\n",
       "      <td>10.000000</td>\n",
       "      <td>1.000000e+07</td>\n",
       "      <td>18.000000</td>\n",
       "      <td>3.000000e+06</td>\n",
       "      <td>6.000000</td>\n",
       "      <td>37.000000</td>\n",
       "      <td>50000.000000</td>\n",
       "      <td>144748.280000</td>\n",
       "      <td>83.000000</td>\n",
       "      <td>6.066108</td>\n",
       "    </tr>\n",
       "  </tbody>\n",
       "</table>\n",
       "</div>"
      ],
      "text/plain": [
       "             Gender  Monthly_Income  Loan_Amount_Applied  Loan_Tenure_Applied  \\\n",
       "count  69616.000000    6.961600e+04         6.955800e+04         69558.000000   \n",
       "mean       0.427402    5.521687e+04         2.313030e+05             2.135283   \n",
       "std        0.494705    1.704543e+06         3.575029e+05             2.014950   \n",
       "min        0.000000    0.000000e+00         0.000000e+00             0.000000   \n",
       "25%        0.000000    1.650000e+04         0.000000e+00             0.000000   \n",
       "50%        0.000000    2.500000e+04         1.000000e+05             2.000000   \n",
       "75%        1.000000    4.000000e+04         3.000000e+05             4.000000   \n",
       "max        1.000000    3.838384e+08         1.000000e+07            10.000000   \n",
       "\n",
       "       Existing_EMI          Var5  Loan_Amount_Submitted  \\\n",
       "count  6.955800e+04  69616.000000           4.185700e+04   \n",
       "mean   3.742334e+03      4.958386           3.947356e+05   \n",
       "std    4.420452e+04      5.670133           3.082988e+05   \n",
       "min    0.000000e+00      0.000000           5.000000e+04   \n",
       "25%    0.000000e+00      0.000000           2.000000e+05   \n",
       "50%    0.000000e+00      2.000000           3.000000e+05   \n",
       "75%    3.500000e+03     11.000000           5.000000e+05   \n",
       "max    1.000000e+07     18.000000           3.000000e+06   \n",
       "\n",
       "       Loan_Tenure_Submitted  Interest_Rate  Processing_Fee  \\\n",
       "count           41857.000000   22112.000000    21861.000000   \n",
       "mean                3.890747      19.203373     5116.949499   \n",
       "std                 1.164953       5.833158     4695.040303   \n",
       "min                 1.000000      11.990000      200.000000   \n",
       "25%                 3.000000      15.250000     2000.000000   \n",
       "50%                 4.000000      18.000000     3900.000000   \n",
       "75%                 5.000000      20.000000     6250.000000   \n",
       "max                 6.000000      37.000000    50000.000000   \n",
       "\n",
       "       EMI_Loan_Submitted           AGE  Number_Of_Employees  \n",
       "count        22112.000000  69600.000000         69616.000000  \n",
       "mean         10971.971223     30.883333             1.162928  \n",
       "std           7465.508516      7.082282             1.507421  \n",
       "min           1185.560000     18.000000             0.000000  \n",
       "25%           6513.610000     26.000000             0.000000  \n",
       "50%           9392.970000     29.000000             0.693147  \n",
       "75%          12862.545000     34.000000             1.945910  \n",
       "max         144748.280000     83.000000             6.066108  "
      ]
     },
     "execution_count": 450,
     "metadata": {},
     "output_type": "execute_result"
    }
   ],
   "source": [
    "X_train.describe() "
   ]
  },
  {
   "cell_type": "code",
   "execution_count": 451,
   "metadata": {
    "collapsed": false,
    "scrolled": true
   },
   "outputs": [
    {
     "data": {
      "image/png": "[encoded data removed]",
      "text/plain": [
       "<Figure size 1440x1080 with 16 Axes>"
      ]
     },
     "metadata": {},
     "output_type": "display_data"
    }
   ],
   "source": [
    "# Histogramy poszczególnych zmiennych numerycznych\n",
    "X_train.hist(bins=50,figsize = (20,15))\n",
    "plt.show()"
   ]
  },
  {
   "cell_type": "markdown",
   "metadata": {},
   "source": [
    "### Monthly_Income"
   ]
  },
  {
   "cell_type": "code",
   "execution_count": 452,
   "metadata": {
    "collapsed": false
   },
   "outputs": [
    {
     "name": "stdout",
     "output_type": "stream",
     "text": [
      "Liczba NULLi w zmiennej: 0\n"
     ]
    }
   ],
   "source": [
    "# Brak NULLi w zmiennej\n",
    "print(\"Liczba NULLi w zmiennej:\", X_train.Monthly_Income.isnull().sum())"
   ]
  },
  {
   "cell_type": "code",
   "execution_count": 453,
   "metadata": {
    "collapsed": false,
    "scrolled": false
   },
   "outputs": [
    {
     "data": {
      "image/png": "[encoded data removed]",
      "text/plain": [
       "<Figure size 432x288 with 1 Axes>"
      ]
     },
     "metadata": {},
     "output_type": "display_data"
    }
   ],
   "source": [
    "# Histogram zmiennej Monthly_Income jest zdominowany przez obserwacje z wysokimi wartościami\n",
    "# (które mają sens, bo osoby te zaciągnęły bardzo duże kwoty kredytu).\n",
    "# Poniżej histogram pozwalający ocenić wystąpienie skośności (WYSTĘPUJE) w tej zmiennej\n",
    "plt.hist(X_train[\"Monthly_Income\"], bins = 50, range=(0, np.percentile(X_train[\"Monthly_Income\"],99.9)))\n",
    "plt.title(\"Monthly_Income\")\n",
    "plt.show()"
   ]
  },
  {
   "cell_type": "code",
   "execution_count": 454,
   "metadata": {
    "collapsed": false,
    "scrolled": true
   },
   "outputs": [],
   "source": [
    "# Z uwagi na skośność wymagane przekształcenie log zmiennej\n",
    "X_train[\"Monthly_Income\"] = np.where(X_train[\"Monthly_Income\"]==0, 0,np.log(X_train[\"Monthly_Income\"]))"
   ]
  },
  {
   "cell_type": "code",
   "execution_count": 455,
   "metadata": {
    "collapsed": false
   },
   "outputs": [
    {
     "data": {
      "image/png": "[encoded data removed]",
      "text/plain": [
       "<Figure size 432x288 with 1 Axes>"
      ]
     },
     "metadata": {},
     "output_type": "display_data"
    }
   ],
   "source": [
    "plt.hist(X_train[\"Monthly_Income\"], bins=50)\n",
    "plt.title(\"Monthly_Income po przekształceniu log\")\n",
    "plt.show()"
   ]
  },
  {
   "cell_type": "markdown",
   "metadata": {},
   "source": [
    "### Existing_EMI"
   ]
  },
  {
   "cell_type": "code",
   "execution_count": 456,
   "metadata": {
    "collapsed": false,
    "scrolled": true
   },
   "outputs": [
    {
     "name": "stdout",
     "output_type": "stream",
     "text": [
      "Liczba NULLi w zmiennej przed wypełnieniem: 58\n",
      "Liczba NULLi po uzupełnieniu braków: 0\n"
     ]
    }
   ],
   "source": [
    "# Analiza NULLi w zmiennej\n",
    "print(\"Liczba NULLi w zmiennej przed wypełnieniem:\", X_train.Existing_EMI.isnull().sum())\n",
    "# Na histogramie tej zmiennej widać, że najczęściej występująca wartość tej zmiennej to 0.\n",
    "# Braki uzupełniamy tą wartością 0\n",
    "X_train[\"Existing_EMI\"] = X_train.Existing_EMI.fillna(0)\n",
    "print(\"Liczba NULLi po uzupełnieniu braków:\", X_train.Existing_EMI.isnull().sum())"
   ]
  },
  {
   "cell_type": "code",
   "execution_count": 457,
   "metadata": {
    "collapsed": false,
    "scrolled": true
   },
   "outputs": [
    {
     "data": {
      "image/png": "[encoded data removed]",
      "text/plain": [
       "<Figure size 432x288 with 1 Axes>"
      ]
     },
     "metadata": {},
     "output_type": "display_data"
    }
   ],
   "source": [
    "# Występowanie obserwacji o wysokich wartościach uniemożliwia wizualną ocenę kształtu histogramu\n",
    "# Podejście analogiczne do zmiennej Monthly_income\n",
    "plt.hist(X_train[\"Existing_EMI\"], bins = 50, range=(0, np.percentile(X_train[\"Existing_EMI\"],99.9)))\n",
    "plt.title(\"Existing_EMI\")\n",
    "plt.show()"
   ]
  },
  {
   "cell_type": "code",
   "execution_count": 458,
   "metadata": {
    "collapsed": false,
    "scrolled": true
   },
   "outputs": [],
   "source": [
    "# Rozkład jest skośny, jednak zdominowany przez wartość 0, dlatego nie dokonuję dalszych przekształceń\n",
    "# na tej zmiennej\n"
   ]
  },
  {
   "cell_type": "markdown",
   "metadata": {
    "collapsed": false
   },
   "source": [
    "### AGE"
   ]
  },
  {
   "cell_type": "code",
   "execution_count": 459,
   "metadata": {
    "collapsed": false
   },
   "outputs": [
    {
     "name": "stdout",
     "output_type": "stream",
     "text": [
      "Liczba NULLi w zmiennej przed wypełnieniem: 16\n"
     ]
    }
   ],
   "source": [
    "# Analiza NULLi w zmiennej\n",
    "print(\"Liczba NULLi w zmiennej przed wypełnieniem:\", X_train.AGE.isnull().sum())"
   ]
  },
  {
   "cell_type": "code",
   "execution_count": 460,
   "metadata": {
    "collapsed": false,
    "scrolled": true
   },
   "outputs": [
    {
     "name": "stdout",
     "output_type": "stream",
     "text": [
      "Mediana wynosi: 29.0\n",
      "Liczba NULLi w zmiennej po wypełnieniu: 0\n"
     ]
    }
   ],
   "source": [
    "# Uzupełniamy braki medianą, średnia jest wrażliwa na obserwacje odstające\n",
    "AGE_median = X_train[\"AGE\"].median()\n",
    "print (\"Mediana wynosi:\", AGE_median)\n",
    "X_train[\"AGE\"]=X_train.AGE.fillna(AGE_median)\n",
    "print(\"Liczba NULLi w zmiennej po wypełnieniu:\", X_train.AGE.isnull().sum())"
   ]
  },
  {
   "cell_type": "code",
   "execution_count": 461,
   "metadata": {
    "collapsed": false
   },
   "outputs": [],
   "source": [
    "# Histogram zmiennej AGE jest skośny, stąd przekształcenie log\n",
    "X_train[\"AGE\"]=np.log(X_train[\"AGE\"])"
   ]
  },
  {
   "cell_type": "code",
   "execution_count": 462,
   "metadata": {
    "collapsed": false,
    "scrolled": true
   },
   "outputs": [
    {
     "data": {
      "image/png": "[encoded data removed]",
      "text/plain": [
       "<Figure size 432x288 with 1 Axes>"
      ]
     },
     "metadata": {},
     "output_type": "display_data"
    }
   ],
   "source": [
    "plt.hist(X_train[\"AGE\"], bins=50)\n",
    "plt.title(\"AGE po przekształceniu log\")\n",
    "plt.show()"
   ]
  },
  {
   "cell_type": "markdown",
   "metadata": {},
   "source": [
    "### EMI_Loan_Submitted, Processing_Fee, Interest_Rate"
   ]
  },
  {
   "cell_type": "code",
   "execution_count": 463,
   "metadata": {
    "collapsed": false,
    "scrolled": true
   },
   "outputs": [
    {
     "name": "stdout",
     "output_type": "stream",
     "text": [
      "Ilość NULLi w zmiennej EMI_Loan_Submitted: 47504\n",
      "% NULLi w zmiennej EMI_Loan_Submitted: 0.6823718685359688\n",
      "Ilość NULLi w zmiennej Processing_Fee: 47755\n",
      "% NULLi w zmiennej Processing_Fee: 0.6859773615260859\n",
      "Ilość NULLi w zmiennej Interest_Rate: 47504\n",
      "% NULLi w zmiennej Interest_Rate: 0.6823718685359688\n"
     ]
    }
   ],
   "source": [
    "# Analiza NULLi w zmiennych\n",
    "print(\"Ilość NULLi w zmiennej EMI_Loan_Submitted:\",\n",
    "     X_train.EMI_Loan_Submitted.isnull().sum())\n",
    "print(\"% NULLi w zmiennej EMI_Loan_Submitted:\",\n",
    "     X_train.EMI_Loan_Submitted.isnull().sum()/X_train.shape[0])\n",
    "print(\"Ilość NULLi w zmiennej Processing_Fee:\",\n",
    "     X_train.Processing_Fee.isnull().sum())\n",
    "print(\"% NULLi w zmiennej Processing_Fee:\",\n",
    "     X_train.Processing_Fee.isnull().sum()/X_train.shape[0])\n",
    "print(\"Ilość NULLi w zmiennej Interest_Rate:\",\n",
    "     X_train.Interest_Rate.isnull().sum())\n",
    "print(\"% NULLi w zmiennej Interest_Rate:\",\n",
    "     X_train.Interest_Rate.isnull().sum()/X_train.shape[0])"
   ]
  },
  {
   "cell_type": "code",
   "execution_count": 464,
   "metadata": {
    "collapsed": false,
    "scrolled": true
   },
   "outputs": [],
   "source": [
    "#Ponieważ powyższe zmienne mają bardzo dużo NULLi zamieniamy je na zmienne binarne (0 dla NULL, 1 dla <> NULL)\n",
    "X_train[\"EMI_Loan_Submitted\"]=np.where(X_train[\"EMI_Loan_Submitted\"].isna(),0,1)\n",
    "X_train[\"Processing_Fee\"]=np.where(X_train[\"Processing_Fee\"].isna(),0,1)\n",
    "X_train[\"Interest_Rate\"]=np.where(X_train[\"Interest_Rate\"].isna(),0,1)"
   ]
  },
  {
   "cell_type": "code",
   "execution_count": 465,
   "metadata": {
    "collapsed": false
   },
   "outputs": [
    {
     "name": "stdout",
     "output_type": "stream",
     "text": [
      "EMI_Loan_Submitted:\n",
      " 0    47504\n",
      "1    22112\n",
      "Name: EMI_Loan_Submitted, dtype: int64\n",
      "Processing_Fee:\n",
      " 0    47755\n",
      "1    21861\n",
      "Name: Processing_Fee, dtype: int64\n",
      "Interest_Rate:\n",
      " 0    47504\n",
      "1    22112\n",
      "Name: Interest_Rate, dtype: int64\n"
     ]
    }
   ],
   "source": [
    "#Sprawdzenie po transformacji (OK)\n",
    "print(\"EMI_Loan_Submitted:\\n\",X_train[\"EMI_Loan_Submitted\"].value_counts())\n",
    "print(\"Processing_Fee:\\n\",X_train[\"Processing_Fee\"].value_counts())\n",
    "print(\"Interest_Rate:\\n\",X_train[\"Interest_Rate\"].value_counts())"
   ]
  },
  {
   "cell_type": "markdown",
   "metadata": {
    "collapsed": false,
    "scrolled": true
   },
   "source": [
    "### Loan_Amount_Applied, Loan_Amount_Submitted"
   ]
  },
  {
   "cell_type": "code",
   "execution_count": 466,
   "metadata": {
    "collapsed": false
   },
   "outputs": [
    {
     "name": "stdout",
     "output_type": "stream",
     "text": [
      "Ilość NULLi w zmiennej Loan_Amount_Applied: 58\n",
      "Ilość NULLi w zmiennej Loan_Amount_Submitted: 27759\n"
     ]
    }
   ],
   "source": [
    "print(\"Ilość NULLi w zmiennej Loan_Amount_Applied:\",X_train.Loan_Amount_Applied.isnull().sum())\n",
    "print(\"Ilość NULLi w zmiennej Loan_Amount_Submitted:\",X_train.Loan_Amount_Submitted.isnull().sum())"
   ]
  },
  {
   "cell_type": "code",
   "execution_count": 467,
   "metadata": {
    "collapsed": false
   },
   "outputs": [],
   "source": [
    "# W pierwszej kolejności uzupełniam braki w zmiennych zerami\n",
    "X_train[\"Loan_Amount_Applied\"] = X_train.Loan_Amount_Applied.fillna(0)\n",
    "X_train[\"Loan_Amount_Submitted\"] = X_train.Loan_Amount_Submitted.fillna(0)"
   ]
  },
  {
   "cell_type": "code",
   "execution_count": 468,
   "metadata": {
    "collapsed": false,
    "scrolled": true
   },
   "outputs": [
    {
     "name": "stdout",
     "output_type": "stream",
     "text": [
      "Ilość NULLi w zmiennej Loan_Amount_Applied po wypełnieniu: 0\n",
      "Ilość NULLi w zmiennej Loan_Amount_Submitted po wypełnieniu: 0\n"
     ]
    }
   ],
   "source": [
    "print(\"Ilość NULLi w zmiennej Loan_Amount_Applied po wypełnieniu:\",\n",
    "      X_train.Loan_Amount_Applied.isnull().sum())\n",
    "print(\"Ilość NULLi w zmiennej Loan_Amount_Submitted po wypełnieniu:\",\n",
    "      X_train.Loan_Amount_Submitted.isnull().sum())"
   ]
  },
  {
   "cell_type": "code",
   "execution_count": 469,
   "metadata": {
    "collapsed": false
   },
   "outputs": [
    {
     "name": "stdout",
     "output_type": "stream",
     "text": [
      "Liczba wierszy w Zbiorze roboczym: 26329\n"
     ]
    }
   ],
   "source": [
    "# W następnej kolejności staramy się uzupełnić zerowe wartości jednej zmiennej \n",
    "# przy użyciu wartości drugiej zmiennej. \n",
    "# Szukamy stosunku zmiennej Loan_Amount_Submitted do Loan_Amount_Applied, bazując na wierszach, które mają\n",
    "# sens merytoryczny (Loan_Amount_Submitted <=Loan_Amount_Applied), oczywiście pomijam 0\n",
    "Zbior_roboczy = X_train[X_train.Loan_Amount_Applied>0]\n",
    "Zbior_roboczy = Zbior_roboczy[Zbior_roboczy.Loan_Amount_Submitted>0]\n",
    "Zbior_roboczy = Zbior_roboczy[Zbior_roboczy.Loan_Amount_Submitted <= Zbior_roboczy.Loan_Amount_Applied]\n",
    "print(\"Liczba wierszy w Zbiorze roboczym:\",Zbior_roboczy.shape[0])"
   ]
  },
  {
   "cell_type": "code",
   "execution_count": 470,
   "metadata": {
    "collapsed": false,
    "scrolled": true
   },
   "outputs": [
    {
     "name": "stdout",
     "output_type": "stream",
     "text": [
      "Średnia z Loan_Amount_Applied: 376828.86\n",
      "Średnia z Loan_Amount_Submitted: 329461.81\n",
      "Iloraz = Loan_Amount_Submitted/Loan_Amount_Applied: 0.8743\n"
     ]
    }
   ],
   "source": [
    "Mean_Applied = np.mean(Zbior_roboczy.Loan_Amount_Applied)\n",
    "Mean_Submitted = np.mean(Zbior_roboczy.Loan_Amount_Submitted)\n",
    "Iloraz = Mean_Submitted/Mean_Applied\n",
    "print(\"Średnia z Loan_Amount_Applied:\",np.round(Mean_Applied,2))\n",
    "print(\"Średnia z Loan_Amount_Submitted:\",np.round(Mean_Submitted,2))\n",
    "print(\"Iloraz = Loan_Amount_Submitted/Loan_Amount_Applied:\",np.round(Iloraz,4))"
   ]
  },
  {
   "cell_type": "code",
   "execution_count": 471,
   "metadata": {
    "collapsed": false,
    "scrolled": true
   },
   "outputs": [],
   "source": [
    "# Uzupełniam zmienną Loan_Amount_Applied za pomocą zmiennej Loan_Amount_Submitted\n",
    "def Imputer_Loan_Amount_Applied(data):\n",
    "        if (data[\"Loan_Amount_Applied\"]==0 and data[\"Loan_Amount_Submitted\"]>0 ):\n",
    "            return data[\"Loan_Amount_Submitted\"]/Iloraz\n",
    "        else:\n",
    "            return data[\"Loan_Amount_Applied\"]\n",
    "X_train[\"Loan_Amount_Applied\"] = X_train.apply(Imputer_Loan_Amount_Applied, axis=1)"
   ]
  },
  {
   "cell_type": "code",
   "execution_count": 472,
   "metadata": {
    "collapsed": false,
    "scrolled": true
   },
   "outputs": [],
   "source": [
    "# Uzupełniam zmienną Loan_Amount_Submitted za pomocą zmiennej Loan_Amount_Applied\n",
    "def Imputer_Loan_Amount_Submitted(data):\n",
    "        if (data[\"Loan_Amount_Submitted\"]==0 and data[\"Loan_Amount_Applied\"]>0 ):\n",
    "            return data[\"Loan_Amount_Applied\"]*Iloraz\n",
    "        else:\n",
    "            return data[\"Loan_Amount_Submitted\"]\n",
    "X_train[\"Loan_Amount_Submitted\"] = X_train.apply(Imputer_Loan_Amount_Submitted, axis=1)"
   ]
  },
  {
   "cell_type": "code",
   "execution_count": 473,
   "metadata": {
    "collapsed": false
   },
   "outputs": [
    {
     "name": "stdout",
     "output_type": "stream",
     "text": [
      "Pozostało par (0,0): 8320\n"
     ]
    }
   ],
   "source": [
    "# Jeżeli zarówno Loan_Amount_Applied i Loan_Amount_Submitted = 0, to tak je pozostawiam (nie robię nic)\n",
    "# Sprawdzam ile tych wartości zostało:\n",
    "Tmp = X_train[X_train.Loan_Amount_Applied==0]\n",
    "Tmp = Tmp[Tmp.Loan_Amount_Submitted==0]\n",
    "print (\"Pozostało par (0,0):\",Tmp.shape[0])"
   ]
  },
  {
   "cell_type": "code",
   "execution_count": 474,
   "metadata": {
    "collapsed": false,
    "scrolled": true
   },
   "outputs": [
    {
     "data": {
      "image/png": "[encoded data removed]",
      "text/plain": [
       "<Figure size 432x288 with 1 Axes>"
      ]
     },
     "metadata": {},
     "output_type": "display_data"
    }
   ],
   "source": [
    "# Badam skośność zmiennych po uzupełnieniu\n",
    "plt.hist(X_train.Loan_Amount_Applied, bins=50)\n",
    "plt.title(\"Loan_Amount_Applied\")\n",
    "plt.show()"
   ]
  },
  {
   "cell_type": "code",
   "execution_count": 475,
   "metadata": {
    "collapsed": false,
    "scrolled": true
   },
   "outputs": [
    {
     "data": {
      "image/png": "[encoded data removed]",
      "text/plain": [
       "<Figure size 432x288 with 1 Axes>"
      ]
     },
     "metadata": {},
     "output_type": "display_data"
    }
   ],
   "source": [
    "plt.hist(X_train.Loan_Amount_Submitted, bins=50)\n",
    "plt.title(\"Loan_Amount_Submitted\")\n",
    "plt.show()"
   ]
  },
  {
   "cell_type": "code",
   "execution_count": 476,
   "metadata": {
    "collapsed": false,
    "scrolled": true
   },
   "outputs": [],
   "source": [
    "# Przekształcamy obie zmienne transformacją log\n",
    "X_train.Loan_Amount_Applied=np.where(X_train.Loan_Amount_Applied==0,0,\n",
    "                                     np.log(X_train.Loan_Amount_Applied))\n",
    "X_train.Loan_Amount_Submitted=np.where(X_train.Loan_Amount_Submitted==0,0,\n",
    "                                       np.log(X_train.Loan_Amount_Submitted))"
   ]
  },
  {
   "cell_type": "code",
   "execution_count": 477,
   "metadata": {
    "collapsed": false,
    "scrolled": true
   },
   "outputs": [
    {
     "data": {
      "image/png": "[encoded data removed]",
      "text/plain": [
       "<Figure size 432x288 with 1 Axes>"
      ]
     },
     "metadata": {},
     "output_type": "display_data"
    }
   ],
   "source": [
    "plt.hist(X_train.Loan_Amount_Applied, bins=50) # ZASTANOWIĆ SIĘ CZY TO JEST DOBRZE\n",
    "plt.title(\"Loan_Amount_Applied po transformacji\")\n",
    "plt.show()"
   ]
  },
  {
   "cell_type": "code",
   "execution_count": 478,
   "metadata": {
    "collapsed": false
   },
   "outputs": [
    {
     "data": {
      "image/png": "[encoded data removed]",
      "text/plain": [
       "<Figure size 432x288 with 1 Axes>"
      ]
     },
     "metadata": {},
     "output_type": "display_data"
    }
   ],
   "source": [
    "plt.hist(X_train.Loan_Amount_Submitted, bins=50)\n",
    "plt.title(\"Loan_Amount_Submitted po transformacji\")\n",
    "plt.show()"
   ]
  },
  {
   "cell_type": "markdown",
   "metadata": {},
   "source": [
    "### Loan_Tenure_Applied, Loan_Tenure_Submitted"
   ]
  },
  {
   "cell_type": "code",
   "execution_count": 479,
   "metadata": {
    "collapsed": false
   },
   "outputs": [
    {
     "name": "stdout",
     "output_type": "stream",
     "text": [
      "Ilość NULLi w zmiennej Loan_Tenure_Applied: 58\n",
      "Ilość NULLi w zmiennej Loan_Tenure_Submitted: 27759\n"
     ]
    }
   ],
   "source": [
    "print(\"Ilość NULLi w zmiennej Loan_Tenure_Applied:\",X_train.Loan_Tenure_Applied.isnull().sum())\n",
    "print(\"Ilość NULLi w zmiennej Loan_Tenure_Submitted:\",X_train.Loan_Tenure_Submitted.isnull().sum())"
   ]
  },
  {
   "cell_type": "code",
   "execution_count": 480,
   "metadata": {
    "collapsed": false,
    "scrolled": true
   },
   "outputs": [
    {
     "name": "stdout",
     "output_type": "stream",
     "text": [
      "Ilość NULLi w zmiennej Loan_Tenure_Applied po wypełnieniu: 0\n",
      "Ilość NULLi w zmiennej Loan_Tenure_Submitted po wypełnieniu: 0\n"
     ]
    }
   ],
   "source": [
    "# W pierwszej kolejności uzupełniam braki w zmiennych zerami\n",
    "X_train[\"Loan_Tenure_Applied\"] = X_train.Loan_Tenure_Applied.fillna(0)\n",
    "X_train[\"Loan_Tenure_Submitted\"] = X_train.Loan_Tenure_Submitted.fillna(0)\n",
    "print(\"Ilość NULLi w zmiennej Loan_Tenure_Applied po wypełnieniu:\",\n",
    "      X_train.Loan_Tenure_Applied.isnull().sum())\n",
    "print(\"Ilość NULLi w zmiennej Loan_Tenure_Submitted po wypełnieniu:\",\n",
    "      X_train.Loan_Tenure_Submitted.isnull().sum())"
   ]
  },
  {
   "cell_type": "code",
   "execution_count": 481,
   "metadata": {
    "collapsed": false,
    "scrolled": true
   },
   "outputs": [
    {
     "name": "stdout",
     "output_type": "stream",
     "text": [
      "Liczba wierszy w Zbiorze roboczym: 24548\n"
     ]
    }
   ],
   "source": [
    "# Analizuję zależność pomiędzy zmiennymi Loan_Tenure_Applied oraz Loan_Tenure_Submitted\n",
    "Zbior_roboczy = X_train[X_train.Loan_Tenure_Applied>0]\n",
    "Zbior_roboczy = Zbior_roboczy[Zbior_roboczy.Loan_Tenure_Submitted>0]\n",
    "Zbior_roboczy = Zbior_roboczy[Zbior_roboczy.Loan_Tenure_Submitted <= Zbior_roboczy.Loan_Tenure_Applied]\n",
    "print(\"Liczba wierszy w Zbiorze roboczym:\",Zbior_roboczy.shape[0])"
   ]
  },
  {
   "cell_type": "code",
   "execution_count": 482,
   "metadata": {
    "collapsed": false,
    "scrolled": true
   },
   "outputs": [
    {
     "name": "stdout",
     "output_type": "stream",
     "text": [
      "Średnia z Loan_Tenure_Applied: 3.56\n",
      "Średnia z Loan_Tenure_Submitted: 3.55\n",
      "Iloraz_Tenure = Loan_Tenure_Submitted/Loan_Tenure_Applied: 0.9962\n"
     ]
    }
   ],
   "source": [
    "# Analogicznie jak dla zmiennych Loan_Amount_Applied/Submitted badam zależność pomiędzy tymi zmiennymi\n",
    "Mean_Tenure_Applied = np.mean(Zbior_roboczy.Loan_Tenure_Applied)\n",
    "Mean_Tenure_Submitted = np.mean(Zbior_roboczy.Loan_Tenure_Submitted)\n",
    "Iloraz_Tenure = Mean_Tenure_Submitted/Mean_Tenure_Applied\n",
    "print(\"Średnia z Loan_Tenure_Applied:\",np.round(Mean_Tenure_Applied,2))\n",
    "print(\"Średnia z Loan_Tenure_Submitted:\",np.round(Mean_Tenure_Submitted,2))\n",
    "print(\"Iloraz_Tenure = Loan_Tenure_Submitted/Loan_Tenure_Applied:\",np.round(Iloraz_Tenure,4))"
   ]
  },
  {
   "cell_type": "code",
   "execution_count": 483,
   "metadata": {
    "collapsed": true
   },
   "outputs": [],
   "source": [
    "# Wniosek jest taki, że zależność jest praktycznie 1:1"
   ]
  },
  {
   "cell_type": "code",
   "execution_count": 484,
   "metadata": {
    "collapsed": false,
    "scrolled": true
   },
   "outputs": [],
   "source": [
    "# Uzupełniam zmienną Loan_Tenure_Applied za pomocą zmiennej Loan_Tenure_Submitted\n",
    "def Imputer_Loan_Tenure_Applied(data):\n",
    "        if (data[\"Loan_Tenure_Applied\"]==0 and data[\"Loan_Tenure_Submitted\"]>0 ):\n",
    "            return data[\"Loan_Tenure_Submitted\"]\n",
    "        else:\n",
    "            return data[\"Loan_Tenure_Applied\"]\n",
    "X_train[\"Loan_Tenure_Applied\"] = X_train.apply(Imputer_Loan_Tenure_Applied, axis=1)"
   ]
  },
  {
   "cell_type": "code",
   "execution_count": 485,
   "metadata": {
    "collapsed": false,
    "scrolled": true
   },
   "outputs": [],
   "source": [
    "# Uzupełniam zmienną Loan_Tenure_Submitted za pomocą zmiennej Loan_Tenure_Applied\n",
    "def Imputer_Loan_Tenure_Submitted(data):\n",
    "        if (data[\"Loan_Tenure_Submitted\"]==0 and data[\"Loan_Tenure_Applied\"]>0 ):\n",
    "            return data[\"Loan_Tenure_Applied\"]\n",
    "        else:\n",
    "            return data[\"Loan_Tenure_Submitted\"]\n",
    "X_train[\"Loan_Tenure_Submitted\"] = X_train.apply(Imputer_Loan_Tenure_Submitted, axis=1)"
   ]
  },
  {
   "cell_type": "code",
   "execution_count": 486,
   "metadata": {
    "collapsed": false
   },
   "outputs": [
    {
     "name": "stdout",
     "output_type": "stream",
     "text": [
      "Pozostało par (0,0): 10396\n"
     ]
    }
   ],
   "source": [
    "# Jeżeli zarówno Loan_Tenure_Applied i Loan_Tenure_Submitted = 0, to tak je pozostawiam (nie robię nic)\n",
    "# Sprawdzam ile tych wartości zostało:\n",
    "Tmp = X_train[X_train.Loan_Tenure_Applied==0]\n",
    "Tmp = Tmp[Tmp.Loan_Tenure_Submitted==0]\n",
    "print (\"Pozostało par (0,0):\",Tmp.shape[0])"
   ]
  },
  {
   "cell_type": "code",
   "execution_count": 487,
   "metadata": {
    "collapsed": false,
    "scrolled": true
   },
   "outputs": [
    {
     "data": {
      "image/png": "[encoded data removed]",
      "text/plain": [
       "<Figure size 432x288 with 1 Axes>"
      ]
     },
     "metadata": {},
     "output_type": "display_data"
    }
   ],
   "source": [
    "# Badam histogramy po uzupełnieniu zmiennyc\n",
    "plt.hist(X_train.Loan_Tenure_Applied, bins=50)\n",
    "plt.title(\"Loan_Tenure_Applied\")\n",
    "plt.show()"
   ]
  },
  {
   "cell_type": "code",
   "execution_count": 488,
   "metadata": {
    "collapsed": false,
    "scrolled": true
   },
   "outputs": [
    {
     "data": {
      "image/png": "[encoded data removed]",
      "text/plain": [
       "<Figure size 432x288 with 1 Axes>"
      ]
     },
     "metadata": {},
     "output_type": "display_data"
    }
   ],
   "source": [
    "plt.hist(X_train.Loan_Tenure_Submitted, bins=50)\n",
    "plt.title(\"Loan_Tenure_Submitted\")\n",
    "plt.show()"
   ]
  },
  {
   "cell_type": "markdown",
   "metadata": {},
   "source": [
    "### Var5"
   ]
  },
  {
   "cell_type": "code",
   "execution_count": 489,
   "metadata": {
    "collapsed": false
   },
   "outputs": [
    {
     "name": "stdout",
     "output_type": "stream",
     "text": [
      "Ilość NULLi w zmiennej Var5: 0\n"
     ]
    }
   ],
   "source": [
    "# Zmienna nie posiada NULLi\n",
    "# Patrząc na histogram, zmienna nie wymaga przekształceń\n",
    "print(\"Ilość NULLi w zmiennej Var5:\",X_train.Var5.isnull().sum())"
   ]
  },
  {
   "cell_type": "code",
   "execution_count": 490,
   "metadata": {
    "collapsed": false,
    "scrolled": false
   },
   "outputs": [
    {
     "data": {
      "text/plain": [
       "False"
      ]
     },
     "execution_count": 490,
     "metadata": {},
     "output_type": "execute_result"
    }
   ],
   "source": [
    "# Sprawdzamy na końcu czy mamy jeszcze jakieś NULLe w X_train(OK, już nie ma NULLI)\n",
    "X_train.isnull().values.any()"
   ]
  },
  {
   "cell_type": "code",
   "execution_count": 491,
   "metadata": {
    "collapsed": false
   },
   "outputs": [
    {
     "data": {
      "text/plain": [
       "(69616, 22)"
      ]
     },
     "execution_count": 491,
     "metadata": {},
     "output_type": "execute_result"
    }
   ],
   "source": [
    "X_train.shape"
   ]
  },
  {
   "cell_type": "code",
   "execution_count": 492,
   "metadata": {
    "collapsed": false,
    "scrolled": true
   },
   "outputs": [
    {
     "name": "stdout",
     "output_type": "stream",
     "text": [
      "<class 'pandas.core.frame.DataFrame'>\n",
      "Int64Index: 69616 entries, 65322 to 15725\n",
      "Data columns (total 22 columns):\n",
      "Gender                   69616 non-null int64\n",
      "Monthly_Income           69616 non-null float64\n",
      "Loan_Amount_Applied      69616 non-null float64\n",
      "Loan_Tenure_Applied      69616 non-null float64\n",
      "Existing_EMI             69616 non-null float64\n",
      "Mobile_Verified          69616 non-null object\n",
      "Var5                     69616 non-null int64\n",
      "Loan_Amount_Submitted    69616 non-null float64\n",
      "Loan_Tenure_Submitted    69616 non-null float64\n",
      "Interest_Rate            69616 non-null int64\n",
      "Processing_Fee           69616 non-null int64\n",
      "EMI_Loan_Submitted       69616 non-null int64\n",
      "Filled_Form              69616 non-null object\n",
      "Device_Type              69616 non-null object\n",
      "Var2                     69616 non-null object\n",
      "Var4                     69616 non-null object\n",
      "AGE                      69616 non-null float64\n",
      "City-group               69616 non-null object\n",
      "Number_Of_Employees      69616 non-null float64\n",
      "Salary_Account-group     69616 non-null object\n",
      "Var1_group               69616 non-null object\n",
      "Source-group             69616 non-null object\n",
      "dtypes: float64(8), int64(5), object(9)\n",
      "memory usage: 12.2+ MB\n"
     ]
    }
   ],
   "source": [
    "X_train.info()"
   ]
  },
  {
   "cell_type": "code",
   "execution_count": 493,
   "metadata": {
    "collapsed": true
   },
   "outputs": [],
   "source": [
    "#X_train.to_csv('X_train.csv')"
   ]
  },
  {
   "cell_type": "code",
   "execution_count": 494,
   "metadata": {
    "collapsed": false
   },
   "outputs": [],
   "source": [
    "X_train = pd.get_dummies(X_train,drop_first=True) #Zamieniam zmienne object na one-hoty"
   ]
  },
  {
   "cell_type": "code",
   "execution_count": 495,
   "metadata": {
    "collapsed": false
   },
   "outputs": [
    {
     "data": {
      "text/plain": [
       "(69616, 57)"
      ]
     },
     "execution_count": 495,
     "metadata": {},
     "output_type": "execute_result"
    }
   ],
   "source": [
    "X_train.shape"
   ]
  },
  {
   "cell_type": "code",
   "execution_count": 496,
   "metadata": {
    "collapsed": false
   },
   "outputs": [],
   "source": [
    "#X_train.to_csv('X_train_dummies.csv',index=False)"
   ]
  },
  {
   "cell_type": "markdown",
   "metadata": {},
   "source": [
    "## 6. Przygotowanie danych testowych"
   ]
  },
  {
   "cell_type": "code",
   "execution_count": 497,
   "metadata": {
    "collapsed": true
   },
   "outputs": [],
   "source": [
    "# Dane testowe przekształcamy w oparciu o odpowiednie przekształcenia wprowadzone na danych treningowych"
   ]
  },
  {
   "cell_type": "code",
   "execution_count": 498,
   "metadata": {
    "collapsed": false
   },
   "outputs": [
    {
     "data": {
      "text/plain": [
       "(17404, 22)"
      ]
     },
     "execution_count": 498,
     "metadata": {},
     "output_type": "execute_result"
    }
   ],
   "source": [
    "X_test.shape"
   ]
  },
  {
   "cell_type": "code",
   "execution_count": 499,
   "metadata": {
    "collapsed": false,
    "scrolled": true
   },
   "outputs": [
    {
     "name": "stdout",
     "output_type": "stream",
     "text": [
      "<class 'pandas.core.frame.DataFrame'>\n",
      "Int64Index: 17404 entries, 47999 to 34446\n",
      "Data columns (total 22 columns):\n",
      "Gender                   17404 non-null int64\n",
      "City                     17205 non-null object\n",
      "Monthly_Income           17404 non-null int64\n",
      "Loan_Amount_Applied      17391 non-null float64\n",
      "Loan_Tenure_Applied      17391 non-null float64\n",
      "Existing_EMI             17391 non-null float64\n",
      "Employer_Name            17391 non-null object\n",
      "Salary_Account           15091 non-null object\n",
      "Mobile_Verified          17404 non-null object\n",
      "Var5                     17404 non-null int64\n",
      "Var1                     17404 non-null object\n",
      "Loan_Amount_Submitted    10550 non-null float64\n",
      "Loan_Tenure_Submitted    10550 non-null float64\n",
      "Interest_Rate            5614 non-null float64\n",
      "Processing_Fee           5559 non-null float64\n",
      "EMI_Loan_Submitted       5614 non-null float64\n",
      "Filled_Form              17404 non-null object\n",
      "Device_Type              17404 non-null object\n",
      "Var2                     17404 non-null object\n",
      "Source                   17404 non-null object\n",
      "Var4                     17404 non-null int64\n",
      "AGE                      17402 non-null float64\n",
      "dtypes: float64(9), int64(4), object(9)\n",
      "memory usage: 3.1+ MB\n"
     ]
    }
   ],
   "source": [
    "X_test.info()"
   ]
  },
  {
   "cell_type": "markdown",
   "metadata": {},
   "source": [
    "### Gender: nie wymaga przekształceń"
   ]
  },
  {
   "cell_type": "markdown",
   "metadata": {},
   "source": [
    "### City"
   ]
  },
  {
   "cell_type": "code",
   "execution_count": 500,
   "metadata": {
    "collapsed": false
   },
   "outputs": [
    {
     "name": "stdout",
     "output_type": "stream",
     "text": [
      "Liczba NULLi przed uzupełnieniem braków: 199\n",
      "Liczba NULLi po uzupełnieniu braków: 0\n"
     ]
    }
   ],
   "source": [
    "print(\"Liczba NULLi przed uzupełnieniem braków:\", X_test.City.isnull().sum()) \n",
    "X_test[\"City\"] = X_test.City.fillna(\"MISSING\") # uzupełniamy NULLe wartością \"MISSING\"\n",
    "print(\"Liczba NULLi po uzupełnieniu braków:\", X_test.City.isnull().sum()) #OK"
   ]
  },
  {
   "cell_type": "code",
   "execution_count": 501,
   "metadata": {
    "collapsed": true
   },
   "outputs": [],
   "source": [
    "# Na bazie grupowania powstałego na zmiennych treningowych\n",
    "X_test[\"City-group\"]=X_test[\"City\"].map({\"Delhi\":'18',\\\n",
    "                                                                    \"Bengaluru\":'16',\\\n",
    "                                                                    \"Mumbai\":'15',\\\n",
    "                                                                    \"Hyderabad\":'10',\\\n",
    "                                                                    \"Chennai\":'12',\\\n",
    "                                                                    \"Pune\":'17',\\\n",
    "                                                                     \"Kolkata\":'14',\\\n",
    "                                                                     \"Ahmedabad\":'11',\\\n",
    "                                                                     \"Jaipur\":'13'}).astype(str)\n",
    "\n",
    "X_test[\"City-group\"]=X_test[\"City-group\"].apply(lambda x: 9 if x==\"nan\" else x).astype(str)"
   ]
  },
  {
   "cell_type": "code",
   "execution_count": 502,
   "metadata": {
    "collapsed": false,
    "scrolled": false
   },
   "outputs": [
    {
     "data": {
      "text/plain": [
       "9     5608\n",
       "18    2459\n",
       "15    2131\n",
       "16    2105\n",
       "10    1429\n",
       "12    1400\n",
       "17    1070\n",
       "14     542\n",
       "11     377\n",
       "13     283\n",
       "Name: City-group, dtype: int64"
      ]
     },
     "execution_count": 502,
     "metadata": {},
     "output_type": "execute_result"
    }
   ],
   "source": [
    "X_test[\"City-group\"].value_counts()"
   ]
  },
  {
   "cell_type": "code",
   "execution_count": 503,
   "metadata": {
    "collapsed": false
   },
   "outputs": [],
   "source": [
    "X_test.drop([\"City\"],axis=1, inplace=True) # Usuwam starą zmienną"
   ]
  },
  {
   "cell_type": "markdown",
   "metadata": {},
   "source": [
    "### Employer Name"
   ]
  },
  {
   "cell_type": "code",
   "execution_count": 504,
   "metadata": {
    "collapsed": false,
    "scrolled": true
   },
   "outputs": [
    {
     "data": {
      "image/png": "[encoded data removed]",
      "text/plain": [
       "<Figure size 432x288 with 1 Axes>"
      ]
     },
     "metadata": {},
     "output_type": "display_data"
    }
   ],
   "source": [
    "#Wykorzystujemy słownik zbudowany na zmiennych treningowych\n",
    "X_test[\"Number_Of_Employees\"] = X_test.Employer_Name.map(Employer_Name_slownik).fillna(1).astype(int)\n",
    "# Poglądowy histogram nowo-utworzonej zmiennej\n",
    "X_test[\"Number_Of_Employees\"].hist(bins=50)\n",
    "plt.show()"
   ]
  },
  {
   "cell_type": "code",
   "execution_count": 505,
   "metadata": {
    "collapsed": true
   },
   "outputs": [],
   "source": [
    "X_test[\"Number_Of_Employees\"] = np.log(X_test[\"Number_Of_Employees\"])\n",
    "X_test.drop([\"Employer_Name\"],axis=1, inplace=True) # Usuwam starą zmienną"
   ]
  },
  {
   "cell_type": "markdown",
   "metadata": {},
   "source": [
    "### Salary Account"
   ]
  },
  {
   "cell_type": "code",
   "execution_count": 506,
   "metadata": {
    "collapsed": true
   },
   "outputs": [],
   "source": [
    "X_test[\"Salary_Account\"] = X_test.Salary_Account.fillna(\"OTHER\")"
   ]
  },
  {
   "cell_type": "code",
   "execution_count": 507,
   "metadata": {
    "collapsed": true
   },
   "outputs": [],
   "source": [
    "# Na bazie grupowania powstałego na zmiennych treningowych\n",
    "X_test[\"Salary_Account-group\"]=X_test[\"Salary_Account\"].map({\"HDFC Bank\":'13',\\\n",
    "                                                                    \"ICICI Bank\":'14',\\\n",
    "                                                                    \"State Bank of India\":'15',\\\n",
    "                                                                    \"Axis Bank\":'11',\\\n",
    "                                                                    \"Citibank\":'12',\\\n",
    "                                                                    \"Kotak Bank\":'10',\\\n",
    "                                                                     \"IDBI Bank\":'9',\\\n",
    "                                                                     \"OTHER\":'16'}).astype(str)\n",
    "\n",
    "X_test[\"Salary_Account-group\"]=X_test[\"Salary_Account-group\"].apply(lambda x:\\\n",
    "                                                                    8 if x==\"nan\" else x).astype(str)"
   ]
  },
  {
   "cell_type": "code",
   "execution_count": 508,
   "metadata": {
    "collapsed": false,
    "scrolled": true
   },
   "outputs": [
    {
     "data": {
      "text/plain": [
       "13    3559\n",
       "8     3552\n",
       "14    2691\n",
       "15    2355\n",
       "16    2313\n",
       "11    1764\n",
       "12     476\n",
       "10     386\n",
       "9      308\n",
       "Name: Salary_Account-group, dtype: int64"
      ]
     },
     "execution_count": 508,
     "metadata": {},
     "output_type": "execute_result"
    }
   ],
   "source": [
    "X_test[\"Salary_Account-group\"].value_counts()"
   ]
  },
  {
   "cell_type": "code",
   "execution_count": 509,
   "metadata": {
    "collapsed": true
   },
   "outputs": [],
   "source": [
    "X_test.drop([\"Salary_Account\"],axis=1, inplace=True) #Usuwam \"starą\" zmienną i pozostawiam zgrupowaną"
   ]
  },
  {
   "cell_type": "markdown",
   "metadata": {},
   "source": [
    "### Mobile Vierified: nie wymaga przekształceń"
   ]
  },
  {
   "cell_type": "markdown",
   "metadata": {},
   "source": [
    "### Var1"
   ]
  },
  {
   "cell_type": "code",
   "execution_count": 510,
   "metadata": {
    "collapsed": true
   },
   "outputs": [],
   "source": [
    "#Korzystam z mappowania określonego na bazie danych treningowych\n",
    "X_test['Var1_group'] = X_test.Var1.map({'HVYS': 'a','HCXG':'a', 'HAXF':'a', 'HBXB':'a', \n",
    "                               'HCXD':'b','HCYS':'b','HBXC':'b',\n",
    "                               'HBXH':'b','HAYT':'b','HBXX':'b',\n",
    "                               'HAZD':'c','HAVC':'c','HAXA':'c',\n",
    "                               'HCXF':'d','HBXD':'d',\n",
    "                               'HAXM':'e',\n",
    "                               'HBXA':'f',\n",
    "                               'HAXB':'g','HAXC':'g'})"
   ]
  },
  {
   "cell_type": "code",
   "execution_count": 511,
   "metadata": {
    "collapsed": false,
    "scrolled": false
   },
   "outputs": [
    {
     "data": {
      "text/plain": [
       "b    13943\n",
       "a      976\n",
       "g      742\n",
       "c      691\n",
       "d      560\n",
       "f      436\n",
       "e       56\n",
       "Name: Var1_group, dtype: int64"
      ]
     },
     "execution_count": 511,
     "metadata": {},
     "output_type": "execute_result"
    }
   ],
   "source": [
    "X_test['Var1_group'].value_counts()"
   ]
  },
  {
   "cell_type": "code",
   "execution_count": 512,
   "metadata": {
    "collapsed": false
   },
   "outputs": [
    {
     "data": {
      "text/plain": [
       "0"
      ]
     },
     "execution_count": 512,
     "metadata": {},
     "output_type": "execute_result"
    }
   ],
   "source": [
    "X_test['Var1_group'].isnull().sum() # Nie ma innych wartości w zbiorze testowym"
   ]
  },
  {
   "cell_type": "code",
   "execution_count": 513,
   "metadata": {
    "collapsed": true
   },
   "outputs": [],
   "source": [
    "X_test.drop([\"Var1\"],axis=1, inplace=True) #Usuwać oryginalną zmienną"
   ]
  },
  {
   "cell_type": "markdown",
   "metadata": {},
   "source": [
    "### Filled_Form: nie wymaga przekształceń"
   ]
  },
  {
   "cell_type": "markdown",
   "metadata": {},
   "source": [
    "### Device_Type: nie wymaga przekształceń"
   ]
  },
  {
   "cell_type": "markdown",
   "metadata": {},
   "source": [
    "### Var2"
   ]
  },
  {
   "cell_type": "code",
   "execution_count": 514,
   "metadata": {
    "collapsed": true
   },
   "outputs": [],
   "source": [
    "X_test['Var2'] = np.where(X_test['Var2']=='D', 'A', X_test['Var2'])"
   ]
  },
  {
   "cell_type": "code",
   "execution_count": 515,
   "metadata": {
    "collapsed": false,
    "scrolled": true
   },
   "outputs": [
    {
     "data": {
      "text/plain": [
       "B    7411\n",
       "G    6580\n",
       "C    2897\n",
       "E     277\n",
       "A     127\n",
       "F     112\n",
       "Name: Var2, dtype: int64"
      ]
     },
     "execution_count": 515,
     "metadata": {},
     "output_type": "execute_result"
    }
   ],
   "source": [
    "X_test['Var2'].value_counts() #OK, nie ma innych wartości niż w zbiorze treningowym"
   ]
  },
  {
   "cell_type": "markdown",
   "metadata": {},
   "source": [
    "### Source"
   ]
  },
  {
   "cell_type": "code",
   "execution_count": 516,
   "metadata": {
    "collapsed": true
   },
   "outputs": [],
   "source": [
    "# Na bazie grupowania powstałego na zmiennych treningowych\n",
    "X_test[\"Source-group\"]=X_test[\"Source\"].map({\"S122\":'7',\\\n",
    "                                                                    \"S133\":'8',\\\n",
    "                                                                    \"S159\":'12',\\\n",
    "                                                                    \"S143\":'9',\\\n",
    "                                                                    \"S127\":'10',\\\n",
    "                                                                    \"S137\":'11'}).astype(str)\n",
    "\n",
    "X_test[\"Source-group\"]=X_test[\"Source-group\"].apply(lambda x:\\\n",
    "                                                                    6 if x==\"nan\" else x).astype(str)"
   ]
  },
  {
   "cell_type": "code",
   "execution_count": 517,
   "metadata": {
    "collapsed": false,
    "scrolled": true
   },
   "outputs": [
    {
     "data": {
      "text/plain": [
       "7     7655\n",
       "8     6084\n",
       "12    1118\n",
       "6      987\n",
       "9      852\n",
       "10     365\n",
       "11     343\n",
       "Name: Source-group, dtype: int64"
      ]
     },
     "execution_count": 517,
     "metadata": {},
     "output_type": "execute_result"
    }
   ],
   "source": [
    "X_test[\"Source-group\"].value_counts()"
   ]
  },
  {
   "cell_type": "code",
   "execution_count": 518,
   "metadata": {
    "collapsed": true
   },
   "outputs": [],
   "source": [
    "X_test.drop([\"Source\"],axis=1, inplace=True) #Usuwać oryginalną zmienną"
   ]
  },
  {
   "cell_type": "markdown",
   "metadata": {},
   "source": [
    "### Var4"
   ]
  },
  {
   "cell_type": "code",
   "execution_count": 519,
   "metadata": {
    "collapsed": true
   },
   "outputs": [],
   "source": [
    "X_test['Var4'] = X_test.Var4.astype('str')"
   ]
  },
  {
   "cell_type": "markdown",
   "metadata": {},
   "source": [
    "### Monthly_Income"
   ]
  },
  {
   "cell_type": "code",
   "execution_count": 520,
   "metadata": {
    "collapsed": true
   },
   "outputs": [],
   "source": [
    "X_test[\"Monthly_Income\"] = np.where(X_test[\"Monthly_Income\"]==0, 0,np.log(X_test[\"Monthly_Income\"]))"
   ]
  },
  {
   "cell_type": "markdown",
   "metadata": {},
   "source": [
    "### Existing_EMI"
   ]
  },
  {
   "cell_type": "code",
   "execution_count": 521,
   "metadata": {
    "collapsed": true
   },
   "outputs": [],
   "source": [
    "X_test[\"Existing_EMI\"] = X_test.Existing_EMI.fillna(0)"
   ]
  },
  {
   "cell_type": "markdown",
   "metadata": {},
   "source": [
    "### AGE"
   ]
  },
  {
   "cell_type": "code",
   "execution_count": 522,
   "metadata": {
    "collapsed": false
   },
   "outputs": [
    {
     "data": {
      "text/plain": [
       "2"
      ]
     },
     "execution_count": 522,
     "metadata": {},
     "output_type": "execute_result"
    }
   ],
   "source": [
    "X_test[\"AGE\"].isnull().sum()#Sprawdzam czy są NULLE"
   ]
  },
  {
   "cell_type": "code",
   "execution_count": 523,
   "metadata": {
    "collapsed": false
   },
   "outputs": [
    {
     "data": {
      "text/plain": [
       "0"
      ]
     },
     "execution_count": 523,
     "metadata": {},
     "output_type": "execute_result"
    }
   ],
   "source": [
    "X_test[\"AGE\"]=X_test.AGE.fillna(AGE_median) #AGE_median liczone na danych treningowych\n",
    "X_test[\"AGE\"].isnull().sum()"
   ]
  },
  {
   "cell_type": "code",
   "execution_count": 524,
   "metadata": {
    "collapsed": true
   },
   "outputs": [],
   "source": [
    "X_test[\"AGE\"]=np.log(X_test[\"AGE\"])"
   ]
  },
  {
   "cell_type": "markdown",
   "metadata": {},
   "source": [
    "### EMI_Loan_Submitted, Processing_Fee, Interest_Rate"
   ]
  },
  {
   "cell_type": "code",
   "execution_count": 525,
   "metadata": {
    "collapsed": true
   },
   "outputs": [],
   "source": [
    "X_test[\"EMI_Loan_Submitted\"]=np.where(X_test[\"EMI_Loan_Submitted\"].isna(),0,1)\n",
    "X_test[\"Processing_Fee\"]=np.where(X_test[\"Processing_Fee\"].isna(),0,1)\n",
    "X_test[\"Interest_Rate\"]=np.where(X_test[\"Interest_Rate\"].isna(),0,1)"
   ]
  },
  {
   "cell_type": "markdown",
   "metadata": {},
   "source": [
    "### Loan_Amount_Applied, Loan_Amount_Submitted"
   ]
  },
  {
   "cell_type": "code",
   "execution_count": 526,
   "metadata": {
    "collapsed": false
   },
   "outputs": [],
   "source": [
    "X_test[\"Loan_Amount_Applied\"] = X_test.Loan_Amount_Applied.fillna(0)\n",
    "X_test[\"Loan_Amount_Submitted\"] = X_test.Loan_Amount_Submitted.fillna(0)\n",
    "X_test[\"Loan_Amount_Applied\"] = X_test.apply(Imputer_Loan_Amount_Applied, axis=1)\n",
    "X_test[\"Loan_Amount_Submitted\"] = X_test.apply(Imputer_Loan_Amount_Submitted, axis=1)"
   ]
  },
  {
   "cell_type": "code",
   "execution_count": 527,
   "metadata": {
    "collapsed": true
   },
   "outputs": [],
   "source": [
    "X_test.Loan_Amount_Applied=np.where(X_test.Loan_Amount_Applied==0,0,\n",
    "                                     np.log(X_test.Loan_Amount_Applied))\n",
    "X_test.Loan_Amount_Submitted=np.where(X_test.Loan_Amount_Submitted==0,0,\n",
    "                                       np.log(X_test.Loan_Amount_Submitted))"
   ]
  },
  {
   "cell_type": "markdown",
   "metadata": {},
   "source": [
    "### Loan_Tenure_Applied, Loan_Tenure_Submitted"
   ]
  },
  {
   "cell_type": "code",
   "execution_count": 528,
   "metadata": {
    "collapsed": false
   },
   "outputs": [],
   "source": [
    "X_test[\"Loan_Tenure_Applied\"] = X_test.Loan_Tenure_Applied.fillna(0)\n",
    "X_test[\"Loan_Tenure_Submitted\"] = X_test.Loan_Tenure_Submitted.fillna(0)\n",
    "X_test[\"Loan_Tenure_Applied\"] = X_test.apply(Imputer_Loan_Tenure_Applied, axis=1)\n",
    "X_test[\"Loan_Tenure_Submitted\"] = X_test.apply(Imputer_Loan_Tenure_Submitted, axis=1)"
   ]
  },
  {
   "cell_type": "markdown",
   "metadata": {},
   "source": [
    "### Var5: nie wymaga przekształceń"
   ]
  },
  {
   "cell_type": "code",
   "execution_count": 529,
   "metadata": {
    "collapsed": false,
    "scrolled": false
   },
   "outputs": [
    {
     "data": {
      "text/plain": [
       "False"
      ]
     },
     "execution_count": 529,
     "metadata": {},
     "output_type": "execute_result"
    }
   ],
   "source": [
    "#Sprawdzam czy są jeszcze NULLe w zbiorze X_test (OK, nie ma)\n",
    "X_test.isnull().values.any()"
   ]
  },
  {
   "cell_type": "code",
   "execution_count": 530,
   "metadata": {
    "collapsed": false
   },
   "outputs": [
    {
     "data": {
      "text/plain": [
       "(17404, 22)"
      ]
     },
     "execution_count": 530,
     "metadata": {},
     "output_type": "execute_result"
    }
   ],
   "source": [
    "X_test.shape"
   ]
  },
  {
   "cell_type": "code",
   "execution_count": 531,
   "metadata": {
    "collapsed": false,
    "scrolled": true
   },
   "outputs": [
    {
     "name": "stdout",
     "output_type": "stream",
     "text": [
      "<class 'pandas.core.frame.DataFrame'>\n",
      "Int64Index: 17404 entries, 47999 to 34446\n",
      "Data columns (total 22 columns):\n",
      "Gender                   17404 non-null int64\n",
      "Monthly_Income           17404 non-null float64\n",
      "Loan_Amount_Applied      17404 non-null float64\n",
      "Loan_Tenure_Applied      17404 non-null float64\n",
      "Existing_EMI             17404 non-null float64\n",
      "Mobile_Verified          17404 non-null object\n",
      "Var5                     17404 non-null int64\n",
      "Loan_Amount_Submitted    17404 non-null float64\n",
      "Loan_Tenure_Submitted    17404 non-null float64\n",
      "Interest_Rate            17404 non-null int64\n",
      "Processing_Fee           17404 non-null int64\n",
      "EMI_Loan_Submitted       17404 non-null int64\n",
      "Filled_Form              17404 non-null object\n",
      "Device_Type              17404 non-null object\n",
      "Var2                     17404 non-null object\n",
      "Var4                     17404 non-null object\n",
      "AGE                      17404 non-null float64\n",
      "City-group               17404 non-null object\n",
      "Number_Of_Employees      17404 non-null float64\n",
      "Salary_Account-group     17404 non-null object\n",
      "Var1_group               17404 non-null object\n",
      "Source-group             17404 non-null object\n",
      "dtypes: float64(8), int64(5), object(9)\n",
      "memory usage: 3.1+ MB\n"
     ]
    }
   ],
   "source": [
    "X_test.info()"
   ]
  },
  {
   "cell_type": "code",
   "execution_count": 532,
   "metadata": {
    "collapsed": true
   },
   "outputs": [],
   "source": [
    "X_test = pd.get_dummies(X_test,drop_first=True)"
   ]
  },
  {
   "cell_type": "code",
   "execution_count": 533,
   "metadata": {
    "collapsed": false,
    "scrolled": true
   },
   "outputs": [
    {
     "data": {
      "text/plain": [
       "(17404, 57)"
      ]
     },
     "execution_count": 533,
     "metadata": {},
     "output_type": "execute_result"
    }
   ],
   "source": [
    "X_test.shape"
   ]
  },
  {
   "cell_type": "code",
   "execution_count": 534,
   "metadata": {
    "collapsed": false,
    "scrolled": true
   },
   "outputs": [
    {
     "data": {
      "text/plain": [
       "True"
      ]
     },
     "execution_count": 534,
     "metadata": {},
     "output_type": "execute_result"
    }
   ],
   "source": [
    "X_train.shape[1]==X_test.shape[1]# Sprawdzam, czy mam tyle samo zmiennych w zbiorze treningowym i testowym"
   ]
  },
  {
   "cell_type": "code",
   "execution_count": 535,
   "metadata": {
    "collapsed": true
   },
   "outputs": [],
   "source": [
    "# Wszystko OK"
   ]
  },
  {
   "cell_type": "markdown",
   "metadata": {},
   "source": [
    "## 6. Budowa modelu"
   ]
  },
  {
   "cell_type": "code",
   "execution_count": 536,
   "metadata": {
    "collapsed": false
   },
   "outputs": [],
   "source": [
    "from sklearn.model_selection import train_test_split, cross_val_predict, StratifiedKFold\n",
    "from sklearn.metrics import roc_auc_score, accuracy_score, roc_curve, confusion_matrix, f1_score\n",
    "from sklearn.linear_model import LogisticRegression\n",
    "from sklearn.tree import DecisionTreeClassifier\n",
    "from sklearn.ensemble import RandomForestClassifier, GradientBoostingClassifier\n",
    "from sklearn.discriminant_analysis import LinearDiscriminantAnalysis, QuadraticDiscriminantAnalysis\n",
    "from xgboost.sklearn import XGBClassifier\n",
    "from sklearn.svm import SVC\n",
    "from sklearn.model_selection import RandomizedSearchCV\n",
    "import scipy.stats as ss\n",
    "\n",
    "from sklearn.model_selection import cross_val_score\n",
    "from sklearn.preprocessing import StandardScaler\n",
    "from sklearn.pipeline import Pipeline\n",
    "from sklearn.model_selection import GridSearchCV\n",
    "from sklearn.naive_bayes import MultinomialNB\n",
    "from sklearn.ensemble import VotingClassifier\n",
    "\n",
    "from sklearn.pipeline import make_pipeline, Pipeline"
   ]
  },
  {
   "cell_type": "markdown",
   "metadata": {},
   "source": [
    "### Ocena Baseline budowanego modelu"
   ]
  },
  {
   "cell_type": "code",
   "execution_count": 537,
   "metadata": {
    "collapsed": false,
    "scrolled": false
   },
   "outputs": [
    {
     "data": {
      "text/plain": [
       "(0.014436336474373708, 1005)"
      ]
     },
     "execution_count": 537,
     "metadata": {},
     "output_type": "execute_result"
    }
   ],
   "source": [
    "y_train.mean(), y_train.sum() #Sprawdzamy ilość 1-dynek w zbiorze treningowym"
   ]
  },
  {
   "cell_type": "code",
   "execution_count": 538,
   "metadata": {
    "collapsed": false,
    "scrolled": true
   },
   "outputs": [
    {
     "data": {
      "text/plain": [
       "(0.015398758905998622, 268)"
      ]
     },
     "execution_count": 538,
     "metadata": {},
     "output_type": "execute_result"
    }
   ],
   "source": [
    "y_test.mean(), y_test.sum() #Sprawdzamy ilość 1-dynek w zbiorze testowym"
   ]
  },
  {
   "cell_type": "code",
   "execution_count": 539,
   "metadata": {
    "collapsed": true
   },
   "outputs": [],
   "source": [
    "# WNIOSEK: Pojawia się problem niezbilansowanych klas, proporcje 1-dynek zachowane w obu zbiorach"
   ]
  },
  {
   "cell_type": "code",
   "execution_count": 540,
   "metadata": {
    "collapsed": false,
    "scrolled": true
   },
   "outputs": [
    {
     "name": "stdout",
     "output_type": "stream",
     "text": [
      "Accuracy_score modelu na danych treningowych, który zawsze przypisywałby 0 wynosi: 0.985564\n",
      "Accuracy_score modelu na danych testowych, który zawsze przypisywałby 0 wynosi: 0.984601\n"
     ]
    }
   ],
   "source": [
    "print( \"Accuracy_score modelu na danych treningowych, który zawsze przypisywałby 0 wynosi:\", \n",
    "      np.round((1-y_train.mean()),6))\n",
    "print( \"Accuracy_score modelu na danych testowych, który zawsze przypisywałby 0 wynosi:\", \n",
    "      np.round((1-y_test.mean()),6))"
   ]
  },
  {
   "cell_type": "code",
   "execution_count": 541,
   "metadata": {
    "collapsed": false
   },
   "outputs": [
    {
     "name": "stdout",
     "output_type": "stream",
     "text": [
      "Accuracy_score LogisticRegression na zbiorze treningowym: 0.985564\n",
      "Accuracy_score LogisticRegression na zbiorze testowym: 0.984601\n"
     ]
    }
   ],
   "source": [
    "# Jako dodatkowe odniesienie rozważmy:\n",
    "# (1) model regresji logistycznej z domyślnymi parametrami\n",
    "model = make_pipeline(StandardScaler(),LogisticRegression())\n",
    "model.fit(X_train, y_train)\n",
    "print(\"Accuracy_score LogisticRegression na zbiorze treningowym:\",\n",
    "      np.round(accuracy_score(y_train,model.predict(X_train)),6))\n",
    "print(\"Accuracy_score LogisticRegression na zbiorze testowym:\",\n",
    "      np.round(accuracy_score(y_test,model.predict(X_test)),6))"
   ]
  },
  {
   "cell_type": "code",
   "execution_count": 542,
   "metadata": {
    "collapsed": false,
    "scrolled": true
   },
   "outputs": [
    {
     "name": "stdout",
     "output_type": "stream",
     "text": [
      "0\n",
      "0\n"
     ]
    }
   ],
   "source": [
    "# Widać, że Regresja logistyczna z domyślnymi parametrami działa jak model, który zawsze przypisuje zera, ale\n",
    "# wypiszmy to formalnie:\n",
    "print(np.sum(model.predict(X_train))) #Liczba przewidzianych 1-dynek dla zbioru treningowego\n",
    "print(np.sum(model.predict(X_test))) #Liczba przewidzianych 1-dynek dla zbioru testowego"
   ]
  },
  {
   "cell_type": "code",
   "execution_count": 543,
   "metadata": {
    "collapsed": false
   },
   "outputs": [
    {
     "name": "stdout",
     "output_type": "stream",
     "text": [
      "0\n",
      "0\n"
     ]
    }
   ],
   "source": [
    "# Sprawdźmy jeszcze czy wprowadzenie regularyzaji \"l1\" coś zmieni: NIE ZMIENIA\n",
    "model = make_pipeline(StandardScaler(),LogisticRegression(penalty =\"l1\"))\n",
    "model.fit(X_train, y_train)\n",
    "print(np.sum(model.predict(X_train))) #Liczba przewidzianych 1-dynek dla zbioru treningowego\n",
    "print(np.sum(model.predict(X_test)))"
   ]
  },
  {
   "cell_type": "code",
   "execution_count": 544,
   "metadata": {
    "collapsed": false,
    "scrolled": true
   },
   "outputs": [
    {
     "name": "stdout",
     "output_type": "stream",
     "text": [
      "Accuracy_score LogisticRegression na zbiorze treningowym: 0.999799\n",
      "Accuracy_score LogisticRegression na zbiorze testowym: 0.968858\n"
     ]
    }
   ],
   "source": [
    "# (2) model drzewa decyzyjnego z domyślnymi parametrami\n",
    "model = DecisionTreeClassifier()\n",
    "model.fit(X_train, y_train)\n",
    "print(\"Accuracy_score LogisticRegression na zbiorze treningowym:\",\n",
    "      np.round(accuracy_score(y_train,model.predict(X_train)),6))\n",
    "print(\"Accuracy_score LogisticRegression na zbiorze testowym:\",\n",
    "      np.round(accuracy_score(y_test,model.predict(X_test)),6))"
   ]
  },
  {
   "cell_type": "code",
   "execution_count": 545,
   "metadata": {
    "collapsed": false,
    "scrolled": true
   },
   "outputs": [
    {
     "name": "stdout",
     "output_type": "stream",
     "text": [
      "991\n",
      "332\n"
     ]
    }
   ],
   "source": [
    "# Widać, że wyniki są dużo lepsze, a liczba przewidzianych 1-dynek to:\n",
    "print(np.sum(model.predict(X_train)))\n",
    "print(np.sum(model.predict(X_test)))"
   ]
  },
  {
   "cell_type": "code",
   "execution_count": 546,
   "metadata": {
    "collapsed": false,
    "scrolled": true
   },
   "outputs": [
    {
     "data": {
      "text/html": [
       "<div>\n",
       "<style scoped>\n",
       "    .dataframe tbody tr th:only-of-type {\n",
       "        vertical-align: middle;\n",
       "    }\n",
       "\n",
       "    .dataframe tbody tr th {\n",
       "        vertical-align: top;\n",
       "    }\n",
       "\n",
       "    .dataframe thead th {\n",
       "        text-align: right;\n",
       "    }\n",
       "</style>\n",
       "<table border=\"1\" class=\"dataframe\">\n",
       "  <thead>\n",
       "    <tr style=\"text-align: right;\">\n",
       "      <th>col_0</th>\n",
       "      <th>0</th>\n",
       "      <th>1</th>\n",
       "    </tr>\n",
       "    <tr>\n",
       "      <th>Disbursed</th>\n",
       "      <th></th>\n",
       "      <th></th>\n",
       "    </tr>\n",
       "  </thead>\n",
       "  <tbody>\n",
       "    <tr>\n",
       "      <th>0</th>\n",
       "      <td>16833</td>\n",
       "      <td>303</td>\n",
       "    </tr>\n",
       "    <tr>\n",
       "      <th>1</th>\n",
       "      <td>239</td>\n",
       "      <td>29</td>\n",
       "    </tr>\n",
       "  </tbody>\n",
       "</table>\n",
       "</div>"
      ],
      "text/plain": [
       "col_0          0    1\n",
       "Disbursed            \n",
       "0          16833  303\n",
       "1            239   29"
      ]
     },
     "execution_count": 546,
     "metadata": {},
     "output_type": "execute_result"
    }
   ],
   "source": [
    "y_pred = model.predict(X_test)\n",
    "pd.crosstab(y_test,y_pred)"
   ]
  },
  {
   "cell_type": "code",
   "execution_count": 547,
   "metadata": {
    "collapsed": false,
    "scrolled": false
   },
   "outputs": [
    {
     "data": {
      "text/plain": [
       "array([[16833,   303],\n",
       "       [  239,    29]])"
      ]
     },
     "execution_count": 547,
     "metadata": {},
     "output_type": "execute_result"
    }
   ],
   "source": [
    "#Te same wyniki przy użyciu confusion_matrix\n",
    "confusion_matrix(y_test,model.predict(X_test))"
   ]
  },
  {
   "cell_type": "code",
   "execution_count": 548,
   "metadata": {
    "collapsed": false,
    "scrolled": true
   },
   "outputs": [
    {
     "name": "stdout",
     "output_type": "stream",
     "text": [
      "Zbiór treningowy:\n",
      "0.999799 0.992986 0.999999\n",
      "Zbiór testowy:\n",
      "0.968858 0.096667 0.548825\n"
     ]
    }
   ],
   "source": [
    "#Wypiszmy poziomy miar accuracy_score, f1_score, roc_auc_score na zbiorze treningowym oraz testowym\n",
    "# dla drzewa z domyślnymi parametrami\n",
    "print(\"Zbiór treningowy:\")\n",
    "print(np.round(accuracy_score(y_train, model.predict(X_train)),6), \\\n",
    "np.round(f1_score(y_true=y_train,y_pred=model.predict(X_train)),6), \\\n",
    "np.round(roc_auc_score(y_true=y_train, y_score=model.predict_proba(X_train)[:,1]),6))\n",
    "print(\"Zbiór testowy:\")\n",
    "print(np.round(accuracy_score(y_test, y_pred),6), \\\n",
    "np.round(f1_score(y_true=y_test,y_pred=y_pred),6), \\\n",
    "np.round(roc_auc_score(y_true=y_test, y_score=model.predict_proba(X_test)[:,1]),6))"
   ]
  },
  {
   "cell_type": "code",
   "execution_count": 549,
   "metadata": {
    "collapsed": false,
    "scrolled": true
   },
   "outputs": [
    {
     "name": "stdout",
     "output_type": "stream",
     "text": [
      "Zbiór treningowy:\n",
      "0.9895 0.552905 0.99448\n",
      "Zbiór testowy:\n",
      "0.97581 0.053933 0.539549\n"
     ]
    }
   ],
   "source": [
    "# Widać, że drzewo jest mocno przeuczone, wprowadżmy zatem warunek min_samples_leaf=3\n",
    "model = DecisionTreeClassifier(min_samples_leaf=3)\n",
    "model.fit(X_train, y_train)\n",
    "\n",
    "y_pred = model.predict(X_test)\n",
    "print(\"Zbiór treningowy:\")\n",
    "print(np.round(accuracy_score(y_train, model.predict(X_train)),6), \\\n",
    "np.round(f1_score(y_true=y_train,y_pred=model.predict(X_train)),6), \\\n",
    "np.round(roc_auc_score(y_true=y_train, y_score=model.predict_proba(X_train)[:,1]),6))\n",
    "print(\"Zbiór testowy:\")\n",
    "print(np.round(accuracy_score(y_test, y_pred),6), \\\n",
    "np.round(f1_score(y_true=y_test,y_pred=y_pred),6), \\\n",
    "np.round(roc_auc_score(y_true=y_test, y_score=model.predict_proba(X_test)[:,1]),6))"
   ]
  },
  {
   "cell_type": "code",
   "execution_count": 550,
   "metadata": {
    "collapsed": false
   },
   "outputs": [
    {
     "data": {
      "text/html": [
       "<div>\n",
       "<style scoped>\n",
       "    .dataframe tbody tr th:only-of-type {\n",
       "        vertical-align: middle;\n",
       "    }\n",
       "\n",
       "    .dataframe tbody tr th {\n",
       "        vertical-align: top;\n",
       "    }\n",
       "\n",
       "    .dataframe thead th {\n",
       "        text-align: right;\n",
       "    }\n",
       "</style>\n",
       "<table border=\"1\" class=\"dataframe\">\n",
       "  <thead>\n",
       "    <tr style=\"text-align: right;\">\n",
       "      <th>col_0</th>\n",
       "      <th>0</th>\n",
       "      <th>1</th>\n",
       "    </tr>\n",
       "    <tr>\n",
       "      <th>Disbursed</th>\n",
       "      <th></th>\n",
       "      <th></th>\n",
       "    </tr>\n",
       "  </thead>\n",
       "  <tbody>\n",
       "    <tr>\n",
       "      <th>0</th>\n",
       "      <td>16971</td>\n",
       "      <td>165</td>\n",
       "    </tr>\n",
       "    <tr>\n",
       "      <th>1</th>\n",
       "      <td>256</td>\n",
       "      <td>12</td>\n",
       "    </tr>\n",
       "  </tbody>\n",
       "</table>\n",
       "</div>"
      ],
      "text/plain": [
       "col_0          0    1\n",
       "Disbursed            \n",
       "0          16971  165\n",
       "1            256   12"
      ]
     },
     "execution_count": 550,
     "metadata": {},
     "output_type": "execute_result"
    }
   ],
   "source": [
    "pd.crosstab(y_test,y_pred)"
   ]
  },
  {
   "cell_type": "code",
   "execution_count": 551,
   "metadata": {
    "collapsed": false,
    "scrolled": true
   },
   "outputs": [
    {
     "data": {
      "text/plain": [
       "(0.984601, 0.0, 0.850261)"
      ]
     },
     "execution_count": 551,
     "metadata": {},
     "output_type": "execute_result"
    }
   ],
   "source": [
    "# (3) XGBoost z podstawowymi parametrami\n",
    "model = XGBClassifier()\n",
    "model.fit(X_train, y_train)\n",
    "y_pred = model.predict(X_test)\n",
    "np.round(accuracy_score(y_test, y_pred),6), \\\n",
    "np.round(f1_score(y_true=y_test,y_pred=y_pred),6), \\\n",
    "np.round(roc_auc_score(y_true=y_test, y_score=model.predict_proba(X_test)[:,1]),6)"
   ]
  },
  {
   "cell_type": "code",
   "execution_count": 552,
   "metadata": {
    "collapsed": false
   },
   "outputs": [
    {
     "data": {
      "text/plain": [
       "(0.984486, 0.007353, 0.637131)"
      ]
     },
     "execution_count": 552,
     "metadata": {},
     "output_type": "execute_result"
    }
   ],
   "source": [
    "# (4) Las Losowy z podstawowymi parametrami\n",
    "model = RandomForestClassifier()\n",
    "model.fit(X_train, y_train)\n",
    "y_pred = model.predict(X_test)\n",
    "np.round(accuracy_score(y_test, y_pred),6), \\\n",
    "np.round(f1_score(y_true=y_test,y_pred=y_pred),6), \\\n",
    "np.round(roc_auc_score(y_true=y_test, y_score=model.predict_proba(X_test)[:,1]),6)"
   ]
  },
  {
   "cell_type": "code",
   "execution_count": 553,
   "metadata": {
    "collapsed": true
   },
   "outputs": [],
   "source": [
    "# WNIOSEK Standardowe klasyfikatory nie dają dobrych rezultatów \n",
    "#(max F1 na zbiorze testowym = 0.07 dla drzewa decyzyjnego). Z uwagi na małą liczbę 1-dynek\n",
    "# do porównywania modeli będę skupiała się na mierze F1"
   ]
  },
  {
   "cell_type": "markdown",
   "metadata": {},
   "source": [
    "### Poszukiwania lepszego modelu regresji logistycznej"
   ]
  },
  {
   "cell_type": "code",
   "execution_count": 554,
   "metadata": {
    "collapsed": false,
    "scrolled": true
   },
   "outputs": [
    {
     "data": {
      "text/plain": [
       "Pipeline(memory=None,\n",
       "         steps=[('standardscaler',\n",
       "                 StandardScaler(copy=True, with_mean=True, with_std=True)),\n",
       "                ('logisticregression',\n",
       "                 LogisticRegression(C=1.0, class_weight=None, dual=False,\n",
       "                                    fit_intercept=True, intercept_scaling=1,\n",
       "                                    l1_ratio=None, max_iter=100,\n",
       "                                    multi_class='warn', n_jobs=None,\n",
       "                                    penalty='l2', random_state=None,\n",
       "                                    solver='warn', tol=0.0001, verbose=0,\n",
       "                                    warm_start=False))],\n",
       "         verbose=False)"
      ]
     },
     "execution_count": 554,
     "metadata": {},
     "output_type": "execute_result"
    }
   ],
   "source": [
    "#Jeszcze raz rozważmy model regresji logistycznej z domyślnymi parametrami\n",
    "model = make_pipeline(StandardScaler(),LogisticRegression())\n",
    "model.fit(X_train, y_train)"
   ]
  },
  {
   "cell_type": "code",
   "execution_count": 555,
   "metadata": {
    "collapsed": false,
    "scrolled": true
   },
   "outputs": [
    {
     "name": "stdout",
     "output_type": "stream",
     "text": [
      "treshold = 0.0 : 0.015399 0.03033 0.821354\n",
      "treshold = 0.1 : 0.975006 0.099379 0.821354\n",
      "treshold = 0.2 : 0.983912 0.0 0.821354\n",
      "treshold = 0.3 : 0.984429 0.0 0.821354\n",
      "treshold = 0.4 : 0.984601 0.0 0.821354\n",
      "treshold = 0.5 : 0.984601 0.0 0.821354\n",
      "treshold = 0.6 : 0.984601 0.0 0.821354\n",
      "treshold = 0.7 : 0.984601 0.0 0.821354\n",
      "treshold = 0.8 : 0.984601 0.0 0.821354\n",
      "treshold = 0.9 : 0.984601 0.0 0.821354\n"
     ]
    }
   ],
   "source": [
    "# Ale tym razem rozważmy różne progi prawdopodobieństwa przy którym klasyfikujemy jako 1\n",
    "for t in np.arange(0,1,0.1):\n",
    "    \n",
    "    y_prob = model.predict_proba(X_test)[:,1]\n",
    "    \n",
    "    print(\"treshold =\",np.round(t,2),\":\",np.round(accuracy_score(y_test, y_prob>t),6), \\\n",
    "        np.round(f1_score(y_true=y_test, y_pred=y_prob>t),6), \\\n",
    "        np.round(roc_auc_score(y_true=y_test, y_score=y_prob),6))"
   ]
  },
  {
   "cell_type": "code",
   "execution_count": 556,
   "metadata": {
    "collapsed": true
   },
   "outputs": [],
   "source": [
    "# miara F1 jest największa (0.09) dla tresholdu w okolicy 0.1"
   ]
  },
  {
   "cell_type": "code",
   "execution_count": 557,
   "metadata": {
    "collapsed": false,
    "scrolled": false
   },
   "outputs": [
    {
     "name": "stdout",
     "output_type": "stream",
     "text": [
      "362\n"
     ]
    },
    {
     "data": {
      "text/plain": [
       "(0.9680533210756148, 0.11746031746031746, 0.8248470096994021)"
      ]
     },
     "execution_count": 557,
     "metadata": {},
     "output_type": "execute_result"
    }
   ],
   "source": [
    "# Zwiększenie wagi dla obserwacji z wartością 1 daje trochę lepsze rezultaty\n",
    "model = make_pipeline(StandardScaler(),\n",
    "                      LogisticRegression(class_weight={0:1,1:10}))\n",
    "model.fit(X_train, y_train)\n",
    "\n",
    "y_pred = model.predict(X_test)\n",
    "print(np.sum(y_pred))\n",
    "\n",
    "accuracy_score(y_test, y_pred), \\\n",
    "f1_score(y_true=y_test,y_pred=y_pred), \\\n",
    "roc_auc_score(y_true=y_test, y_score=model.predict_proba(X_test)[:,1])"
   ]
  },
  {
   "cell_type": "code",
   "execution_count": 558,
   "metadata": {
    "collapsed": false,
    "scrolled": true
   },
   "outputs": [
    {
     "name": "stdout",
     "output_type": "stream",
     "text": [
      "Fitting 2 folds for each of 7 candidates, totalling 14 fits\n"
     ]
    },
    {
     "name": "stderr",
     "output_type": "stream",
     "text": [
      "[Parallel(n_jobs=-1)]: Using backend LokyBackend with 2 concurrent workers.\n",
      "[Parallel(n_jobs=-1)]: Done  14 out of  14 | elapsed:   25.7s finished\n"
     ]
    },
    {
     "name": "stdout",
     "output_type": "stream",
     "text": [
      "{'log_reg__class_weight': {0: 1, 1: 15}}\n",
      "f1 na zbiorze treningowym: 0.10962441756538381 Accuracy_score na zbiorze treningowym: 0.9440358538267065\n",
      "f1 na zbiorze testowym: 0.11452991452991453 Accuracy_score na zbiorze testowym: 0.9404734543783039\n"
     ]
    }
   ],
   "source": [
    "# Spróbójmy znaleźć taki dobór wag (parametr class_weight), przy którym miara F1 jest największa \n",
    "pipe = Pipeline([(\"scale\",StandardScaler()),(\"log_reg\",LogisticRegression())])\n",
    "\n",
    "param_grid = {\"log_reg__class_weight\":[{0:1,1:10},{0:1,1:15},{0:1,1:20},{0:1,1:25},\n",
    "                                       {0:1,1:30},{0:1,1:30},{0:1,1:40}]}\n",
    "\n",
    "gs = GridSearchCV(pipe,param_grid,cv = 2, return_train_score=True, scoring=\"f1\", verbose=2,n_jobs=-1)\n",
    "\n",
    "gs.fit(X_train,y_train)\n",
    "print(gs.best_params_)\n",
    "print(\"f1 na zbiorze treningowym:\", gs.best_score_, \n",
    "      \"Accuracy_score na zbiorze treningowym:\", accuracy_score(gs.predict(X_train),y_train))\n",
    "print(\"f1 na zbiorze testowym:\",f1_score(y_test,gs.predict(X_test)),\n",
    "     \"Accuracy_score na zbiorze testowym:\", accuracy_score(gs.predict(X_test),y_test))"
   ]
  },
  {
   "cell_type": "code",
   "execution_count": 559,
   "metadata": {
    "collapsed": true
   },
   "outputs": [],
   "source": [
    "# Wychodzi, że optymalny jest dobór wag {0: 1, 1: 15}"
   ]
  },
  {
   "cell_type": "code",
   "execution_count": 560,
   "metadata": {
    "collapsed": false,
    "scrolled": false
   },
   "outputs": [
    {
     "data": {
      "text/plain": [
       "(0.967249, 0.114907, 0.82471)"
      ]
     },
     "execution_count": 560,
     "metadata": {},
     "output_type": "execute_result"
    }
   ],
   "source": [
    "# Rozważmy jeszcze metodę oversampling (wiersze z 1-dynkami powielamy np. 10000 razy)\n",
    "X_train_oversample = pd.concat([\n",
    "    X_train[y_train==0],\n",
    "    X_train[y_train==1].sample(10000,replace=True)\n",
    "])\n",
    "\n",
    "y_train_oversample = np.concatenate([\n",
    "    np.repeat(0, np.sum(y_train==0)), np.repeat(1,10000)\n",
    "])\n",
    "\n",
    "model = make_pipeline(StandardScaler(),LogisticRegression())\n",
    "model.fit(X_train_oversample, y_train_oversample)\n",
    "y_pred = model.predict(X_test)\n",
    "np.round(accuracy_score(y_test, y_pred),6), \\\n",
    "np.round(f1_score(y_true=y_test,y_pred=y_pred),6), \\\n",
    "np.round(roc_auc_score(y_true=y_test, y_score=model.predict_proba(X_test)[:,1]),6)"
   ]
  },
  {
   "cell_type": "code",
   "execution_count": 561,
   "metadata": {
    "collapsed": false,
    "scrolled": true
   },
   "outputs": [
    {
     "name": "stdout",
     "output_type": "stream",
     "text": [
      "i = 5000\n",
      "0.982648 0.032051 0.821886\n",
      "i = 10000\n",
      "0.966962 0.116743 0.824942\n",
      "i = 15000\n",
      "0.940473 0.11453 0.826065\n",
      "i = 20000\n",
      "0.913928 0.114657 0.826235\n",
      "i = 25000\n",
      "0.888474 0.110857 0.826293\n",
      "i = 30000\n",
      "0.864801 0.105663 0.828143\n",
      "i = 35000\n",
      "0.844289 0.100266 0.827294\n",
      "i = 40000\n",
      "0.824408 0.097993 0.827663\n"
     ]
    }
   ],
   "source": [
    "# W pętli poszukujemy takiego sposobu oversamplingu, aby miara F1 była największa\n",
    "\n",
    "for i in range(5000,45000,5000):\n",
    "    print(\"i =\",i)\n",
    "    X_train_oversample = pd.concat([\n",
    "        X_train[y_train==0],\n",
    "        X_train[y_train==1].sample(i,replace=True)\n",
    "    ])\n",
    "\n",
    "    y_train_oversample = np.concatenate([\n",
    "        np.repeat(0, np.sum(y_train==0)), np.repeat(1,i)\n",
    "    ])\n",
    "\n",
    "    model = make_pipeline(StandardScaler(),LogisticRegression())\n",
    "    model.fit(X_train_oversample, y_train_oversample)\n",
    "    y_pred = model.predict(X_test)\n",
    "    print(np.round(accuracy_score(y_test, y_pred),6), \\\n",
    "    np.round(f1_score(y_true=y_test,y_pred=y_pred),6), \\\n",
    "    np.round(roc_auc_score(y_true=y_test, y_score=model.predict_proba(X_test)[:,1]),6))"
   ]
  },
  {
   "cell_type": "code",
   "execution_count": 562,
   "metadata": {
    "collapsed": false,
    "scrolled": true
   },
   "outputs": [
    {
     "name": "stdout",
     "output_type": "stream",
     "text": [
      "i = 10000\n",
      "0.968628 0.113636 0.82469\n",
      "i = 11000\n",
      "0.962767 0.117166 0.824635\n",
      "i = 12000\n",
      "0.958803 0.124542 0.82636\n",
      "i = 13000\n",
      "0.952769 0.118026 0.826127\n",
      "i = 14000\n",
      "0.946392 0.117313 0.82697\n",
      "i = 15000\n",
      "0.941335 0.116017 0.825982\n"
     ]
    }
   ],
   "source": [
    "# Widać, że właściwy poziom i kształtuje się pomiędzy 10 i 15 tys, robimy więc bardzie szczegółową\n",
    "# Analizę w tym zakresie\n",
    "for i in range(10000,16000,1000):\n",
    "    print(\"i =\",i)\n",
    "    X_train_oversample = pd.concat([\n",
    "        X_train[y_train==0],\n",
    "        X_train[y_train==1].sample(i,replace=True)\n",
    "    ])\n",
    "\n",
    "    y_train_oversample = np.concatenate([\n",
    "        np.repeat(0, np.sum(y_train==0)), np.repeat(1,i)\n",
    "    ])\n",
    "\n",
    "    model = make_pipeline(StandardScaler(),LogisticRegression())\n",
    "    model.fit(X_train_oversample, y_train_oversample)\n",
    "    y_pred = model.predict(X_test)\n",
    "    print(np.round(accuracy_score(y_test, y_pred),6), \\\n",
    "    np.round(f1_score(y_true=y_test,y_pred=y_pred),6), \\\n",
    "    np.round(roc_auc_score(y_true=y_test, y_score=model.predict_proba(X_test)[:,1]),6))"
   ]
  },
  {
   "cell_type": "code",
   "execution_count": 563,
   "metadata": {
    "collapsed": true
   },
   "outputs": [],
   "source": [
    "# WNIOSEK, wartość i=12000/13000 wychodzi najlepsza pod względem maksymalizacji miary F1 (poziom 0.124).\n",
    "# Dodatkowo widać, że metoda oversampling daje lepsze rezultaty niż metoda przyjmowania różnych tresholdów dla\n",
    "# prawdopodobieństw oraz metoda zmiany parametru class_weight"
   ]
  },
  {
   "cell_type": "markdown",
   "metadata": {},
   "source": [
    "### Poszukiwania lepszego modelu drzewa decyzyjnego, lasu, komitetu"
   ]
  },
  {
   "cell_type": "code",
   "execution_count": 564,
   "metadata": {
    "collapsed": false,
    "scrolled": false
   },
   "outputs": [
    {
     "name": "stdout",
     "output_type": "stream",
     "text": [
      "treshold = 0.0 : 0.952712 0.084538 0.554157\n",
      "treshold = 0.1 : 0.952712 0.084538 0.554157\n",
      "treshold = 0.2 : 0.955815 0.089941 0.554157\n",
      "treshold = 0.3 : 0.960296 0.089592 0.554157\n",
      "treshold = 0.4 : 0.972995 0.074803 0.554157\n",
      "treshold = 0.5 : 0.975408 0.069565 0.554157\n",
      "treshold = 0.6 : 0.977821 0.072115 0.554157\n",
      "treshold = 0.7 : 0.982763 0.044586 0.554157\n",
      "treshold = 0.8 : 0.983912 0.034483 0.554157\n",
      "treshold = 0.9 : 0.983912 0.034483 0.554157\n"
     ]
    }
   ],
   "source": [
    "#Analogiczna analiza dla modelu drzewa\n",
    "model = DecisionTreeClassifier(min_samples_leaf=3)# aby model nie był przeuczony\n",
    "model.fit(X_train, y_train)\n",
    "\n",
    "for t in np.arange(0,1,0.1):\n",
    "    \n",
    "    y_prob = model.predict_proba(X_test)[:,1]\n",
    "    \n",
    "    print(\"treshold =\",np.round(t,2),\":\",np.round(accuracy_score(y_test, y_prob>t),6), \\\n",
    "        np.round(f1_score(y_true=y_test, y_pred=y_prob>t),6), \\\n",
    "        np.round(roc_auc_score(y_true=y_test, y_score=y_prob),6))"
   ]
  },
  {
   "cell_type": "code",
   "execution_count": 565,
   "metadata": {
    "collapsed": true
   },
   "outputs": [],
   "source": [
    "# WNIOSKI: F1 max w granicach 0.08"
   ]
  },
  {
   "cell_type": "code",
   "execution_count": 566,
   "metadata": {
    "collapsed": false,
    "scrolled": true
   },
   "outputs": [],
   "source": [
    "#Rozważmy kilka innych wariantów "
   ]
  },
  {
   "cell_type": "code",
   "execution_count": 567,
   "metadata": {
    "collapsed": false,
    "scrolled": true
   },
   "outputs": [
    {
     "data": {
      "text/plain": [
       "(0.957194, 0.09697, 0.55999)"
      ]
     },
     "execution_count": 567,
     "metadata": {},
     "output_type": "execute_result"
    }
   ],
   "source": [
    "model = DecisionTreeClassifier(min_samples_leaf=3,class_weight={0:1,1:10})\n",
    "model.fit(X_train, y_train)\n",
    "\n",
    "y_pred = model.predict(X_test)\n",
    "\n",
    "np.round(accuracy_score(y_test, y_pred),6), \\\n",
    "np.round(f1_score(y_true=y_test,y_pred=y_pred),6), \\\n",
    "np.round(roc_auc_score(y_true=y_test, y_score=model.predict_proba(X_test)[:,1]),6)"
   ]
  },
  {
   "cell_type": "code",
   "execution_count": 568,
   "metadata": {
    "collapsed": false,
    "scrolled": true
   },
   "outputs": [
    {
     "name": "stdout",
     "output_type": "stream",
     "text": [
      "i = 10000\n",
      "0.967306 0.112324 0.825365\n",
      "i = 11000\n",
      "0.963572 0.119444 0.825249\n",
      "i = 12000\n",
      "0.958458 0.121507 0.825758\n",
      "i = 13000\n",
      "0.954206 0.125137 0.825963\n",
      "i = 14000\n",
      "0.946507 0.112488 0.824838\n",
      "i = 15000\n",
      "0.941335 0.116017 0.825408\n"
     ]
    }
   ],
   "source": [
    "# Analogocznie jak przy regresji logistycznej, rozważmy różne parametry \"i\" dla oversamplingu\n",
    "model=DecisionTreeClassifier(min_samples_leaf=3)\n",
    "\n",
    "for i in range(10000,16000,1000):\n",
    "    print(\"i =\",i)\n",
    "    X_train_oversample = pd.concat([\n",
    "        X_train[y_train==0],\n",
    "        X_train[y_train==1].sample(i,replace=True)\n",
    "    ])\n",
    "\n",
    "    y_train_oversample = np.concatenate([\n",
    "        np.repeat(0, np.sum(y_train==0)), np.repeat(1,i)\n",
    "    ])\n",
    "\n",
    "    model = make_pipeline(StandardScaler(),LogisticRegression())\n",
    "    model.fit(X_train_oversample, y_train_oversample)\n",
    "    y_pred = model.predict(X_test)\n",
    "    print(np.round(accuracy_score(y_test, y_pred),6), \\\n",
    "    np.round(f1_score(y_true=y_test,y_pred=y_pred),6), \\\n",
    "    np.round(roc_auc_score(y_true=y_test, y_score=model.predict_proba(X_test)[:,1]),6))"
   ]
  },
  {
   "cell_type": "code",
   "execution_count": 569,
   "metadata": {
    "collapsed": false
   },
   "outputs": [],
   "source": [
    "# Dla drzewa również wychodzi poziom i =13000, przyjmijmy taki dla wszystkich późniejszych analiz\n",
    "X_train_oversample = pd.concat([\n",
    "    X_train[y_train==0],\n",
    "    X_train[y_train==1].sample(13000,replace=True)\n",
    "])\n",
    "\n",
    "y_train_oversample = np.concatenate([\n",
    "    np.repeat(0, np.sum(y_train==0)), np.repeat(1,13000)\n",
    "])"
   ]
  },
  {
   "cell_type": "code",
   "execution_count": 570,
   "metadata": {
    "collapsed": false
   },
   "outputs": [
    {
     "data": {
      "text/plain": [
       "(0.980349344978166, 0.11855670103092784, 0.8119467003219197)"
      ]
     },
     "execution_count": 570,
     "metadata": {},
     "output_type": "execute_result"
    }
   ],
   "source": [
    "model = RandomForestClassifier(min_samples_leaf=10)\n",
    "model.fit(X_train_oversample, y_train_oversample)\n",
    "\n",
    "y_pred = model.predict(X_test)\n",
    "\n",
    "accuracy_score(y_test, y_pred), \\\n",
    "f1_score(y_true=y_test,y_pred=y_pred), \\\n",
    "roc_auc_score(y_true=y_test, y_score=model.predict_proba(X_test)[:,1])"
   ]
  },
  {
   "cell_type": "code",
   "execution_count": 571,
   "metadata": {
    "collapsed": false,
    "scrolled": true
   },
   "outputs": [
    {
     "data": {
      "text/plain": [
       "(0.9796023902551138, 0.08268733850129198, 0.7996938669746505)"
      ]
     },
     "execution_count": 571,
     "metadata": {},
     "output_type": "execute_result"
    }
   ],
   "source": [
    "model = RandomForestClassifier(min_samples_leaf=10,\n",
    "                               class_weight={0:1,1:15})\n",
    "model.fit(X_train, y_train)\n",
    "\n",
    "y_pred = model.predict(X_test)\n",
    "\n",
    "accuracy_score(y_test, y_pred), \\\n",
    "f1_score(y_true=y_test,y_pred=y_pred), \\\n",
    "roc_auc_score(y_true=y_test, y_score=model.predict_proba(X_test)[:,1])"
   ]
  },
  {
   "cell_type": "code",
   "execution_count": 572,
   "metadata": {
    "collapsed": true
   },
   "outputs": [],
   "source": [
    "# Komitet"
   ]
  },
  {
   "cell_type": "code",
   "execution_count": 611,
   "metadata": {
    "collapsed": false,
    "scrolled": true
   },
   "outputs": [],
   "source": [
    "from copy import deepcopy\n",
    "def stworz_komitet(model_bazowy, N, X,y):\n",
    "    \n",
    "    lista_modeli = []\n",
    "    \n",
    "    for i in range(N):\n",
    "        X_train = pd.concat([\n",
    "            X[y==0].sample(np.sum(y==1)),\n",
    "            X[y==1]])\n",
    "\n",
    "        y_train = np.concatenate([\n",
    "            np.repeat(0, np.sum(y==1)), np.repeat(1,np.sum(y==1))])\n",
    "        \n",
    "        model = deepcopy(model_bazowy) \n",
    "        model.fit(X_train, y_train)\n",
    "        \n",
    "        lista_modeli.append(model)\n",
    "    \n",
    "    return lista_modeli"
   ]
  },
  {
   "cell_type": "code",
   "execution_count": 612,
   "metadata": {
    "collapsed": false,
    "scrolled": true
   },
   "outputs": [],
   "source": [
    "komitet = stworz_komitet(DecisionTreeClassifier(min_samples_leaf=10),\n",
    "                        50,\n",
    "                        X_train, y_train)"
   ]
  },
  {
   "cell_type": "code",
   "execution_count": 616,
   "metadata": {
    "collapsed": true
   },
   "outputs": [],
   "source": [
    "def predykcja(lista_modeli,X):\n",
    "\n",
    "    wynik=[]\n",
    "    for i in range(0,len(X)):\n",
    "        wynik.append(0)\n",
    "\n",
    "    for i in range(0,len(lista_modeli)):\n",
    "        model_wynik=lista_modeli[i].predict(X)\n",
    "        for j in range(0,len(X)):\n",
    "            wynik[j]+=model_wynik[j]\n",
    "            \n",
    "    #print(wynik)\n",
    "    \n",
    "    for j in range(0,len(X)):\n",
    "        if wynik[j]>len(lista_modeli)*0.9:\n",
    "            wynik[j]=1\n",
    "        else:\n",
    "            wynik[j]=0\n",
    "            \n",
    "    return wynik"
   ]
  },
  {
   "cell_type": "code",
   "execution_count": 617,
   "metadata": {
    "collapsed": false,
    "scrolled": false
   },
   "outputs": [
    {
     "data": {
      "text/plain": [
       "0.12210012210012211"
      ]
     },
     "execution_count": 617,
     "metadata": {},
     "output_type": "execute_result"
    }
   ],
   "source": [
    "y_pred = predykcja(komitet, X_test)\n",
    "f1_score(y_test, y_pred)"
   ]
  },
  {
   "cell_type": "code",
   "execution_count": 578,
   "metadata": {
    "collapsed": true
   },
   "outputs": [],
   "source": [
    "# Rozważmy jeszcze poniższy VotingClassifier wraz z porównaniem dla poszczególnych modeli"
   ]
  },
  {
   "cell_type": "code",
   "execution_count": 580,
   "metadata": {
    "collapsed": false,
    "scrolled": false
   },
   "outputs": [
    {
     "name": "stdout",
     "output_type": "stream",
     "text": [
      "Miary dla poszczególnych modeli:\n",
      "\n",
      "Accuracy_score: 0.9540335555044818 F1: 0.1208791208791209\n",
      "Accuracy_score: 0.9704091013560101 F1: 0.061930783242258654\n",
      "Accuracy_score: 0.9604688577338543 F1: 0.11568123393316197\n",
      "Accuracy_score: 0.9538611813376235 F1: 0.12048192771084337\n",
      "Accuracy_score: 0.9675361985750403 F1: 0.08427876823338736\n",
      "VotingClassifier:\n",
      "\n",
      "Accuracy_score: 0.9730521719145024 F1: 0.11676082862523539\n"
     ]
    }
   ],
   "source": [
    "models = [make_pipeline(StandardScaler(),LogisticRegression()),\n",
    "          DecisionTreeClassifier(),\n",
    "          make_pipeline(StandardScaler(),SVC()),\n",
    "          make_pipeline(StandardScaler(),LogisticRegression(\"l1\")),\n",
    "          DecisionTreeClassifier(min_samples_leaf=3)\n",
    "         ]\n",
    "print(\"Miary dla poszczególnych modeli:\\n\")\n",
    "for model in models:\n",
    "    model.fit(X_train_oversample, y_train_oversample)\n",
    "    print(\"Accuracy_score:\",accuracy_score(y_test, model.predict(X_test)), \"F1:\",\n",
    "          f1_score(y_true=y_test,y_pred=model.predict(X_test)))\n",
    "    \n",
    "model = VotingClassifier(list(zip([\"r1\",\"d1\",\"s\",\"r2\",\"d2\"],models)))\n",
    "model.fit(X_train_oversample, y_train_oversample)\n",
    "\n",
    "print(\"VotingClassifier:\\n\")\n",
    "print(\"Accuracy_score:\",accuracy_score(y_test, model.predict(X_test)), \"F1:\",\n",
    "          f1_score(y_true=y_test,y_pred=model.predict(X_test)))"
   ]
  },
  {
   "cell_type": "code",
   "execution_count": null,
   "metadata": {
    "collapsed": true
   },
   "outputs": [],
   "source": [
    "# Tak zbudowany VotingClassifier nie przynosi lepszego rezultatu niż pojedyncze modele"
   ]
  },
  {
   "cell_type": "markdown",
   "metadata": {},
   "source": [
    "## Poszukiwania innych modeli klasyfikacji i ich parametrów"
   ]
  },
  {
   "cell_type": "markdown",
   "metadata": {
    "collapsed": false,
    "scrolled": true
   },
   "source": [
    "#### XGBoostClassifier"
   ]
  },
  {
   "cell_type": "code",
   "execution_count": 581,
   "metadata": {
    "collapsed": false
   },
   "outputs": [
    {
     "name": "stdout",
     "output_type": "stream",
     "text": [
      "Najwyższa wartośc F1 na zbiorze treningowym: 0.1205 dla thresholdu: 0.06\n"
     ]
    }
   ],
   "source": [
    "# Poszukajmy takiego tresholdu prawdopodobieństwa dla bycia zaklasyfikowania jako 1-dynka, który maksymalizuje\n",
    "# miarę F1\n",
    "model = XGBClassifier()\n",
    "model.fit(X_train, y_train)\n",
    "y_pred = cross_val_predict(estimator=model, X=X_train, y=y_train, method=\"predict_proba\",\n",
    "                           cv = StratifiedKFold(3))[:,1]\n",
    "lista = []\n",
    "for x in  np.arange(0.01,0.11,0.01):\n",
    "    z = y_pred > x\n",
    "    z = [int(z[x]) for x in range(len(z))]\n",
    "    f = f1_score(y_train, z)\n",
    "    lista.append(round(f,4))\n",
    "    \n",
    "print(\"Najwyższa wartośc F1 na zbiorze treningowym:\", np.max(lista),\n",
    "      \"dla thresholdu:\" ,np.round(0.01+np.argmax(lista)*0.01,2))"
   ]
  },
  {
   "cell_type": "code",
   "execution_count": 583,
   "metadata": {
    "collapsed": false,
    "scrolled": false
   },
   "outputs": [
    {
     "name": "stdout",
     "output_type": "stream",
     "text": [
      "Fitting 3 folds for each of 10 candidates, totalling 30 fits\n"
     ]
    },
    {
     "name": "stderr",
     "output_type": "stream",
     "text": [
      "[Parallel(n_jobs=1)]: Using backend SequentialBackend with 1 concurrent workers.\n",
      "[Parallel(n_jobs=1)]: Done  30 out of  30 | elapsed:  3.0min finished\n"
     ]
    },
    {
     "data": {
      "text/plain": [
       "RandomizedSearchCV(cv='warn', error_score='raise-deprecating',\n",
       "                   estimator=XGBClassifier(base_score=0.5, booster='gbtree',\n",
       "                                           colsample_bylevel=1,\n",
       "                                           colsample_bynode=1,\n",
       "                                           colsample_bytree=1, gamma=0,\n",
       "                                           learning_rate=0.1, max_delta_step=0,\n",
       "                                           max_depth=3, min_child_weight=1,\n",
       "                                           missing=None, n_estimators=10,\n",
       "                                           n_jobs=1, nthread=None,\n",
       "                                           objective='binary:logistic',\n",
       "                                           random_state=0, reg_alp...\n",
       "                   param_distributions={'learning_rate': <scipy.stats._distn_infrastructure.rv_frozen object at 0x7f2c59ed25f8>,\n",
       "                                        'n_estimators': <scipy.stats._distn_infrastructure.rv_frozen object at 0x7f2c59edc9e8>,\n",
       "                                        'reg_alpha': <scipy.stats._distn_infrastructure.rv_frozen object at 0x7f2c59ed2668>,\n",
       "                                        'reg_lambda': <scipy.stats._distn_infrastructure.rv_frozen object at 0x7f2c5c24ca90>},\n",
       "                   pre_dispatch='2*n_jobs', random_state=None, refit=True,\n",
       "                   return_train_score=False, scoring='f1', verbose=1)"
      ]
     },
     "execution_count": 583,
     "metadata": {},
     "output_type": "execute_result"
    }
   ],
   "source": [
    "# Zaoptymalizujmy inne parametry XGBClassifier \n",
    "\n",
    "param_grid = {\"n_estimators\":ss.randint(10,100),\n",
    "             \"learning_rate\":ss.uniform(0.05,0.15),\n",
    "             \"reg_alpha\":ss.uniform(0,1),\n",
    "             \"reg_lambda\":ss.uniform(0,1)}\n",
    "\n",
    "rs = RandomizedSearchCV(XGBClassifier(n_estimators=10),\n",
    "                        param_grid,\n",
    "                        10,\n",
    "                        verbose=1, scoring=\"f1\")#Optymalizujemy miarę F1\n",
    "rs.fit(X_train, y_train)"
   ]
  },
  {
   "cell_type": "code",
   "execution_count": 584,
   "metadata": {
    "collapsed": false,
    "scrolled": false
   },
   "outputs": [
    {
     "data": {
      "text/plain": [
       "{'learning_rate': 0.10921331867079342,\n",
       " 'n_estimators': 80,\n",
       " 'reg_alpha': 0.8407481004220382,\n",
       " 'reg_lambda': 0.2378086600969681}"
      ]
     },
     "execution_count": 584,
     "metadata": {},
     "output_type": "execute_result"
    }
   ],
   "source": [
    "rs.best_params_"
   ]
  },
  {
   "cell_type": "code",
   "execution_count": 585,
   "metadata": {
    "collapsed": false,
    "scrolled": true
   },
   "outputs": [
    {
     "name": "stdout",
     "output_type": "stream",
     "text": [
      "f1 na zbiorze treningowym: 0.0 Accuracy_score na zbiorze treningowym: 0.9855636635256263\n",
      "f1 na zbiorze testowym: 0.0 Accuracy_score na zbiorze testowym: 0.9846012410940014\n"
     ]
    }
   ],
   "source": [
    "print(\"f1 na zbiorze treningowym:\", rs.best_score_, \n",
    "      \"Accuracy_score na zbiorze treningowym:\", accuracy_score(rs.predict(X_train),y_train))\n",
    "print(\"f1 na zbiorze testowym:\",f1_score(y_test,rs.predict(X_test)),\n",
    "     \"Accuracy_score na zbiorze testowym:\", accuracy_score(rs.predict(X_test),y_test))"
   ]
  },
  {
   "cell_type": "code",
   "execution_count": 586,
   "metadata": {
    "collapsed": false
   },
   "outputs": [
    {
     "name": "stdout",
     "output_type": "stream",
     "text": [
      "Fitting 3 folds for each of 10 candidates, totalling 30 fits\n"
     ]
    },
    {
     "name": "stderr",
     "output_type": "stream",
     "text": [
      "[Parallel(n_jobs=1)]: Using backend SequentialBackend with 1 concurrent workers.\n",
      "[Parallel(n_jobs=1)]: Done  30 out of  30 | elapsed:  2.9min finished\n"
     ]
    },
    {
     "data": {
      "text/plain": [
       "RandomizedSearchCV(cv='warn', error_score='raise-deprecating',\n",
       "                   estimator=XGBClassifier(base_score=0.5, booster='gbtree',\n",
       "                                           colsample_bylevel=1,\n",
       "                                           colsample_bynode=1,\n",
       "                                           colsample_bytree=1, gamma=0,\n",
       "                                           learning_rate=0.1, max_delta_step=0,\n",
       "                                           max_depth=3, min_child_weight=1,\n",
       "                                           missing=None, n_estimators=10,\n",
       "                                           n_jobs=1, nthread=None,\n",
       "                                           objective='binary:logistic',\n",
       "                                           random_state=0, reg_alp...\n",
       "                   param_distributions={'learning_rate': <scipy.stats._distn_infrastructure.rv_frozen object at 0x7f2c5c32dda0>,\n",
       "                                        'n_estimators': <scipy.stats._distn_infrastructure.rv_frozen object at 0x7f2c4fd1c390>,\n",
       "                                        'reg_alpha': <scipy.stats._distn_infrastructure.rv_frozen object at 0x7f2c4c9ab2e8>,\n",
       "                                        'reg_lambda': <scipy.stats._distn_infrastructure.rv_frozen object at 0x7f2c59ed2208>},\n",
       "                   pre_dispatch='2*n_jobs', random_state=None, refit=True,\n",
       "                   return_train_score=False, scoring='f1', verbose=1)"
      ]
     },
     "execution_count": 586,
     "metadata": {},
     "output_type": "execute_result"
    }
   ],
   "source": [
    "#Widać, że samo strojenie parametrów XGBoost na oryginalnych zbiorach nie wnosi wiele, \n",
    "# zróbmy więc to samo na zbiorach X_train_oversample oraz y_train_oversample\n",
    "param_grid = {\"n_estimators\":ss.randint(10,100),\n",
    "             \"learning_rate\":ss.uniform(0.05,0.15),\n",
    "             \"reg_alpha\":ss.uniform(0,1),\n",
    "             \"reg_lambda\":ss.uniform(0,1)}\n",
    "\n",
    "rs = RandomizedSearchCV(XGBClassifier(n_estimators=10),\n",
    "                        param_grid,\n",
    "                        10,\n",
    "                        verbose=1, scoring=\"f1\")#Optymalizujemy miarę F1\n",
    "rs.fit(X_train_oversample, y_train_oversample) # i=13000"
   ]
  },
  {
   "cell_type": "code",
   "execution_count": 587,
   "metadata": {
    "collapsed": false
   },
   "outputs": [
    {
     "data": {
      "text/plain": [
       "{'learning_rate': 0.1653165461154244,\n",
       " 'n_estimators': 60,\n",
       " 'reg_alpha': 0.36777130292943716,\n",
       " 'reg_lambda': 0.7817476217010174}"
      ]
     },
     "execution_count": 587,
     "metadata": {},
     "output_type": "execute_result"
    }
   ],
   "source": [
    "rs.best_params_"
   ]
  },
  {
   "cell_type": "code",
   "execution_count": 588,
   "metadata": {
    "collapsed": false
   },
   "outputs": [
    {
     "name": "stdout",
     "output_type": "stream",
     "text": [
      "f1 na zbiorze treningowym: 0.2834913236752001 Accuracy_score na zbiorze treningowym: 0.9736842105263158\n",
      "f1 na zbiorze testowym: 0.15 Accuracy_score na zbiorze testowym: 0.9706963916341071\n"
     ]
    }
   ],
   "source": [
    "print(\"f1 na zbiorze treningowym:\", rs.best_score_, \n",
    "      \"Accuracy_score na zbiorze treningowym:\", accuracy_score(rs.predict(X_train),y_train))\n",
    "print(\"f1 na zbiorze testowym:\",f1_score(y_test,rs.predict(X_test)),\n",
    "     \"Accuracy_score na zbiorze testowym:\", accuracy_score(rs.predict(X_test),y_test))"
   ]
  },
  {
   "cell_type": "code",
   "execution_count": 589,
   "metadata": {
    "collapsed": false,
    "scrolled": true
   },
   "outputs": [
    {
     "name": "stdout",
     "output_type": "stream",
     "text": [
      "0.9614456446793841 0.14522292993630573 0.8511103446353666\n"
     ]
    }
   ],
   "source": [
    "#Połączmy zoptymalizowane parametry dla XGBoost\n",
    "model= XGBClassifier(learning_rate=rs.best_params_[\"learning_rate\"], \n",
    "                         n_estimators=rs.best_params_[\"n_estimators\"],\n",
    "                         reg_alpha=rs.best_params_[\"reg_alpha\"],\n",
    "                         reg_lambda = rs.best_params_[\"reg_lambda\"])\n",
    "model.fit(X_train,y_train)\n",
    "y_prob = model.predict_proba(X_test)[:,1]\n",
    "\n",
    "print(accuracy_score(y_test, y_prob>0.06), \\\n",
    "    f1_score(y_true=y_test, y_pred=y_prob>0.06), \\\n",
    "    roc_auc_score(y_true=y_test, y_score=y_prob))"
   ]
  },
  {
   "cell_type": "code",
   "execution_count": 590,
   "metadata": {
    "collapsed": true
   },
   "outputs": [],
   "source": [
    "# Widać, że dla klasyfikatora XGBoost również najlepsze wyniki daje metoda oversampling (przy i =13000)"
   ]
  },
  {
   "cell_type": "markdown",
   "metadata": {
    "collapsed": false
   },
   "source": [
    "### Podsumowanie wyników modeli dla poszczególnych klasyfikatorów i wybór najlepszego (F1)"
   ]
  },
  {
   "cell_type": "code",
   "execution_count": 598,
   "metadata": {
    "collapsed": true
   },
   "outputs": [],
   "source": [
    "# Wszystkie modele uczymy na X_train_oversample, y_train_oversample (i = 13000)"
   ]
  },
  {
   "cell_type": "code",
   "execution_count": 599,
   "metadata": {
    "collapsed": false
   },
   "outputs": [],
   "source": [
    "names = [\"StandardScaler_LogisticRegression\", \"DecisionTree\", \"StandardScaler_SVC\", \"MultinomialNB\",\n",
    "        \"XGBClassifier\", \"GradientBoostingClassifier\",\"LinearDiscriminantAnalysis\",\n",
    "         \"QuadraticDiscriminantAnalysis\"]\n",
    "models = [[(\"scale\",StandardScaler()), (\"model\",LogisticRegression())],\n",
    "          [(\"model\",DecisionTreeClassifier())],\n",
    "          [(\"scale\",StandardScaler()), (\"model\",SVC())],\n",
    "          [(\"model\",MultinomialNB())],\n",
    "          [(\"model\",XGBClassifier(learning_rate=rs.best_params_[\"learning_rate\"], \n",
    "                         n_estimators=rs.best_params_[\"n_estimators\"],\n",
    "                         reg_alpha=rs.best_params_[\"reg_alpha\"],\n",
    "                         reg_lambda = rs.best_params_[\"reg_lambda\"]))],#Parametry zoptymalizowane w RGridSearch\n",
    "          [(\"model\",GradientBoostingClassifier())],\n",
    "          [(\"model\",LinearDiscriminantAnalysis())],\n",
    "          [(\"model\",QuadraticDiscriminantAnalysis())]          \n",
    "         ]\n",
    "param_grids = [{\"model__C\":[1,100,10000],\"model__penalty\":[\"l1\",\"l2\"]},\n",
    "               {\"model__min_samples_leaf\":[1,2,3,4,5],\"model__max_depth\":[5,10]},\n",
    "                {},\n",
    "                {},\n",
    "                {},\n",
    "                {\"model__n_estimators\":[30,70],\"model__learning_rate\":[0.07,0.1]},\n",
    "                {},\n",
    "                {}\n",
    "               ]"
   ]
  },
  {
   "cell_type": "code",
   "execution_count": 600,
   "metadata": {
    "collapsed": false
   },
   "outputs": [
    {
     "name": "stdout",
     "output_type": "stream",
     "text": [
      "---!!!--- StandardScaler_LogisticRegression\n",
      "Pipeline(memory=None,\n",
      "         steps=[('scale',\n",
      "                 StandardScaler(copy=True, with_mean=True, with_std=True)),\n",
      "                ('model',\n",
      "                 LogisticRegression(C=1.0, class_weight=None, dual=False,\n",
      "                                    fit_intercept=True, intercept_scaling=1,\n",
      "                                    l1_ratio=None, max_iter=100,\n",
      "                                    multi_class='warn', n_jobs=None,\n",
      "                                    penalty='l2', random_state=None,\n",
      "                                    solver='warn', tol=0.0001, verbose=0,\n",
      "                                    warm_start=False))],\n",
      "         verbose=False)\n",
      "Fitting 3 folds for each of 6 candidates, totalling 18 fits\n"
     ]
    },
    {
     "name": "stderr",
     "output_type": "stream",
     "text": [
      "[Parallel(n_jobs=-1)]: Using backend LokyBackend with 2 concurrent workers.\n",
      "[Parallel(n_jobs=-1)]: Done  18 out of  18 | elapsed: 11.2min finished\n"
     ]
    },
    {
     "name": "stdout",
     "output_type": "stream",
     "text": [
      "---!!!--- DecisionTree\n",
      "Pipeline(memory=None,\n",
      "         steps=[('model',\n",
      "                 DecisionTreeClassifier(class_weight=None, criterion='gini',\n",
      "                                        max_depth=None, max_features=None,\n",
      "                                        max_leaf_nodes=None,\n",
      "                                        min_impurity_decrease=0.0,\n",
      "                                        min_impurity_split=None,\n",
      "                                        min_samples_leaf=1, min_samples_split=2,\n",
      "                                        min_weight_fraction_leaf=0.0,\n",
      "                                        presort=False, random_state=None,\n",
      "                                        splitter='best'))],\n",
      "         verbose=False)\n",
      "Fitting 3 folds for each of 10 candidates, totalling 30 fits\n"
     ]
    },
    {
     "name": "stderr",
     "output_type": "stream",
     "text": [
      "[Parallel(n_jobs=-1)]: Using backend LokyBackend with 2 concurrent workers.\n",
      "[Parallel(n_jobs=-1)]: Done  30 out of  30 | elapsed:    6.6s finished\n"
     ]
    },
    {
     "name": "stdout",
     "output_type": "stream",
     "text": [
      "---!!!--- StandardScaler_SVC\n",
      "Pipeline(memory=None,\n",
      "         steps=[('scale',\n",
      "                 StandardScaler(copy=True, with_mean=True, with_std=True)),\n",
      "                ('model',\n",
      "                 SVC(C=1.0, cache_size=200, class_weight=None, coef0=0.0,\n",
      "                     decision_function_shape='ovr', degree=3,\n",
      "                     gamma='auto_deprecated', kernel='rbf', max_iter=-1,\n",
      "                     probability=False, random_state=None, shrinking=True,\n",
      "                     tol=0.001, verbose=False))],\n",
      "         verbose=False)\n",
      "Fitting 3 folds for each of 1 candidates, totalling 3 fits\n"
     ]
    },
    {
     "name": "stderr",
     "output_type": "stream",
     "text": [
      "[Parallel(n_jobs=-1)]: Using backend LokyBackend with 2 concurrent workers.\n",
      "[Parallel(n_jobs=-1)]: Done   3 out of   3 | elapsed: 13.7min finished\n"
     ]
    },
    {
     "name": "stdout",
     "output_type": "stream",
     "text": [
      "---!!!--- MultinomialNB\n",
      "Pipeline(memory=None,\n",
      "         steps=[('model',\n",
      "                 MultinomialNB(alpha=1.0, class_prior=None, fit_prior=True))],\n",
      "         verbose=False)\n",
      "Fitting 3 folds for each of 1 candidates, totalling 3 fits\n"
     ]
    },
    {
     "name": "stderr",
     "output_type": "stream",
     "text": [
      "[Parallel(n_jobs=-1)]: Using backend LokyBackend with 2 concurrent workers.\n",
      "[Parallel(n_jobs=-1)]: Done   3 out of   3 | elapsed:    2.5s finished\n",
      "[Parallel(n_jobs=-1)]: Using backend LokyBackend with 2 concurrent workers.\n"
     ]
    },
    {
     "name": "stdout",
     "output_type": "stream",
     "text": [
      "---!!!--- XGBClassifier\n",
      "Pipeline(memory=None,\n",
      "         steps=[('model',\n",
      "                 XGBClassifier(base_score=0.5, booster='gbtree',\n",
      "                               colsample_bylevel=1, colsample_bynode=1,\n",
      "                               colsample_bytree=1, gamma=0,\n",
      "                               learning_rate=0.1653165461154244,\n",
      "                               max_delta_step=0, max_depth=3,\n",
      "                               min_child_weight=1, missing=None,\n",
      "                               n_estimators=60, n_jobs=1, nthread=None,\n",
      "                               objective='binary:logistic', random_state=0,\n",
      "                               reg_alpha=0.36777130292943716,\n",
      "                               reg_lambda=0.7817476217010174,\n",
      "                               scale_pos_weight=1, seed=None, silent=None,\n",
      "                               subsample=1, verbosity=1))],\n",
      "         verbose=False)\n",
      "Fitting 3 folds for each of 1 candidates, totalling 3 fits\n"
     ]
    },
    {
     "name": "stderr",
     "output_type": "stream",
     "text": [
      "[Parallel(n_jobs=-1)]: Done   3 out of   3 | elapsed:   16.2s finished\n"
     ]
    },
    {
     "name": "stdout",
     "output_type": "stream",
     "text": [
      "---!!!--- GradientBoostingClassifier\n",
      "Pipeline(memory=None,\n",
      "         steps=[('model',\n",
      "                 GradientBoostingClassifier(criterion='friedman_mse', init=None,\n",
      "                                            learning_rate=0.1, loss='deviance',\n",
      "                                            max_depth=3, max_features=None,\n",
      "                                            max_leaf_nodes=None,\n",
      "                                            min_impurity_decrease=0.0,\n",
      "                                            min_impurity_split=None,\n",
      "                                            min_samples_leaf=1,\n",
      "                                            min_samples_split=2,\n",
      "                                            min_weight_fraction_leaf=0.0,\n",
      "                                            n_estimators=100,\n",
      "                                            n_iter_no_change=None,\n",
      "                                            presort='auto', random_state=None,\n",
      "                                            subsample=1.0, tol=0.0001,\n",
      "                                            validation_fraction=0.1, verbose=0,\n",
      "                                            warm_start=False))],\n",
      "         verbose=False)\n",
      "Fitting 3 folds for each of 4 candidates, totalling 12 fits\n"
     ]
    },
    {
     "name": "stderr",
     "output_type": "stream",
     "text": [
      "[Parallel(n_jobs=-1)]: Using backend LokyBackend with 2 concurrent workers.\n",
      "[Parallel(n_jobs=-1)]: Done  12 out of  12 | elapsed:   58.6s finished\n"
     ]
    },
    {
     "name": "stdout",
     "output_type": "stream",
     "text": [
      "---!!!--- LinearDiscriminantAnalysis\n",
      "Pipeline(memory=None,\n",
      "         steps=[('model',\n",
      "                 LinearDiscriminantAnalysis(n_components=None, priors=None,\n",
      "                                            shrinkage=None, solver='svd',\n",
      "                                            store_covariance=False,\n",
      "                                            tol=0.0001))],\n",
      "         verbose=False)\n",
      "Fitting 3 folds for each of 1 candidates, totalling 3 fits\n"
     ]
    },
    {
     "name": "stderr",
     "output_type": "stream",
     "text": [
      "[Parallel(n_jobs=-1)]: Using backend LokyBackend with 2 concurrent workers.\n",
      "[Parallel(n_jobs=-1)]: Done   3 out of   3 | elapsed:    2.3s finished\n"
     ]
    },
    {
     "name": "stdout",
     "output_type": "stream",
     "text": [
      "---!!!--- QuadraticDiscriminantAnalysis\n",
      "Pipeline(memory=None,\n",
      "         steps=[('model',\n",
      "                 QuadraticDiscriminantAnalysis(priors=None, reg_param=0.0,\n",
      "                                               store_covariance=False,\n",
      "                                               tol=0.0001))],\n",
      "         verbose=False)\n",
      "Fitting 3 folds for each of 1 candidates, totalling 3 fits\n"
     ]
    },
    {
     "name": "stderr",
     "output_type": "stream",
     "text": [
      "[Parallel(n_jobs=-1)]: Using backend LokyBackend with 2 concurrent workers.\n",
      "[Parallel(n_jobs=-1)]: Done   3 out of   3 | elapsed:    3.3s finished\n"
     ]
    }
   ],
   "source": [
    "best_models = []\n",
    "\n",
    "for name, pipe, params in zip(names, models,param_grids):\n",
    "    \n",
    "    print(\"---!!!---\", name)\n",
    "    pipeline = Pipeline(pipe)   \n",
    "    print(pipeline) \n",
    "    \n",
    "    gs = GridSearchCV(estimator=pipeline, param_grid=params, n_jobs=-1, refit=True, scoring=\"f1\",\n",
    "                      return_train_score=True, verbose=2)\n",
    "    gs.fit(X_train_oversample,y_train_oversample)\n",
    "\n",
    "    best_models.append(gs.best_estimator_) \n",
    " "
   ]
  },
  {
   "cell_type": "code",
   "execution_count": 602,
   "metadata": {
    "collapsed": false
   },
   "outputs": [],
   "source": [
    "AC_test = []\n",
    "AC_train = []\n",
    "F1_test = []\n",
    "F1_train = []\n",
    "\n",
    "for best_model in best_models:\n",
    "        AC_test.append(accuracy_score(best_model.predict(X_test),y_test))\n",
    "        AC_train.append(accuracy_score(best_model.predict(X_train),y_train))\n",
    "        F1_test.append(f1_score(y_true=y_test,y_pred=best_model.predict(X_test)))\n",
    "        F1_train.append(f1_score(y_true=y_train,y_pred=best_model.predict(X_train)))"
   ]
  },
  {
   "cell_type": "code",
   "execution_count": 607,
   "metadata": {
    "collapsed": false,
    "scrolled": true
   },
   "outputs": [],
   "source": [
    "Nazwa_modelu=pd.DataFrame(names, columns=[\"Nazwa modelu\"])\n",
    "F1_train= pd.DataFrame(F1_train, columns=[\"F1_train\"])\n",
    "F1_test= pd.DataFrame(F1_test, columns=[\"F1_test\"])\n",
    "AC_train= pd.DataFrame(AC_train, columns=[\"Accuracy_train\"])\n",
    "AC_test= pd.DataFrame(AC_test, columns=[\"Accuracy_test\"])"
   ]
  },
  {
   "cell_type": "markdown",
   "metadata": {},
   "source": [
    "### Podsumowanie wyników"
   ]
  },
  {
   "cell_type": "code",
   "execution_count": 608,
   "metadata": {
    "collapsed": false
   },
   "outputs": [
    {
     "data": {
      "text/html": [
       "<div>\n",
       "<style scoped>\n",
       "    .dataframe tbody tr th:only-of-type {\n",
       "        vertical-align: middle;\n",
       "    }\n",
       "\n",
       "    .dataframe tbody tr th {\n",
       "        vertical-align: top;\n",
       "    }\n",
       "\n",
       "    .dataframe thead th {\n",
       "        text-align: right;\n",
       "    }\n",
       "</style>\n",
       "<table border=\"1\" class=\"dataframe\">\n",
       "  <thead>\n",
       "    <tr style=\"text-align: right;\">\n",
       "      <th></th>\n",
       "      <th>Nazwa modelu</th>\n",
       "      <th>F1_train</th>\n",
       "      <th>Accuracy_train</th>\n",
       "      <th>F1_test</th>\n",
       "      <th>Accuracy_test</th>\n",
       "    </tr>\n",
       "  </thead>\n",
       "  <tbody>\n",
       "    <tr>\n",
       "      <th>0</th>\n",
       "      <td>StandardScaler_LogisticRegression</td>\n",
       "      <td>0.112844</td>\n",
       "      <td>0.955053</td>\n",
       "      <td>0.120879</td>\n",
       "      <td>0.954034</td>\n",
       "    </tr>\n",
       "    <tr>\n",
       "      <th>1</th>\n",
       "      <td>DecisionTree</td>\n",
       "      <td>0.223456</td>\n",
       "      <td>0.967852</td>\n",
       "      <td>0.095238</td>\n",
       "      <td>0.959607</td>\n",
       "    </tr>\n",
       "    <tr>\n",
       "      <th>2</th>\n",
       "      <td>StandardScaler_SVC</td>\n",
       "      <td>0.389381</td>\n",
       "      <td>0.974230</td>\n",
       "      <td>0.115681</td>\n",
       "      <td>0.960469</td>\n",
       "    </tr>\n",
       "    <tr>\n",
       "      <th>3</th>\n",
       "      <td>MultinomialNB</td>\n",
       "      <td>0.058628</td>\n",
       "      <td>0.821018</td>\n",
       "      <td>0.060998</td>\n",
       "      <td>0.824868</td>\n",
       "    </tr>\n",
       "    <tr>\n",
       "      <th>4</th>\n",
       "      <td>XGBClassifier</td>\n",
       "      <td>0.170290</td>\n",
       "      <td>0.973684</td>\n",
       "      <td>0.150000</td>\n",
       "      <td>0.970696</td>\n",
       "    </tr>\n",
       "    <tr>\n",
       "      <th>5</th>\n",
       "      <td>GradientBoostingClassifier</td>\n",
       "      <td>0.172154</td>\n",
       "      <td>0.974718</td>\n",
       "      <td>0.144828</td>\n",
       "      <td>0.971501</td>\n",
       "    </tr>\n",
       "    <tr>\n",
       "      <th>6</th>\n",
       "      <td>LinearDiscriminantAnalysis</td>\n",
       "      <td>0.121809</td>\n",
       "      <td>0.943662</td>\n",
       "      <td>0.124467</td>\n",
       "      <td>0.940991</td>\n",
       "    </tr>\n",
       "    <tr>\n",
       "      <th>7</th>\n",
       "      <td>QuadraticDiscriminantAnalysis</td>\n",
       "      <td>0.031385</td>\n",
       "      <td>0.114255</td>\n",
       "      <td>0.033457</td>\n",
       "      <td>0.113595</td>\n",
       "    </tr>\n",
       "  </tbody>\n",
       "</table>\n",
       "</div>"
      ],
      "text/plain": [
       "                        Nazwa modelu  F1_train  Accuracy_train   F1_test  \\\n",
       "0  StandardScaler_LogisticRegression  0.112844        0.955053  0.120879   \n",
       "1                       DecisionTree  0.223456        0.967852  0.095238   \n",
       "2                 StandardScaler_SVC  0.389381        0.974230  0.115681   \n",
       "3                      MultinomialNB  0.058628        0.821018  0.060998   \n",
       "4                      XGBClassifier  0.170290        0.973684  0.150000   \n",
       "5         GradientBoostingClassifier  0.172154        0.974718  0.144828   \n",
       "6         LinearDiscriminantAnalysis  0.121809        0.943662  0.124467   \n",
       "7      QuadraticDiscriminantAnalysis  0.031385        0.114255  0.033457   \n",
       "\n",
       "   Accuracy_test  \n",
       "0       0.954034  \n",
       "1       0.959607  \n",
       "2       0.960469  \n",
       "3       0.824868  \n",
       "4       0.970696  \n",
       "5       0.971501  \n",
       "6       0.940991  \n",
       "7       0.113595  "
      ]
     },
     "execution_count": 608,
     "metadata": {},
     "output_type": "execute_result"
    }
   ],
   "source": [
    "pd.concat([Nazwa_modelu,F1_train,AC_train, F1_test,AC_test], axis=1)"
   ]
  },
  {
   "cell_type": "code",
   "execution_count": 621,
   "metadata": {
    "collapsed": false,
    "scrolled": true
   },
   "outputs": [
    {
     "name": "stdout",
     "output_type": "stream",
     "text": [
      "F1_train: 0.2572713643178411\n",
      "Accuracy_train: 0.9644190990576879\n",
      "F1_test: 0.13578826237054084\n",
      "Accuracy_test: 0.9568490002298322\n"
     ]
    }
   ],
   "source": [
    "# Dodatkowo jeszcze raz wyniki Komitetu:\n",
    "komitet = stworz_komitet(DecisionTreeClassifier(min_samples_leaf=10),\n",
    "                        50,\n",
    "                        X_train, y_train)\n",
    "\n",
    "print(\"F1_train:\",f1_score(y_train, predykcja(komitet, X_train)))\n",
    "print(\"Accuracy_train:\",accuracy_score(predykcja(komitet, X_train),y_train))\n",
    "print(\"F1_test:\",f1_score(y_test, predykcja(komitet, X_test)))\n",
    "print(\"Accuracy_test:\",accuracy_score(predykcja(komitet, X_test),y_test))\n"
   ]
  },
  {
   "cell_type": "code",
   "execution_count": null,
   "metadata": {
    "collapsed": true
   },
   "outputs": [],
   "source": [
    "# WNIOSKI: \n",
    "# Najlepsze wyniki osiągnęły klasyfikatory XGBClassifier oraz GradientBoostingClassifier na zbiorze\n",
    "# Train_oversample (i = 13000): Accuracy_score około 0.97 (train i test),\n",
    "# F1 train około 0.17, F1 test około 0.15"
   ]
  }
 ],
 "metadata": {
  "kernelspec": {
   "display_name": "Python 3",
   "language": "python",
   "name": "python3"
  },
  "language_info": {
   "codemirror_mode": {
    "name": "ipython",
    "version": 3
   },
   "file_extension": ".py",
   "mimetype": "text/x-python",
   "name": "python",
   "nbconvert_exporter": "python",
   "pygments_lexer": "ipython3",
   "version": "3.6.8"
  }
 },
 "nbformat": 4,
 "nbformat_minor": 2
}
